{
 "cells": [
  {
   "cell_type": "code",
   "execution_count": 1,
   "id": "47d73322-09c0-4a77-9e40-6e7a0d865b66",
   "metadata": {},
   "outputs": [],
   "source": [
    "import numpy as np\n",
    "import pandas as pd"
   ]
  },
  {
   "cell_type": "markdown",
   "id": "70ef1f03-985b-4866-b21f-d75a9609fb45",
   "metadata": {},
   "source": [
    "# pandas\n",
    "* 행에 '열 레이블index'을 부착한 n차원 행렬\n",
    "* 자료구조를 제공하는 파이썬 라이브러리\n",
    "* 지원하는 자료구조는 Series, DataFrame, Panel임\n",
    "* 단, 0.20이후로 Panel은 deprecated 됨\n",
    "* numpy 기반으로 구현되어 처리속도가 빠름\n",
    "* pandas의 창시자 중 한 명은 해지펀드 애널리스트로 일하며 파이썬에서 금융 시계열을 다루기 위한 \n",
    "  목적으로 개발함\n",
    "* 공식사이트 : pandas.pydata.org\n",
    "* 설치방법 : pip install pandas"
   ]
  },
  {
   "cell_type": "markdown",
   "id": "45e16eb5-864d-4d14-bfc6-939c5e316e88",
   "metadata": {},
   "source": [
    "# pandas 자료구조 1 : series\n",
    "* R의 벡터와 유사한 자료구조 : 1차원 배열\n",
    "* series 생성\n",
    "  + pd.Series(데이터, 인덱스, 자료형)"
   ]
  },
  {
   "cell_type": "code",
   "execution_count": 2,
   "id": "e9d9da3d-bf08-4d20-84ab-ec85650f4832",
   "metadata": {},
   "outputs": [
    {
     "name": "stderr",
     "output_type": "stream",
     "text": [
      "<ipython-input-2-71f2bbe7c66b>:2: FutureWarning: The default dtype for empty Series will be 'object' instead of 'float64' in a future version. Specify a dtype explicitly to silence this warning.\n",
      "  a = pd.Series()\n"
     ]
    },
    {
     "data": {
      "text/plain": [
       "Series([], dtype: float64)"
      ]
     },
     "execution_count": 2,
     "metadata": {},
     "output_type": "execute_result"
    }
   ],
   "source": [
    "# 빈 series 객체 생성\n",
    "a = pd.Series()\n",
    "a"
   ]
  },
  {
   "cell_type": "code",
   "execution_count": 4,
   "id": "d5f5e481-40e5-4d40-8063-9d299953b284",
   "metadata": {},
   "outputs": [
    {
     "data": {
      "text/plain": [
       "0    1\n",
       "1    2\n",
       "2    3\n",
       "3    4\n",
       "4    5\n",
       "dtype: int64"
      ]
     },
     "execution_count": 4,
     "metadata": {},
     "output_type": "execute_result"
    }
   ],
   "source": [
    "# numpy 배열로 Series 객체 생성\n",
    "b = pd.Series([1,2,3,4,5])\n",
    "b"
   ]
  },
  {
   "cell_type": "code",
   "execution_count": 8,
   "id": "02895f55-dbad-456c-b77a-30a52e6d51e9",
   "metadata": {},
   "outputs": [
    {
     "data": {
      "text/plain": [
       "a    1\n",
       "b    2\n",
       "c    3\n",
       "d    4\n",
       "e    5\n",
       "dtype: int64"
      ]
     },
     "execution_count": 8,
     "metadata": {},
     "output_type": "execute_result"
    }
   ],
   "source": [
    "# Series 객체 생성시 인덱스 지정\n",
    "c =  pd.Series([1,2,3,4,5], index = ['a','b','c','d','e'])\n",
    "c"
   ]
  },
  {
   "cell_type": "code",
   "execution_count": 13,
   "id": "a1a481b6-bc8b-4201-bbc4-4d2e78728974",
   "metadata": {},
   "outputs": [
    {
     "name": "stdout",
     "output_type": "stream",
     "text": [
      "[1 2 3 4 5]\n",
      "Index(['a', 'b', 'c', 'd', 'e'], dtype='object')\n",
      "3\n",
      "c    3\n",
      "d    4\n",
      "dtype: int64\n"
     ]
    }
   ],
   "source": [
    "# Series 객체 다루기\n",
    "print(c.values)\n",
    "print(c.index)\n",
    "print(c[2])\n",
    "print(c[2:4])"
   ]
  },
  {
   "cell_type": "markdown",
   "id": "1a1acea6-d0ea-44e5-9afd-dbea32ddec01",
   "metadata": {},
   "source": [
    "# pandas 인덱서\n",
    "* pandas 자료구조에서 정수형 인덱스를 사용하는 경우\n",
    "  파이썬의 slice 연산과 혼동될 위험이 존재\n",
    "* 따라서, pandas 만의 특별한 인덱서indexer 제공\n",
    "  + iloc : 정수형 인덱스로 요소를 조회\n",
    "  + loc : 문자형 인덱스로 요소를 조회\n",
    "  + ix : 정수/문자형 인덱스로 요소를 조회 (dataframe)"
   ]
  },
  {
   "cell_type": "code",
   "execution_count": 14,
   "id": "b26af2b8-b9d8-4267-973c-7cc19f9f1abd",
   "metadata": {},
   "outputs": [
    {
     "data": {
      "text/plain": [
       "가    9\n",
       "나    8\n",
       "다    7\n",
       "라    6\n",
       "마    5\n",
       "dtype: int64"
      ]
     },
     "execution_count": 14,
     "metadata": {},
     "output_type": "execute_result"
    }
   ],
   "source": [
    "d = pd.Series([9,8,7,6,5], index=['가','나','다','라','마'])\n",
    "d"
   ]
  },
  {
   "cell_type": "code",
   "execution_count": 18,
   "id": "f3c35044-558f-4cf1-8abc-d468410a32bd",
   "metadata": {},
   "outputs": [
    {
     "name": "stdout",
     "output_type": "stream",
     "text": [
      "8\n",
      "다    7\n",
      "라    6\n",
      "dtype: int64\n"
     ]
    }
   ],
   "source": [
    "print(d[1])\n",
    "print(d[2:4])"
   ]
  },
  {
   "cell_type": "code",
   "execution_count": 19,
   "id": "63a28588-0f24-458e-8868-e678a71d5c90",
   "metadata": {},
   "outputs": [
    {
     "name": "stdout",
     "output_type": "stream",
     "text": [
      "8\n",
      "다    7\n",
      "라    6\n",
      "dtype: int64\n"
     ]
    }
   ],
   "source": [
    "print(d.iloc[1])  # pandas 인덱스(숫자)\n",
    "print(d.iloc[2:4])"
   ]
  },
  {
   "cell_type": "code",
   "execution_count": 21,
   "id": "17a6bbbb-ad23-48e2-8aea-b64d9f88c226",
   "metadata": {},
   "outputs": [
    {
     "name": "stdout",
     "output_type": "stream",
     "text": [
      "8\n",
      "다    7\n",
      "라    6\n",
      "dtype: int64\n"
     ]
    }
   ],
   "source": [
    "print(d.loc['나'])   # pandas 인덱스(문자)\n",
    "print(d.loc['다':'라'])"
   ]
  },
  {
   "cell_type": "code",
   "execution_count": 22,
   "id": "f9aeb13a-34b0-4dba-a478-979ab3095fe9",
   "metadata": {},
   "outputs": [
    {
     "data": {
      "text/plain": [
       "a    1\n",
       "b    2\n",
       "c    3\n",
       "d    4\n",
       "e    5\n",
       "dtype: int64"
      ]
     },
     "execution_count": 22,
     "metadata": {},
     "output_type": "execute_result"
    }
   ],
   "source": [
    "# dict로 series 객체 생성 (추천)\n",
    "data = {'a':1, 'b':2, 'c':3, 'd':4, 'e':5}\n",
    "e = pd.Series(data)\n",
    "e"
   ]
  },
  {
   "cell_type": "code",
   "execution_count": 23,
   "id": "70c94bcb-626f-4f17-a50a-2baa2aa15d5f",
   "metadata": {},
   "outputs": [
    {
     "data": {
      "text/plain": [
       "z    1\n",
       "y    2\n",
       "w    3\n",
       "x    4\n",
       "v    5\n",
       "dtype: int64"
      ]
     },
     "execution_count": 23,
     "metadata": {},
     "output_type": "execute_result"
    }
   ],
   "source": [
    "# 객체 생성후 인덱스 재설정\n",
    "# 객체명.index = 리스트\n",
    "e.index = ['z','y','w','x','v']\n",
    "e"
   ]
  },
  {
   "cell_type": "code",
   "execution_count": 33,
   "id": "00d6c8dd-8f09-4903-80e9-dd9f7a6d8da3",
   "metadata": {},
   "outputs": [
    {
     "data": {
      "text/plain": [
       "0     1\n",
       "1     3\n",
       "2     5\n",
       "3     2\n",
       "4    11\n",
       "5     9\n",
       "6     3\n",
       "7     9\n",
       "8    12\n",
       "9     3\n",
       "dtype: int64"
      ]
     },
     "execution_count": 33,
     "metadata": {},
     "output_type": "execute_result"
    }
   ],
   "source": [
    "# 신생아 월별 몸무게 추이 데이터\n",
    "age = pd.Series([1,3,5,2,11,9,3,9,12,3])\n",
    "weight = pd.Series([4.4, 5.3, 7.2, 5.2, 5.5, 7.3, 6.0, 10.4, 10.2, 6.1])\n",
    "age"
   ]
  },
  {
   "cell_type": "code",
   "execution_count": 34,
   "id": "35fa5525-6762-42bd-a116-8eedc2ca27f6",
   "metadata": {},
   "outputs": [
    {
     "data": {
      "text/plain": [
       "0     4.4\n",
       "1     5.3\n",
       "2     7.2\n",
       "3     5.2\n",
       "4     5.5\n",
       "5     7.3\n",
       "6     6.0\n",
       "7    10.4\n",
       "8    10.2\n",
       "9     6.1\n",
       "dtype: float64"
      ]
     },
     "execution_count": 34,
     "metadata": {},
     "output_type": "execute_result"
    }
   ],
   "source": [
    "weight"
   ]
  },
  {
   "cell_type": "markdown",
   "id": "a55cfedc-c7d6-4e0b-a7da-4d126b69c6ea",
   "metadata": {},
   "source": [
    "# pandas 자료구조 2 : dataframe\n",
    "* R의 데이터프레임과 유사한 자료구조 : 2차원 테이블\n",
    "* pd.DataFrame(데이터, 인덱스, 컬럼레이블, 자료형)"
   ]
  },
  {
   "cell_type": "code",
   "execution_count": 35,
   "id": "9bfc8611-2b07-4059-9c58-71746a78a630",
   "metadata": {},
   "outputs": [
    {
     "data": {
      "text/html": [
       "<div>\n",
       "<style scoped>\n",
       "    .dataframe tbody tr th:only-of-type {\n",
       "        vertical-align: middle;\n",
       "    }\n",
       "\n",
       "    .dataframe tbody tr th {\n",
       "        vertical-align: top;\n",
       "    }\n",
       "\n",
       "    .dataframe thead th {\n",
       "        text-align: right;\n",
       "    }\n",
       "</style>\n",
       "<table border=\"1\" class=\"dataframe\">\n",
       "  <thead>\n",
       "    <tr style=\"text-align: right;\">\n",
       "      <th></th>\n",
       "    </tr>\n",
       "  </thead>\n",
       "  <tbody>\n",
       "  </tbody>\n",
       "</table>\n",
       "</div>"
      ],
      "text/plain": [
       "Empty DataFrame\n",
       "Columns: []\n",
       "Index: []"
      ]
     },
     "execution_count": 35,
     "metadata": {},
     "output_type": "execute_result"
    }
   ],
   "source": [
    "# 빈 데이터프레임 생성\n",
    "f = pd.DataFrame()\n",
    "f"
   ]
  },
  {
   "cell_type": "code",
   "execution_count": 36,
   "id": "d95c8c8b-260c-410b-800b-f1d42168dc45",
   "metadata": {},
   "outputs": [
    {
     "data": {
      "text/html": [
       "<div>\n",
       "<style scoped>\n",
       "    .dataframe tbody tr th:only-of-type {\n",
       "        vertical-align: middle;\n",
       "    }\n",
       "\n",
       "    .dataframe tbody tr th {\n",
       "        vertical-align: top;\n",
       "    }\n",
       "\n",
       "    .dataframe thead th {\n",
       "        text-align: right;\n",
       "    }\n",
       "</style>\n",
       "<table border=\"1\" class=\"dataframe\">\n",
       "  <thead>\n",
       "    <tr style=\"text-align: right;\">\n",
       "      <th></th>\n",
       "      <th>0</th>\n",
       "    </tr>\n",
       "  </thead>\n",
       "  <tbody>\n",
       "    <tr>\n",
       "      <th>0</th>\n",
       "      <td>1</td>\n",
       "    </tr>\n",
       "    <tr>\n",
       "      <th>1</th>\n",
       "      <td>2</td>\n",
       "    </tr>\n",
       "    <tr>\n",
       "      <th>2</th>\n",
       "      <td>3</td>\n",
       "    </tr>\n",
       "    <tr>\n",
       "      <th>3</th>\n",
       "      <td>4</td>\n",
       "    </tr>\n",
       "    <tr>\n",
       "      <th>4</th>\n",
       "      <td>5</td>\n",
       "    </tr>\n",
       "  </tbody>\n",
       "</table>\n",
       "</div>"
      ],
      "text/plain": [
       "   0\n",
       "0  1\n",
       "1  2\n",
       "2  3\n",
       "3  4\n",
       "4  5"
      ]
     },
     "execution_count": 36,
     "metadata": {},
     "output_type": "execute_result"
    }
   ],
   "source": [
    "data = [1,2,3,4,5]\n",
    "g = pd.DataFrame(data)\n",
    "g    # 인덱스 자동생성, 컬럼명 없음"
   ]
  },
  {
   "cell_type": "code",
   "execution_count": 37,
   "id": "d0ae0923-0ac0-434f-ab72-2ccad0c569dc",
   "metadata": {},
   "outputs": [
    {
     "data": {
      "text/html": [
       "<div>\n",
       "<style scoped>\n",
       "    .dataframe tbody tr th:only-of-type {\n",
       "        vertical-align: middle;\n",
       "    }\n",
       "\n",
       "    .dataframe tbody tr th {\n",
       "        vertical-align: top;\n",
       "    }\n",
       "\n",
       "    .dataframe thead th {\n",
       "        text-align: right;\n",
       "    }\n",
       "</style>\n",
       "<table border=\"1\" class=\"dataframe\">\n",
       "  <thead>\n",
       "    <tr style=\"text-align: right;\">\n",
       "      <th></th>\n",
       "      <th>가</th>\n",
       "    </tr>\n",
       "  </thead>\n",
       "  <tbody>\n",
       "    <tr>\n",
       "      <th>0</th>\n",
       "      <td>1</td>\n",
       "    </tr>\n",
       "    <tr>\n",
       "      <th>1</th>\n",
       "      <td>2</td>\n",
       "    </tr>\n",
       "    <tr>\n",
       "      <th>2</th>\n",
       "      <td>3</td>\n",
       "    </tr>\n",
       "    <tr>\n",
       "      <th>3</th>\n",
       "      <td>4</td>\n",
       "    </tr>\n",
       "    <tr>\n",
       "      <th>4</th>\n",
       "      <td>5</td>\n",
       "    </tr>\n",
       "  </tbody>\n",
       "</table>\n",
       "</div>"
      ],
      "text/plain": [
       "   가\n",
       "0  1\n",
       "1  2\n",
       "2  3\n",
       "3  4\n",
       "4  5"
      ]
     },
     "execution_count": 37,
     "metadata": {},
     "output_type": "execute_result"
    }
   ],
   "source": [
    "h = pd.DataFrame(data,columns=['가'])\n",
    "h"
   ]
  },
  {
   "cell_type": "code",
   "execution_count": 39,
   "id": "8d68ebab-58bc-4614-94d9-efe389efb3a8",
   "metadata": {},
   "outputs": [
    {
     "data": {
      "text/html": [
       "<div>\n",
       "<style scoped>\n",
       "    .dataframe tbody tr th:only-of-type {\n",
       "        vertical-align: middle;\n",
       "    }\n",
       "\n",
       "    .dataframe tbody tr th {\n",
       "        vertical-align: top;\n",
       "    }\n",
       "\n",
       "    .dataframe thead th {\n",
       "        text-align: right;\n",
       "    }\n",
       "</style>\n",
       "<table border=\"1\" class=\"dataframe\">\n",
       "  <thead>\n",
       "    <tr style=\"text-align: right;\">\n",
       "      <th></th>\n",
       "      <th>이름</th>\n",
       "      <th>국어</th>\n",
       "    </tr>\n",
       "  </thead>\n",
       "  <tbody>\n",
       "    <tr>\n",
       "      <th>0</th>\n",
       "      <td>혜교</td>\n",
       "      <td>54</td>\n",
       "    </tr>\n",
       "    <tr>\n",
       "      <th>1</th>\n",
       "      <td>지현</td>\n",
       "      <td>77</td>\n",
       "    </tr>\n",
       "    <tr>\n",
       "      <th>2</th>\n",
       "      <td>수지</td>\n",
       "      <td>89</td>\n",
       "    </tr>\n",
       "  </tbody>\n",
       "</table>\n",
       "</div>"
      ],
      "text/plain": [
       "   이름  국어\n",
       "0  혜교  54\n",
       "1  지현  77\n",
       "2  수지  89"
      ]
     },
     "execution_count": 39,
     "metadata": {},
     "output_type": "execute_result"
    }
   ],
   "source": [
    "# 3행 2열 배열로 데이터프레임 생성\n",
    "data = [['혜교',54],['지현',77],['수지',89]]\n",
    "i = pd.DataFrame(data, columns=('이름', '국어'))\n",
    "i"
   ]
  },
  {
   "cell_type": "code",
   "execution_count": 40,
   "id": "4d203b1c-3811-492b-b0e7-8a855e221122",
   "metadata": {},
   "outputs": [
    {
     "data": {
      "text/html": [
       "<div>\n",
       "<style scoped>\n",
       "    .dataframe tbody tr th:only-of-type {\n",
       "        vertical-align: middle;\n",
       "    }\n",
       "\n",
       "    .dataframe tbody tr th {\n",
       "        vertical-align: top;\n",
       "    }\n",
       "\n",
       "    .dataframe thead th {\n",
       "        text-align: right;\n",
       "    }\n",
       "</style>\n",
       "<table border=\"1\" class=\"dataframe\">\n",
       "  <thead>\n",
       "    <tr style=\"text-align: right;\">\n",
       "      <th></th>\n",
       "      <th>이름</th>\n",
       "      <th>국어</th>\n",
       "    </tr>\n",
       "  </thead>\n",
       "  <tbody>\n",
       "    <tr>\n",
       "      <th>0</th>\n",
       "      <td>혜교</td>\n",
       "      <td>54</td>\n",
       "    </tr>\n",
       "    <tr>\n",
       "      <th>1</th>\n",
       "      <td>지현</td>\n",
       "      <td>79</td>\n",
       "    </tr>\n",
       "    <tr>\n",
       "      <th>2</th>\n",
       "      <td>수지</td>\n",
       "      <td>89</td>\n",
       "    </tr>\n",
       "  </tbody>\n",
       "</table>\n",
       "</div>"
      ],
      "text/plain": [
       "   이름  국어\n",
       "0  혜교  54\n",
       "1  지현  79\n",
       "2  수지  89"
      ]
     },
     "execution_count": 40,
     "metadata": {},
     "output_type": "execute_result"
    }
   ],
   "source": [
    "# dict 객체로 dataframe 생성\n",
    "data = {'이름':['혜교','지현','수지'], '국어':['54','79','89']}\n",
    "j = pd.DataFrame(data)\n",
    "j"
   ]
  },
  {
   "cell_type": "code",
   "execution_count": 41,
   "id": "042ffb59-bc4c-4485-925b-18557bed26e8",
   "metadata": {
    "tags": []
   },
   "outputs": [
    {
     "data": {
      "text/html": [
       "<div>\n",
       "<style scoped>\n",
       "    .dataframe tbody tr th:only-of-type {\n",
       "        vertical-align: middle;\n",
       "    }\n",
       "\n",
       "    .dataframe tbody tr th {\n",
       "        vertical-align: top;\n",
       "    }\n",
       "\n",
       "    .dataframe thead th {\n",
       "        text-align: right;\n",
       "    }\n",
       "</style>\n",
       "<table border=\"1\" class=\"dataframe\">\n",
       "  <thead>\n",
       "    <tr style=\"text-align: right;\">\n",
       "      <th></th>\n",
       "      <th>이름</th>\n",
       "      <th>국어</th>\n",
       "    </tr>\n",
       "  </thead>\n",
       "  <tbody>\n",
       "    <tr>\n",
       "      <th>0</th>\n",
       "      <td>혜교</td>\n",
       "      <td>54</td>\n",
       "    </tr>\n",
       "    <tr>\n",
       "      <th>1</th>\n",
       "      <td>지현</td>\n",
       "      <td>79</td>\n",
       "    </tr>\n",
       "    <tr>\n",
       "      <th>2</th>\n",
       "      <td>수지</td>\n",
       "      <td>89</td>\n",
       "    </tr>\n",
       "  </tbody>\n",
       "</table>\n",
       "</div>"
      ],
      "text/plain": [
       "   이름  국어\n",
       "0  혜교  54\n",
       "1  지현  79\n",
       "2  수지  89"
      ]
     },
     "execution_count": 41,
     "metadata": {},
     "output_type": "execute_result"
    }
   ],
   "source": [
    "# dict 객체로 dataframe 생성\n",
    "data = [{'이름':'혜교', '국어':54},\n",
    "        {'이름':'지현', '국어':79},\n",
    "        {'이름':'수지', '국어':89}]\n",
    "j = pd.DataFrame(data)\n",
    "j"
   ]
  },
  {
   "cell_type": "code",
   "execution_count": 42,
   "id": "3ed99841-cfb3-448e-8010-24d646a838e8",
   "metadata": {},
   "outputs": [
    {
     "data": {
      "text/html": [
       "<div>\n",
       "<style scoped>\n",
       "    .dataframe tbody tr th:only-of-type {\n",
       "        vertical-align: middle;\n",
       "    }\n",
       "\n",
       "    .dataframe tbody tr th {\n",
       "        vertical-align: top;\n",
       "    }\n",
       "\n",
       "    .dataframe thead th {\n",
       "        text-align: right;\n",
       "    }\n",
       "</style>\n",
       "<table border=\"1\" class=\"dataframe\">\n",
       "  <thead>\n",
       "    <tr style=\"text-align: right;\">\n",
       "      <th></th>\n",
       "      <th>이름</th>\n",
       "      <th>국어</th>\n",
       "    </tr>\n",
       "  </thead>\n",
       "  <tbody>\n",
       "    <tr>\n",
       "      <th>0</th>\n",
       "      <td>혜교</td>\n",
       "      <td>54</td>\n",
       "    </tr>\n",
       "    <tr>\n",
       "      <th>1</th>\n",
       "      <td>지현</td>\n",
       "      <td>79</td>\n",
       "    </tr>\n",
       "    <tr>\n",
       "      <th>2</th>\n",
       "      <td>수지</td>\n",
       "      <td>89</td>\n",
       "    </tr>\n",
       "  </tbody>\n",
       "</table>\n",
       "</div>"
      ],
      "text/plain": [
       "   이름  국어\n",
       "0  혜교  54\n",
       "1  지현  79\n",
       "2  수지  89"
      ]
     },
     "execution_count": 42,
     "metadata": {},
     "output_type": "execute_result"
    }
   ],
   "source": [
    "# series 객체로 dataframe 생성\n",
    "name = pd.Series(['혜교','지현','수지'])\n",
    "kor = pd.Series(['54','79','89'])\n",
    "data = {'이름':name, '국어':kor}\n",
    "k = pd.DataFrame(data)\n",
    "k"
   ]
  },
  {
   "cell_type": "code",
   "execution_count": 43,
   "id": "e22513b1-48ac-4419-a44b-1389b624bc7c",
   "metadata": {},
   "outputs": [
    {
     "data": {
      "text/html": [
       "<div>\n",
       "<style scoped>\n",
       "    .dataframe tbody tr th:only-of-type {\n",
       "        vertical-align: middle;\n",
       "    }\n",
       "\n",
       "    .dataframe tbody tr th {\n",
       "        vertical-align: top;\n",
       "    }\n",
       "\n",
       "    .dataframe thead th {\n",
       "        text-align: right;\n",
       "    }\n",
       "</style>\n",
       "<table border=\"1\" class=\"dataframe\">\n",
       "  <thead>\n",
       "    <tr style=\"text-align: right;\">\n",
       "      <th></th>\n",
       "      <th>이름</th>\n",
       "      <th>국어</th>\n",
       "    </tr>\n",
       "  </thead>\n",
       "  <tbody>\n",
       "    <tr>\n",
       "      <th>0</th>\n",
       "      <td>혜교</td>\n",
       "      <td>54</td>\n",
       "    </tr>\n",
       "    <tr>\n",
       "      <th>1</th>\n",
       "      <td>지현</td>\n",
       "      <td>79</td>\n",
       "    </tr>\n",
       "    <tr>\n",
       "      <th>2</th>\n",
       "      <td>수지</td>\n",
       "      <td>89</td>\n",
       "    </tr>\n",
       "  </tbody>\n",
       "</table>\n",
       "</div>"
      ],
      "text/plain": [
       "   이름  국어\n",
       "0  혜교  54\n",
       "1  지현  79\n",
       "2  수지  89"
      ]
     },
     "execution_count": 43,
     "metadata": {},
     "output_type": "execute_result"
    }
   ],
   "source": [
    "name = ['혜교','지현','수지']\n",
    "kor = ['54','79','89']\n",
    "data = {'이름':name, '국어':kor}\n",
    "k = pd.DataFrame(data)\n",
    "k"
   ]
  },
  {
   "cell_type": "code",
   "execution_count": 62,
   "id": "5fa55a81-da06-4a9e-a3ad-13a2c3dc850c",
   "metadata": {},
   "outputs": [
    {
     "data": {
      "text/html": [
       "<div>\n",
       "<style scoped>\n",
       "    .dataframe tbody tr th:only-of-type {\n",
       "        vertical-align: middle;\n",
       "    }\n",
       "\n",
       "    .dataframe tbody tr th {\n",
       "        vertical-align: top;\n",
       "    }\n",
       "\n",
       "    .dataframe thead th {\n",
       "        text-align: right;\n",
       "    }\n",
       "</style>\n",
       "<table border=\"1\" class=\"dataframe\">\n",
       "  <thead>\n",
       "    <tr style=\"text-align: right;\">\n",
       "      <th></th>\n",
       "      <th>patientID</th>\n",
       "      <th>amdate</th>\n",
       "      <th>age</th>\n",
       "      <th>diabetes</th>\n",
       "      <th>status</th>\n",
       "    </tr>\n",
       "  </thead>\n",
       "  <tbody>\n",
       "    <tr>\n",
       "      <th>1</th>\n",
       "      <td>1</td>\n",
       "      <td>10/15/2015</td>\n",
       "      <td>25</td>\n",
       "      <td>Type1</td>\n",
       "      <td>Poor</td>\n",
       "    </tr>\n",
       "    <tr>\n",
       "      <th>2</th>\n",
       "      <td>2</td>\n",
       "      <td>11/01/2014</td>\n",
       "      <td>34</td>\n",
       "      <td>Type2</td>\n",
       "      <td>Improved</td>\n",
       "    </tr>\n",
       "    <tr>\n",
       "      <th>3</th>\n",
       "      <td>3</td>\n",
       "      <td>10/21/2014</td>\n",
       "      <td>28</td>\n",
       "      <td>Type3</td>\n",
       "      <td>Excllent</td>\n",
       "    </tr>\n",
       "    <tr>\n",
       "      <th>4</th>\n",
       "      <td>4</td>\n",
       "      <td>10/28/2014</td>\n",
       "      <td>52</td>\n",
       "      <td>Type4</td>\n",
       "      <td>Poor</td>\n",
       "    </tr>\n",
       "  </tbody>\n",
       "</table>\n",
       "</div>"
      ],
      "text/plain": [
       "  patientID      amdate age diabetes    status\n",
       "1         1  10/15/2015  25    Type1      Poor\n",
       "2         2  11/01/2014  34    Type2  Improved\n",
       "3         3  10/21/2014  28    Type3  Excllent\n",
       "4         4  10/28/2014  52    Type4      Poor"
      ]
     },
     "execution_count": 62,
     "metadata": {},
     "output_type": "execute_result"
    }
   ],
   "source": [
    "pat = ['1','2','3','4']\n",
    "amd = ['10/15/2015','11/01/2014','10/21/2014', '10/28/2014']\n",
    "age = ['25','34','28','52']\n",
    "dia = ['Type1','Type2','Type3','Type4']\n",
    "sta = ['Poor', 'Improved','Excllent','Poor']\n",
    "data = {'patientID':pat,'amdate':amd, 'age':age, 'diabetes':dia, 'status':sta}\n",
    "patient = pd.DataFrame(data, index = [1,2,3,4])\n",
    "patient"
   ]
  },
  {
   "cell_type": "code",
   "execution_count": 60,
   "id": "95d2aaa2-ba88-4000-8bce-8ed5a164c0eb",
   "metadata": {},
   "outputs": [
    {
     "data": {
      "text/html": [
       "<div>\n",
       "<style scoped>\n",
       "    .dataframe tbody tr th:only-of-type {\n",
       "        vertical-align: middle;\n",
       "    }\n",
       "\n",
       "    .dataframe tbody tr th {\n",
       "        vertical-align: top;\n",
       "    }\n",
       "\n",
       "    .dataframe thead th {\n",
       "        text-align: right;\n",
       "    }\n",
       "</style>\n",
       "<table border=\"1\" class=\"dataframe\">\n",
       "  <thead>\n",
       "    <tr style=\"text-align: right;\">\n",
       "      <th></th>\n",
       "      <th>Manager</th>\n",
       "      <th>Date</th>\n",
       "      <th>Country</th>\n",
       "      <th>Gender</th>\n",
       "      <th>Age</th>\n",
       "      <th>q1</th>\n",
       "      <th>q2</th>\n",
       "      <th>q3</th>\n",
       "      <th>q4</th>\n",
       "      <th>q5</th>\n",
       "    </tr>\n",
       "  </thead>\n",
       "  <tbody>\n",
       "    <tr>\n",
       "      <th>1</th>\n",
       "      <td>1</td>\n",
       "      <td>10/24/14</td>\n",
       "      <td>US</td>\n",
       "      <td>M</td>\n",
       "      <td>32</td>\n",
       "      <td>5</td>\n",
       "      <td>4</td>\n",
       "      <td>5</td>\n",
       "      <td>5</td>\n",
       "      <td>5</td>\n",
       "    </tr>\n",
       "    <tr>\n",
       "      <th>2</th>\n",
       "      <td>2</td>\n",
       "      <td>10/28/14</td>\n",
       "      <td>US</td>\n",
       "      <td>F</td>\n",
       "      <td>45</td>\n",
       "      <td>3</td>\n",
       "      <td>5</td>\n",
       "      <td>2</td>\n",
       "      <td>5</td>\n",
       "      <td>5</td>\n",
       "    </tr>\n",
       "    <tr>\n",
       "      <th>3</th>\n",
       "      <td>3</td>\n",
       "      <td>10/01/14</td>\n",
       "      <td>UK</td>\n",
       "      <td>F</td>\n",
       "      <td>25</td>\n",
       "      <td>3</td>\n",
       "      <td>5</td>\n",
       "      <td>5</td>\n",
       "      <td>5</td>\n",
       "      <td>2</td>\n",
       "    </tr>\n",
       "    <tr>\n",
       "      <th>4</th>\n",
       "      <td>4</td>\n",
       "      <td>10/12/14</td>\n",
       "      <td>UK</td>\n",
       "      <td>M</td>\n",
       "      <td>39</td>\n",
       "      <td>3</td>\n",
       "      <td>3</td>\n",
       "      <td>4</td>\n",
       "      <td>None</td>\n",
       "      <td>NaN</td>\n",
       "    </tr>\n",
       "    <tr>\n",
       "      <th>5</th>\n",
       "      <td>5</td>\n",
       "      <td>05/01/14</td>\n",
       "      <td>UK</td>\n",
       "      <td>F</td>\n",
       "      <td>99</td>\n",
       "      <td>2</td>\n",
       "      <td>2</td>\n",
       "      <td>1</td>\n",
       "      <td>2</td>\n",
       "      <td>1</td>\n",
       "    </tr>\n",
       "  </tbody>\n",
       "</table>\n",
       "</div>"
      ],
      "text/plain": [
       "   Manager      Date Country Gender Age q1 q2 q3    q4   q5\n",
       "1        1  10/24/14      US      M  32  5  4  5     5    5\n",
       "2        2  10/28/14      US      F  45  3  5  2     5    5\n",
       "3        3  10/01/14      UK      F  25  3  5  5     5    2\n",
       "4        4  10/12/14      UK      M  39  3  3  4  None  NaN\n",
       "5        5  05/01/14      UK      F  99  2  2  1     2    1"
      ]
     },
     "execution_count": 60,
     "metadata": {},
     "output_type": "execute_result"
    }
   ],
   "source": [
    "man = np.arange(1,6)      # ['1','2','3','4','5']\n",
    "date = ['10/24/14','10/28/14','10/01/14','10/12/14','05/01/14']\n",
    "coun = ['US','US','UK','UK','UK']\n",
    "gend = ['M','F','F','M','F']\n",
    "age = ['32','45','25','39','99']\n",
    "q1 = ['5','3','3','3','2']\n",
    "q2 = ['4','5','5','3','2']\n",
    "q3 = ['5','2','5','4','1']\n",
    "q4 = ['5','5','5',None,'2']    # np.nan\n",
    "q5 = ['5','5','2',np.nan,'1']\n",
    "data = {'Manager':man,'Date':date, 'Country':coun, 'Gender':gend, 'Age':age, 'q1':q1, 'q2':q2, 'q3':q3, 'q4':q4, 'q5':q5}\n",
    "leadership = pd.DataFrame(data, index = np.arange(1,6))\n",
    "leadership"
   ]
  },
  {
   "cell_type": "code",
   "execution_count": 63,
   "id": "826dfe71-f046-4529-94ec-a7315001d728",
   "metadata": {},
   "outputs": [
    {
     "data": {
      "text/plain": [
       "1    32\n",
       "2    45\n",
       "3    25\n",
       "4    39\n",
       "5    99\n",
       "Name: Age, dtype: object"
      ]
     },
     "execution_count": 63,
     "metadata": {},
     "output_type": "execute_result"
    }
   ],
   "source": [
    "# 데이터프레임 각요소에 접근\n",
    "# leadership에서 age컬럼 접근\n",
    "# 객체명.컬럼명 또는 객체명[컬럼명]\n",
    "leadership.Age"
   ]
  },
  {
   "cell_type": "code",
   "execution_count": 65,
   "id": "37f5953a-9733-40de-8955-c66b977fbdb3",
   "metadata": {},
   "outputs": [
    {
     "data": {
      "text/plain": [
       "1    32\n",
       "2    45\n",
       "3    25\n",
       "4    39\n",
       "5    99\n",
       "Name: Age, dtype: object"
      ]
     },
     "execution_count": 65,
     "metadata": {},
     "output_type": "execute_result"
    }
   ],
   "source": [
    "leadership['Age']"
   ]
  },
  {
   "cell_type": "code",
   "execution_count": 67,
   "id": "01492e0b-9fd7-4d68-b05c-ed0c4be50797",
   "metadata": {},
   "outputs": [
    {
     "name": "stdout",
     "output_type": "stream",
     "text": [
      "1    32\n",
      "2    45\n",
      "3    25\n",
      "4    39\n",
      "5    99\n",
      "Name: Age, dtype: object\n"
     ]
    }
   ],
   "source": [
    "# 객체명.loc[컬럼명] 또는 객체명.iloc[컬럼인덱스]\n",
    "# ix인덱서는 pandas 0.23 부터 deprecated 됩\n",
    "print(leadership.loc[:, 'Age'])"
   ]
  },
  {
   "cell_type": "code",
   "execution_count": 69,
   "id": "6d02f68a-d8ae-4f33-bb9a-e8b0c460ea92",
   "metadata": {},
   "outputs": [
    {
     "name": "stdout",
     "output_type": "stream",
     "text": [
      "1    32\n",
      "2    45\n",
      "3    25\n",
      "4    39\n",
      "5    99\n",
      "Name: Age, dtype: object\n"
     ]
    }
   ],
   "source": [
    "print(leadership.iloc[:, 4])"
   ]
  },
  {
   "cell_type": "code",
   "execution_count": 74,
   "id": "2fca7fb5-4f27-4862-a7ae-629435021a3e",
   "metadata": {},
   "outputs": [
    {
     "name": "stdout",
     "output_type": "stream",
     "text": [
      "  q1 q2 q3    q4   q5\n",
      "1  5  4  5     5    5\n",
      "2  3  5  2     5    5\n",
      "3  3  5  5     5    2\n",
      "4  3  3  4  None  NaN\n",
      "5  2  2  1     2    1\n"
     ]
    }
   ],
   "source": [
    "# leadership에서 질문컬럼들은? \n",
    "print(leadership.iloc[:, 5:10])"
   ]
  },
  {
   "cell_type": "code",
   "execution_count": 76,
   "id": "a0efc95f-0583-4032-8182-9b44a983fdc7",
   "metadata": {},
   "outputs": [
    {
     "name": "stdout",
     "output_type": "stream",
     "text": [
      "  q1 q2 q3    q4   q5\n",
      "1  5  4  5     5    5\n",
      "2  3  5  2     5    5\n",
      "3  3  5  5     5    2\n",
      "4  3  3  4  None  NaN\n",
      "5  2  2  1     2    1\n"
     ]
    }
   ],
   "source": [
    "print(leadership.loc[:, 'q1':'q5'])"
   ]
  },
  {
   "cell_type": "code",
   "execution_count": 85,
   "id": "60de5ff4-3ed3-44c0-a114-2f2eea1cdb51",
   "metadata": {},
   "outputs": [
    {
     "data": {
      "text/html": [
       "<div>\n",
       "<style scoped>\n",
       "    .dataframe tbody tr th:only-of-type {\n",
       "        vertical-align: middle;\n",
       "    }\n",
       "\n",
       "    .dataframe tbody tr th {\n",
       "        vertical-align: top;\n",
       "    }\n",
       "\n",
       "    .dataframe thead th {\n",
       "        text-align: right;\n",
       "    }\n",
       "</style>\n",
       "<table border=\"1\" class=\"dataframe\">\n",
       "  <thead>\n",
       "    <tr style=\"text-align: right;\">\n",
       "      <th></th>\n",
       "      <th>amdate</th>\n",
       "      <th>diabetes</th>\n",
       "      <th>status</th>\n",
       "    </tr>\n",
       "  </thead>\n",
       "  <tbody>\n",
       "    <tr>\n",
       "      <th>1</th>\n",
       "      <td>10/15/2015</td>\n",
       "      <td>Type1</td>\n",
       "      <td>Poor</td>\n",
       "    </tr>\n",
       "    <tr>\n",
       "      <th>2</th>\n",
       "      <td>11/01/2014</td>\n",
       "      <td>Type2</td>\n",
       "      <td>Improved</td>\n",
       "    </tr>\n",
       "    <tr>\n",
       "      <th>3</th>\n",
       "      <td>10/21/2014</td>\n",
       "      <td>Type3</td>\n",
       "      <td>Excllent</td>\n",
       "    </tr>\n",
       "    <tr>\n",
       "      <th>4</th>\n",
       "      <td>10/28/2014</td>\n",
       "      <td>Type4</td>\n",
       "      <td>Poor</td>\n",
       "    </tr>\n",
       "  </tbody>\n",
       "</table>\n",
       "</div>"
      ],
      "text/plain": [
       "       amdate diabetes    status\n",
       "1  10/15/2015    Type1      Poor\n",
       "2  11/01/2014    Type2  Improved\n",
       "3  10/21/2014    Type3  Excllent\n",
       "4  10/28/2014    Type4      Poor"
      ]
     },
     "execution_count": 85,
     "metadata": {},
     "output_type": "execute_result"
    }
   ],
   "source": [
    "# patient 데이터프레임에서 검사일, 당뇨병유형, 상태를 출력하세요\n",
    "patient[['amdate', 'diabetes', 'status']]"
   ]
  },
  {
   "cell_type": "code",
   "execution_count": 87,
   "id": "c57dde6d-7402-49e4-b7a3-16860f7c350d",
   "metadata": {
    "tags": []
   },
   "outputs": [
    {
     "data": {
      "text/html": [
       "<div>\n",
       "<style scoped>\n",
       "    .dataframe tbody tr th:only-of-type {\n",
       "        vertical-align: middle;\n",
       "    }\n",
       "\n",
       "    .dataframe tbody tr th {\n",
       "        vertical-align: top;\n",
       "    }\n",
       "\n",
       "    .dataframe thead th {\n",
       "        text-align: right;\n",
       "    }\n",
       "</style>\n",
       "<table border=\"1\" class=\"dataframe\">\n",
       "  <thead>\n",
       "    <tr style=\"text-align: right;\">\n",
       "      <th></th>\n",
       "      <th>amdate</th>\n",
       "      <th>diabetes</th>\n",
       "      <th>status</th>\n",
       "    </tr>\n",
       "  </thead>\n",
       "  <tbody>\n",
       "    <tr>\n",
       "      <th>1</th>\n",
       "      <td>10/15/2015</td>\n",
       "      <td>Type1</td>\n",
       "      <td>Poor</td>\n",
       "    </tr>\n",
       "    <tr>\n",
       "      <th>2</th>\n",
       "      <td>11/01/2014</td>\n",
       "      <td>Type2</td>\n",
       "      <td>Improved</td>\n",
       "    </tr>\n",
       "    <tr>\n",
       "      <th>3</th>\n",
       "      <td>10/21/2014</td>\n",
       "      <td>Type3</td>\n",
       "      <td>Excllent</td>\n",
       "    </tr>\n",
       "    <tr>\n",
       "      <th>4</th>\n",
       "      <td>10/28/2014</td>\n",
       "      <td>Type4</td>\n",
       "      <td>Poor</td>\n",
       "    </tr>\n",
       "  </tbody>\n",
       "</table>\n",
       "</div>"
      ],
      "text/plain": [
       "       amdate diabetes    status\n",
       "1  10/15/2015    Type1      Poor\n",
       "2  11/01/2014    Type2  Improved\n",
       "3  10/21/2014    Type3  Excllent\n",
       "4  10/28/2014    Type4      Poor"
      ]
     },
     "execution_count": 87,
     "metadata": {},
     "output_type": "execute_result"
    }
   ],
   "source": [
    "patient.iloc[:, [1,3,4]]"
   ]
  },
  {
   "cell_type": "markdown",
   "id": "0cfb9a11-21b2-4710-8455-78afc377f661",
   "metadata": {},
   "source": [
    "# 외부 데이터파일을 이용해서 dataframe 객체 만들기\n",
    "* csv, excel, json, xml,... 등등  지원함\n",
    "* pd.read_csv(경로, 구분자, 인코딩, ...)\n",
    "* dataframe 출력시 컬럼이 잘리는 경우\n",
    "  + pd.set_option함수를 이용해서 출력양식을 변경함\n",
    "  + pd.set_option('display.max_columns', 50)\n",
    "  + pd.set_option('display.width', 100)"
   ]
  },
  {
   "cell_type": "code",
   "execution_count": 89,
   "id": "bf7b4589-b8c8-4282-a00a-1615a6c22125",
   "metadata": {},
   "outputs": [
    {
     "data": {
      "text/html": [
       "<div>\n",
       "<style scoped>\n",
       "    .dataframe tbody tr th:only-of-type {\n",
       "        vertical-align: middle;\n",
       "    }\n",
       "\n",
       "    .dataframe tbody tr th {\n",
       "        vertical-align: top;\n",
       "    }\n",
       "\n",
       "    .dataframe thead th {\n",
       "        text-align: right;\n",
       "    }\n",
       "</style>\n",
       "<table border=\"1\" class=\"dataframe\">\n",
       "  <thead>\n",
       "    <tr style=\"text-align: right;\">\n",
       "      <th></th>\n",
       "      <th>EMPLOYEE_ID</th>\n",
       "      <th>FIRST_NAME</th>\n",
       "      <th>LAST_NAME</th>\n",
       "      <th>EMAIL</th>\n",
       "      <th>PHONE_NUMBER</th>\n",
       "      <th>HIRE_DATE</th>\n",
       "      <th>JOB_ID</th>\n",
       "      <th>SALARY</th>\n",
       "      <th>COMMISSION_PCT</th>\n",
       "      <th>MANAGER_ID</th>\n",
       "      <th>DEPARTMENT_ID</th>\n",
       "    </tr>\n",
       "  </thead>\n",
       "  <tbody>\n",
       "    <tr>\n",
       "      <th>0</th>\n",
       "      <td>100</td>\n",
       "      <td>Steven</td>\n",
       "      <td>King</td>\n",
       "      <td>SKING</td>\n",
       "      <td>515.123.4567</td>\n",
       "      <td>2003-06-17</td>\n",
       "      <td>AD_PRES</td>\n",
       "      <td>24000</td>\n",
       "      <td>NaN</td>\n",
       "      <td>NaN</td>\n",
       "      <td>90.0</td>\n",
       "    </tr>\n",
       "    <tr>\n",
       "      <th>1</th>\n",
       "      <td>101</td>\n",
       "      <td>Neena</td>\n",
       "      <td>Kochhar</td>\n",
       "      <td>NKOCHHAR</td>\n",
       "      <td>515.123.4568</td>\n",
       "      <td>2005-09-21</td>\n",
       "      <td>AD_VP</td>\n",
       "      <td>17000</td>\n",
       "      <td>NaN</td>\n",
       "      <td>100.0</td>\n",
       "      <td>90.0</td>\n",
       "    </tr>\n",
       "    <tr>\n",
       "      <th>2</th>\n",
       "      <td>102</td>\n",
       "      <td>Lex</td>\n",
       "      <td>De Haan</td>\n",
       "      <td>LDEHAAN</td>\n",
       "      <td>515.123.4569</td>\n",
       "      <td>2001-01-13</td>\n",
       "      <td>AD_VP</td>\n",
       "      <td>17000</td>\n",
       "      <td>NaN</td>\n",
       "      <td>100.0</td>\n",
       "      <td>90.0</td>\n",
       "    </tr>\n",
       "    <tr>\n",
       "      <th>3</th>\n",
       "      <td>103</td>\n",
       "      <td>Alexander</td>\n",
       "      <td>Hunold</td>\n",
       "      <td>AHUNOLD</td>\n",
       "      <td>590.423.4567</td>\n",
       "      <td>2006-01-03</td>\n",
       "      <td>IT_PROG</td>\n",
       "      <td>9000</td>\n",
       "      <td>NaN</td>\n",
       "      <td>102.0</td>\n",
       "      <td>60.0</td>\n",
       "    </tr>\n",
       "    <tr>\n",
       "      <th>4</th>\n",
       "      <td>104</td>\n",
       "      <td>Bruce</td>\n",
       "      <td>Ernst</td>\n",
       "      <td>BERNST</td>\n",
       "      <td>590.423.4568</td>\n",
       "      <td>2007-05-21</td>\n",
       "      <td>IT_PROG</td>\n",
       "      <td>6000</td>\n",
       "      <td>NaN</td>\n",
       "      <td>103.0</td>\n",
       "      <td>60.0</td>\n",
       "    </tr>\n",
       "  </tbody>\n",
       "</table>\n",
       "</div>"
      ],
      "text/plain": [
       "   EMPLOYEE_ID FIRST_NAME LAST_NAME     EMAIL  PHONE_NUMBER   HIRE_DATE  \\\n",
       "0          100     Steven      King     SKING  515.123.4567  2003-06-17   \n",
       "1          101      Neena   Kochhar  NKOCHHAR  515.123.4568  2005-09-21   \n",
       "2          102        Lex   De Haan   LDEHAAN  515.123.4569  2001-01-13   \n",
       "3          103  Alexander    Hunold   AHUNOLD  590.423.4567  2006-01-03   \n",
       "4          104      Bruce     Ernst    BERNST  590.423.4568  2007-05-21   \n",
       "\n",
       "    JOB_ID  SALARY  COMMISSION_PCT  MANAGER_ID  DEPARTMENT_ID  \n",
       "0  AD_PRES   24000             NaN         NaN           90.0  \n",
       "1    AD_VP   17000             NaN       100.0           90.0  \n",
       "2    AD_VP   17000             NaN       100.0           90.0  \n",
       "3  IT_PROG    9000             NaN       102.0           60.0  \n",
       "4  IT_PROG    6000             NaN       103.0           60.0  "
      ]
     },
     "execution_count": 89,
     "metadata": {},
     "output_type": "execute_result"
    }
   ],
   "source": [
    "emp = pd.read_csv('data/EMPLOYEES.csv')\n",
    "emp.head()"
   ]
  },
  {
   "cell_type": "code",
   "execution_count": 107,
   "id": "bcaa1eca-c1d1-47ab-886d-b5398d9af65f",
   "metadata": {},
   "outputs": [],
   "source": [
    "birth = pd.read_csv('data/birth-rate.csv')\n",
    "pd.set_option('display.max_columns', 50)\n",
    "pd.set_option('display.max_rows', 20)\n",
    "pd.set_option('display.width', 100)"
   ]
  },
  {
   "cell_type": "code",
   "execution_count": 108,
   "id": "4919d6be-7caf-4aec-bee5-28935b6fb05f",
   "metadata": {},
   "outputs": [
    {
     "data": {
      "text/html": [
       "<div>\n",
       "<style scoped>\n",
       "    .dataframe tbody tr th:only-of-type {\n",
       "        vertical-align: middle;\n",
       "    }\n",
       "\n",
       "    .dataframe tbody tr th {\n",
       "        vertical-align: top;\n",
       "    }\n",
       "\n",
       "    .dataframe thead th {\n",
       "        text-align: right;\n",
       "    }\n",
       "</style>\n",
       "<table border=\"1\" class=\"dataframe\">\n",
       "  <thead>\n",
       "    <tr style=\"text-align: right;\">\n",
       "      <th></th>\n",
       "      <th>Country</th>\n",
       "      <th>1960</th>\n",
       "      <th>1961</th>\n",
       "      <th>1962</th>\n",
       "      <th>1963</th>\n",
       "      <th>1964</th>\n",
       "      <th>1965</th>\n",
       "      <th>1966</th>\n",
       "      <th>1967</th>\n",
       "      <th>1968</th>\n",
       "      <th>1969</th>\n",
       "      <th>1970</th>\n",
       "      <th>1971</th>\n",
       "      <th>1972</th>\n",
       "      <th>1973</th>\n",
       "      <th>1974</th>\n",
       "      <th>1975</th>\n",
       "      <th>1976</th>\n",
       "      <th>1977</th>\n",
       "      <th>1978</th>\n",
       "      <th>1979</th>\n",
       "      <th>1980</th>\n",
       "      <th>1981</th>\n",
       "      <th>1982</th>\n",
       "      <th>1983</th>\n",
       "      <th>1984</th>\n",
       "      <th>1985</th>\n",
       "      <th>1986</th>\n",
       "      <th>1987</th>\n",
       "      <th>1988</th>\n",
       "      <th>1989</th>\n",
       "      <th>1990</th>\n",
       "      <th>1991</th>\n",
       "      <th>1992</th>\n",
       "      <th>1993</th>\n",
       "      <th>1994</th>\n",
       "      <th>1995</th>\n",
       "      <th>1996</th>\n",
       "      <th>1997</th>\n",
       "      <th>1998</th>\n",
       "      <th>1999</th>\n",
       "      <th>2000</th>\n",
       "      <th>2001</th>\n",
       "      <th>2002</th>\n",
       "      <th>2003</th>\n",
       "      <th>2004</th>\n",
       "      <th>2005</th>\n",
       "      <th>2006</th>\n",
       "      <th>2007</th>\n",
       "      <th>2008</th>\n",
       "    </tr>\n",
       "  </thead>\n",
       "  <tbody>\n",
       "    <tr>\n",
       "      <th>0</th>\n",
       "      <td>Aruba</td>\n",
       "      <td>36.400</td>\n",
       "      <td>35.179</td>\n",
       "      <td>33.863</td>\n",
       "      <td>32.459</td>\n",
       "      <td>30.994</td>\n",
       "      <td>29.513</td>\n",
       "      <td>28.069</td>\n",
       "      <td>26.721</td>\n",
       "      <td>25.518</td>\n",
       "      <td>24.492</td>\n",
       "      <td>23.669</td>\n",
       "      <td>23.058</td>\n",
       "      <td>22.627</td>\n",
       "      <td>22.342</td>\n",
       "      <td>22.177</td>\n",
       "      <td>22.111</td>\n",
       "      <td>22.125</td>\n",
       "      <td>22.192</td>\n",
       "      <td>22.281</td>\n",
       "      <td>22.362</td>\n",
       "      <td>22.406</td>\n",
       "      <td>22.390</td>\n",
       "      <td>22.313</td>\n",
       "      <td>22.172</td>\n",
       "      <td>21.958</td>\n",
       "      <td>21.668</td>\n",
       "      <td>21.300</td>\n",
       "      <td>20.869</td>\n",
       "      <td>20.393</td>\n",
       "      <td>19.886</td>\n",
       "      <td>19.363</td>\n",
       "      <td>18.842</td>\n",
       "      <td>18.332</td>\n",
       "      <td>17.839</td>\n",
       "      <td>17.367</td>\n",
       "      <td>16.911</td>\n",
       "      <td>16.457</td>\n",
       "      <td>15.994</td>\n",
       "      <td>15.515</td>\n",
       "      <td>15.024</td>\n",
       "      <td>14.528</td>\n",
       "      <td>14.041</td>\n",
       "      <td>13.579</td>\n",
       "      <td>13.153</td>\n",
       "      <td>12.772</td>\n",
       "      <td>12.441</td>\n",
       "      <td>12.159</td>\n",
       "      <td>11.919</td>\n",
       "      <td>11.716</td>\n",
       "    </tr>\n",
       "    <tr>\n",
       "      <th>1</th>\n",
       "      <td>Afghanistan</td>\n",
       "      <td>52.201</td>\n",
       "      <td>52.206</td>\n",
       "      <td>52.208</td>\n",
       "      <td>52.204</td>\n",
       "      <td>52.192</td>\n",
       "      <td>52.168</td>\n",
       "      <td>52.130</td>\n",
       "      <td>52.076</td>\n",
       "      <td>52.006</td>\n",
       "      <td>51.920</td>\n",
       "      <td>51.816</td>\n",
       "      <td>51.691</td>\n",
       "      <td>51.548</td>\n",
       "      <td>51.395</td>\n",
       "      <td>51.239</td>\n",
       "      <td>51.092</td>\n",
       "      <td>50.967</td>\n",
       "      <td>50.871</td>\n",
       "      <td>50.810</td>\n",
       "      <td>50.786</td>\n",
       "      <td>50.795</td>\n",
       "      <td>50.833</td>\n",
       "      <td>50.888</td>\n",
       "      <td>50.951</td>\n",
       "      <td>51.016</td>\n",
       "      <td>51.084</td>\n",
       "      <td>51.156</td>\n",
       "      <td>51.237</td>\n",
       "      <td>51.325</td>\n",
       "      <td>51.417</td>\n",
       "      <td>51.510</td>\n",
       "      <td>51.603</td>\n",
       "      <td>51.690</td>\n",
       "      <td>51.760</td>\n",
       "      <td>51.802</td>\n",
       "      <td>51.804</td>\n",
       "      <td>51.754</td>\n",
       "      <td>51.646</td>\n",
       "      <td>51.472</td>\n",
       "      <td>51.229</td>\n",
       "      <td>50.903</td>\n",
       "      <td>50.486</td>\n",
       "      <td>49.984</td>\n",
       "      <td>49.416</td>\n",
       "      <td>48.803</td>\n",
       "      <td>48.177</td>\n",
       "      <td>47.575</td>\n",
       "      <td>47.023</td>\n",
       "      <td>46.538</td>\n",
       "    </tr>\n",
       "    <tr>\n",
       "      <th>2</th>\n",
       "      <td>Angola</td>\n",
       "      <td>54.432</td>\n",
       "      <td>54.394</td>\n",
       "      <td>54.317</td>\n",
       "      <td>54.199</td>\n",
       "      <td>54.040</td>\n",
       "      <td>53.836</td>\n",
       "      <td>53.585</td>\n",
       "      <td>53.296</td>\n",
       "      <td>52.984</td>\n",
       "      <td>52.668</td>\n",
       "      <td>52.376</td>\n",
       "      <td>52.137</td>\n",
       "      <td>51.967</td>\n",
       "      <td>51.875</td>\n",
       "      <td>51.861</td>\n",
       "      <td>51.920</td>\n",
       "      <td>52.033</td>\n",
       "      <td>52.172</td>\n",
       "      <td>52.314</td>\n",
       "      <td>52.444</td>\n",
       "      <td>52.554</td>\n",
       "      <td>52.644</td>\n",
       "      <td>52.721</td>\n",
       "      <td>52.789</td>\n",
       "      <td>52.841</td>\n",
       "      <td>52.880</td>\n",
       "      <td>52.907</td>\n",
       "      <td>52.918</td>\n",
       "      <td>52.903</td>\n",
       "      <td>52.847</td>\n",
       "      <td>52.722</td>\n",
       "      <td>52.490</td>\n",
       "      <td>52.141</td>\n",
       "      <td>51.679</td>\n",
       "      <td>51.123</td>\n",
       "      <td>50.522</td>\n",
       "      <td>49.941</td>\n",
       "      <td>49.427</td>\n",
       "      <td>49.003</td>\n",
       "      <td>48.662</td>\n",
       "      <td>48.355</td>\n",
       "      <td>48.005</td>\n",
       "      <td>47.545</td>\n",
       "      <td>46.936</td>\n",
       "      <td>46.184</td>\n",
       "      <td>45.330</td>\n",
       "      <td>44.444</td>\n",
       "      <td>43.607</td>\n",
       "      <td>42.875</td>\n",
       "    </tr>\n",
       "    <tr>\n",
       "      <th>3</th>\n",
       "      <td>Albania</td>\n",
       "      <td>40.886</td>\n",
       "      <td>40.312</td>\n",
       "      <td>39.604</td>\n",
       "      <td>38.792</td>\n",
       "      <td>37.913</td>\n",
       "      <td>37.008</td>\n",
       "      <td>36.112</td>\n",
       "      <td>35.245</td>\n",
       "      <td>34.421</td>\n",
       "      <td>33.655</td>\n",
       "      <td>32.947</td>\n",
       "      <td>32.279</td>\n",
       "      <td>31.630</td>\n",
       "      <td>30.985</td>\n",
       "      <td>30.345</td>\n",
       "      <td>29.723</td>\n",
       "      <td>29.138</td>\n",
       "      <td>28.606</td>\n",
       "      <td>28.139</td>\n",
       "      <td>27.736</td>\n",
       "      <td>27.396</td>\n",
       "      <td>27.114</td>\n",
       "      <td>26.870</td>\n",
       "      <td>26.644</td>\n",
       "      <td>26.417</td>\n",
       "      <td>26.172</td>\n",
       "      <td>25.895</td>\n",
       "      <td>25.579</td>\n",
       "      <td>25.217</td>\n",
       "      <td>24.801</td>\n",
       "      <td>24.325</td>\n",
       "      <td>23.788</td>\n",
       "      <td>23.198</td>\n",
       "      <td>22.562</td>\n",
       "      <td>21.885</td>\n",
       "      <td>21.157</td>\n",
       "      <td>20.364</td>\n",
       "      <td>19.510</td>\n",
       "      <td>18.616</td>\n",
       "      <td>17.713</td>\n",
       "      <td>16.850</td>\n",
       "      <td>16.081</td>\n",
       "      <td>15.444</td>\n",
       "      <td>14.962</td>\n",
       "      <td>14.644</td>\n",
       "      <td>14.485</td>\n",
       "      <td>14.464</td>\n",
       "      <td>14.534</td>\n",
       "      <td>14.649</td>\n",
       "    </tr>\n",
       "    <tr>\n",
       "      <th>4</th>\n",
       "      <td>Netherlands Antilles</td>\n",
       "      <td>32.321</td>\n",
       "      <td>30.987</td>\n",
       "      <td>29.618</td>\n",
       "      <td>28.229</td>\n",
       "      <td>26.849</td>\n",
       "      <td>25.518</td>\n",
       "      <td>24.280</td>\n",
       "      <td>23.173</td>\n",
       "      <td>22.230</td>\n",
       "      <td>21.472</td>\n",
       "      <td>20.925</td>\n",
       "      <td>20.605</td>\n",
       "      <td>20.484</td>\n",
       "      <td>20.517</td>\n",
       "      <td>20.664</td>\n",
       "      <td>20.864</td>\n",
       "      <td>21.055</td>\n",
       "      <td>21.190</td>\n",
       "      <td>21.238</td>\n",
       "      <td>21.178</td>\n",
       "      <td>21.008</td>\n",
       "      <td>20.746</td>\n",
       "      <td>20.442</td>\n",
       "      <td>20.138</td>\n",
       "      <td>19.860</td>\n",
       "      <td>19.641</td>\n",
       "      <td>19.514</td>\n",
       "      <td>19.477</td>\n",
       "      <td>19.509</td>\n",
       "      <td>19.586</td>\n",
       "      <td>19.651</td>\n",
       "      <td>19.635</td>\n",
       "      <td>19.489</td>\n",
       "      <td>19.187</td>\n",
       "      <td>18.733</td>\n",
       "      <td>18.157</td>\n",
       "      <td>17.515</td>\n",
       "      <td>16.878</td>\n",
       "      <td>16.301</td>\n",
       "      <td>15.809</td>\n",
       "      <td>15.412</td>\n",
       "      <td>15.096</td>\n",
       "      <td>14.824</td>\n",
       "      <td>14.565</td>\n",
       "      <td>14.309</td>\n",
       "      <td>14.051</td>\n",
       "      <td>13.790</td>\n",
       "      <td>13.532</td>\n",
       "      <td>13.281</td>\n",
       "    </tr>\n",
       "  </tbody>\n",
       "</table>\n",
       "</div>"
      ],
      "text/plain": [
       "                Country    1960    1961    1962    1963    1964    1965    1966    1967    1968  \\\n",
       "0                 Aruba  36.400  35.179  33.863  32.459  30.994  29.513  28.069  26.721  25.518   \n",
       "1           Afghanistan  52.201  52.206  52.208  52.204  52.192  52.168  52.130  52.076  52.006   \n",
       "2                Angola  54.432  54.394  54.317  54.199  54.040  53.836  53.585  53.296  52.984   \n",
       "3               Albania  40.886  40.312  39.604  38.792  37.913  37.008  36.112  35.245  34.421   \n",
       "4  Netherlands Antilles  32.321  30.987  29.618  28.229  26.849  25.518  24.280  23.173  22.230   \n",
       "\n",
       "     1969    1970    1971    1972    1973    1974    1975    1976    1977    1978    1979    1980  \\\n",
       "0  24.492  23.669  23.058  22.627  22.342  22.177  22.111  22.125  22.192  22.281  22.362  22.406   \n",
       "1  51.920  51.816  51.691  51.548  51.395  51.239  51.092  50.967  50.871  50.810  50.786  50.795   \n",
       "2  52.668  52.376  52.137  51.967  51.875  51.861  51.920  52.033  52.172  52.314  52.444  52.554   \n",
       "3  33.655  32.947  32.279  31.630  30.985  30.345  29.723  29.138  28.606  28.139  27.736  27.396   \n",
       "4  21.472  20.925  20.605  20.484  20.517  20.664  20.864  21.055  21.190  21.238  21.178  21.008   \n",
       "\n",
       "     1981    1982    1983    1984    1985    1986    1987    1988    1989    1990    1991    1992  \\\n",
       "0  22.390  22.313  22.172  21.958  21.668  21.300  20.869  20.393  19.886  19.363  18.842  18.332   \n",
       "1  50.833  50.888  50.951  51.016  51.084  51.156  51.237  51.325  51.417  51.510  51.603  51.690   \n",
       "2  52.644  52.721  52.789  52.841  52.880  52.907  52.918  52.903  52.847  52.722  52.490  52.141   \n",
       "3  27.114  26.870  26.644  26.417  26.172  25.895  25.579  25.217  24.801  24.325  23.788  23.198   \n",
       "4  20.746  20.442  20.138  19.860  19.641  19.514  19.477  19.509  19.586  19.651  19.635  19.489   \n",
       "\n",
       "     1993    1994    1995    1996    1997    1998    1999    2000    2001    2002    2003    2004  \\\n",
       "0  17.839  17.367  16.911  16.457  15.994  15.515  15.024  14.528  14.041  13.579  13.153  12.772   \n",
       "1  51.760  51.802  51.804  51.754  51.646  51.472  51.229  50.903  50.486  49.984  49.416  48.803   \n",
       "2  51.679  51.123  50.522  49.941  49.427  49.003  48.662  48.355  48.005  47.545  46.936  46.184   \n",
       "3  22.562  21.885  21.157  20.364  19.510  18.616  17.713  16.850  16.081  15.444  14.962  14.644   \n",
       "4  19.187  18.733  18.157  17.515  16.878  16.301  15.809  15.412  15.096  14.824  14.565  14.309   \n",
       "\n",
       "     2005    2006    2007    2008  \n",
       "0  12.441  12.159  11.919  11.716  \n",
       "1  48.177  47.575  47.023  46.538  \n",
       "2  45.330  44.444  43.607  42.875  \n",
       "3  14.485  14.464  14.534  14.649  \n",
       "4  14.051  13.790  13.532  13.281  "
      ]
     },
     "execution_count": 108,
     "metadata": {},
     "output_type": "execute_result"
    }
   ],
   "source": [
    "birth.head()"
   ]
  },
  {
   "cell_type": "code",
   "execution_count": 109,
   "id": "d25efe2e-4277-4f48-9024-fc562d9591b2",
   "metadata": {},
   "outputs": [
    {
     "data": {
      "text/plain": [
       "EMPLOYEE_ID         int64\n",
       "FIRST_NAME         object\n",
       "LAST_NAME          object\n",
       "EMAIL              object\n",
       "PHONE_NUMBER       object\n",
       "HIRE_DATE          object\n",
       "JOB_ID             object\n",
       "SALARY              int64\n",
       "COMMISSION_PCT    float64\n",
       "MANAGER_ID        float64\n",
       "DEPARTMENT_ID     float64\n",
       "dtype: object"
      ]
     },
     "execution_count": 109,
     "metadata": {},
     "output_type": "execute_result"
    }
   ],
   "source": [
    "# 데이터프레임 속성 알아보기\n",
    "emp.dtypes"
   ]
  },
  {
   "cell_type": "code",
   "execution_count": 111,
   "id": "475c5a18-1599-46cf-8a40-b7e94907991d",
   "metadata": {},
   "outputs": [
    {
     "data": {
      "text/plain": [
       "(107, 11)"
      ]
     },
     "execution_count": 111,
     "metadata": {},
     "output_type": "execute_result"
    }
   ],
   "source": [
    "emp.shape    # 행, 열의 개수"
   ]
  },
  {
   "cell_type": "code",
   "execution_count": 112,
   "id": "c3ba5622-416f-4dbb-930f-8c8c038a30c0",
   "metadata": {},
   "outputs": [
    {
     "data": {
      "text/plain": [
       "2"
      ]
     },
     "execution_count": 112,
     "metadata": {},
     "output_type": "execute_result"
    }
   ],
   "source": [
    "emp.ndim    # 데이터 프레임 차원수"
   ]
  },
  {
   "cell_type": "code",
   "execution_count": 113,
   "id": "25358cc2-d386-4c3c-ae12-008d55d9caa7",
   "metadata": {},
   "outputs": [
    {
     "data": {
      "text/plain": [
       "1177"
      ]
     },
     "execution_count": 113,
     "metadata": {},
     "output_type": "execute_result"
    }
   ],
   "source": [
    "emp.size   # 행 * 열"
   ]
  },
  {
   "cell_type": "code",
   "execution_count": 115,
   "id": "600cdc76-84bc-4ba1-818d-cbe369dfddfd",
   "metadata": {},
   "outputs": [
    {
     "data": {
      "text/html": [
       "<div>\n",
       "<style scoped>\n",
       "    .dataframe tbody tr th:only-of-type {\n",
       "        vertical-align: middle;\n",
       "    }\n",
       "\n",
       "    .dataframe tbody tr th {\n",
       "        vertical-align: top;\n",
       "    }\n",
       "\n",
       "    .dataframe thead th {\n",
       "        text-align: right;\n",
       "    }\n",
       "</style>\n",
       "<table border=\"1\" class=\"dataframe\">\n",
       "  <thead>\n",
       "    <tr style=\"text-align: right;\">\n",
       "      <th></th>\n",
       "      <th>EMPLOYEE_ID</th>\n",
       "      <th>FIRST_NAME</th>\n",
       "      <th>LAST_NAME</th>\n",
       "      <th>EMAIL</th>\n",
       "      <th>PHONE_NUMBER</th>\n",
       "      <th>HIRE_DATE</th>\n",
       "      <th>JOB_ID</th>\n",
       "      <th>SALARY</th>\n",
       "      <th>COMMISSION_PCT</th>\n",
       "      <th>MANAGER_ID</th>\n",
       "      <th>DEPARTMENT_ID</th>\n",
       "    </tr>\n",
       "  </thead>\n",
       "  <tbody>\n",
       "    <tr>\n",
       "      <th>0</th>\n",
       "      <td>100</td>\n",
       "      <td>Steven</td>\n",
       "      <td>King</td>\n",
       "      <td>SKING</td>\n",
       "      <td>515.123.4567</td>\n",
       "      <td>2003-06-17</td>\n",
       "      <td>AD_PRES</td>\n",
       "      <td>24000</td>\n",
       "      <td>NaN</td>\n",
       "      <td>NaN</td>\n",
       "      <td>90.0</td>\n",
       "    </tr>\n",
       "    <tr>\n",
       "      <th>1</th>\n",
       "      <td>101</td>\n",
       "      <td>Neena</td>\n",
       "      <td>Kochhar</td>\n",
       "      <td>NKOCHHAR</td>\n",
       "      <td>515.123.4568</td>\n",
       "      <td>2005-09-21</td>\n",
       "      <td>AD_VP</td>\n",
       "      <td>17000</td>\n",
       "      <td>NaN</td>\n",
       "      <td>100.0</td>\n",
       "      <td>90.0</td>\n",
       "    </tr>\n",
       "    <tr>\n",
       "      <th>2</th>\n",
       "      <td>102</td>\n",
       "      <td>Lex</td>\n",
       "      <td>De Haan</td>\n",
       "      <td>LDEHAAN</td>\n",
       "      <td>515.123.4569</td>\n",
       "      <td>2001-01-13</td>\n",
       "      <td>AD_VP</td>\n",
       "      <td>17000</td>\n",
       "      <td>NaN</td>\n",
       "      <td>100.0</td>\n",
       "      <td>90.0</td>\n",
       "    </tr>\n",
       "    <tr>\n",
       "      <th>3</th>\n",
       "      <td>103</td>\n",
       "      <td>Alexander</td>\n",
       "      <td>Hunold</td>\n",
       "      <td>AHUNOLD</td>\n",
       "      <td>590.423.4567</td>\n",
       "      <td>2006-01-03</td>\n",
       "      <td>IT_PROG</td>\n",
       "      <td>9000</td>\n",
       "      <td>NaN</td>\n",
       "      <td>102.0</td>\n",
       "      <td>60.0</td>\n",
       "    </tr>\n",
       "    <tr>\n",
       "      <th>4</th>\n",
       "      <td>104</td>\n",
       "      <td>Bruce</td>\n",
       "      <td>Ernst</td>\n",
       "      <td>BERNST</td>\n",
       "      <td>590.423.4568</td>\n",
       "      <td>2007-05-21</td>\n",
       "      <td>IT_PROG</td>\n",
       "      <td>6000</td>\n",
       "      <td>NaN</td>\n",
       "      <td>103.0</td>\n",
       "      <td>60.0</td>\n",
       "    </tr>\n",
       "  </tbody>\n",
       "</table>\n",
       "</div>"
      ],
      "text/plain": [
       "   EMPLOYEE_ID FIRST_NAME LAST_NAME     EMAIL  PHONE_NUMBER   HIRE_DATE   JOB_ID  SALARY  \\\n",
       "0          100     Steven      King     SKING  515.123.4567  2003-06-17  AD_PRES   24000   \n",
       "1          101      Neena   Kochhar  NKOCHHAR  515.123.4568  2005-09-21    AD_VP   17000   \n",
       "2          102        Lex   De Haan   LDEHAAN  515.123.4569  2001-01-13    AD_VP   17000   \n",
       "3          103  Alexander    Hunold   AHUNOLD  590.423.4567  2006-01-03  IT_PROG    9000   \n",
       "4          104      Bruce     Ernst    BERNST  590.423.4568  2007-05-21  IT_PROG    6000   \n",
       "\n",
       "   COMMISSION_PCT  MANAGER_ID  DEPARTMENT_ID  \n",
       "0             NaN         NaN           90.0  \n",
       "1             NaN       100.0           90.0  \n",
       "2             NaN       100.0           90.0  \n",
       "3             NaN       102.0           60.0  \n",
       "4             NaN       103.0           60.0  "
      ]
     },
     "execution_count": 115,
     "metadata": {},
     "output_type": "execute_result"
    }
   ],
   "source": [
    "# 데이터프레임 기본데이터 확인\n",
    "emp.head()   # 상위 5개"
   ]
  },
  {
   "cell_type": "code",
   "execution_count": 114,
   "id": "b57c0833-678e-4299-b90a-44d61525f8c9",
   "metadata": {},
   "outputs": [
    {
     "data": {
      "text/html": [
       "<div>\n",
       "<style scoped>\n",
       "    .dataframe tbody tr th:only-of-type {\n",
       "        vertical-align: middle;\n",
       "    }\n",
       "\n",
       "    .dataframe tbody tr th {\n",
       "        vertical-align: top;\n",
       "    }\n",
       "\n",
       "    .dataframe thead th {\n",
       "        text-align: right;\n",
       "    }\n",
       "</style>\n",
       "<table border=\"1\" class=\"dataframe\">\n",
       "  <thead>\n",
       "    <tr style=\"text-align: right;\">\n",
       "      <th></th>\n",
       "      <th>EMPLOYEE_ID</th>\n",
       "      <th>FIRST_NAME</th>\n",
       "      <th>LAST_NAME</th>\n",
       "      <th>EMAIL</th>\n",
       "      <th>PHONE_NUMBER</th>\n",
       "      <th>HIRE_DATE</th>\n",
       "      <th>JOB_ID</th>\n",
       "      <th>SALARY</th>\n",
       "      <th>COMMISSION_PCT</th>\n",
       "      <th>MANAGER_ID</th>\n",
       "      <th>DEPARTMENT_ID</th>\n",
       "    </tr>\n",
       "  </thead>\n",
       "  <tbody>\n",
       "    <tr>\n",
       "      <th>102</th>\n",
       "      <td>202</td>\n",
       "      <td>Pat</td>\n",
       "      <td>Fay</td>\n",
       "      <td>PFAY</td>\n",
       "      <td>603.123.6666</td>\n",
       "      <td>2005-08-17</td>\n",
       "      <td>MK_REP</td>\n",
       "      <td>6000</td>\n",
       "      <td>NaN</td>\n",
       "      <td>201.0</td>\n",
       "      <td>20.0</td>\n",
       "    </tr>\n",
       "    <tr>\n",
       "      <th>103</th>\n",
       "      <td>203</td>\n",
       "      <td>Susan</td>\n",
       "      <td>Mavris</td>\n",
       "      <td>SMAVRIS</td>\n",
       "      <td>515.123.7777</td>\n",
       "      <td>2002-06-07</td>\n",
       "      <td>HR_REP</td>\n",
       "      <td>6500</td>\n",
       "      <td>NaN</td>\n",
       "      <td>101.0</td>\n",
       "      <td>40.0</td>\n",
       "    </tr>\n",
       "    <tr>\n",
       "      <th>104</th>\n",
       "      <td>204</td>\n",
       "      <td>Hermann</td>\n",
       "      <td>Baer</td>\n",
       "      <td>HBAER</td>\n",
       "      <td>515.123.8888</td>\n",
       "      <td>2002-06-07</td>\n",
       "      <td>PR_REP</td>\n",
       "      <td>10000</td>\n",
       "      <td>NaN</td>\n",
       "      <td>101.0</td>\n",
       "      <td>70.0</td>\n",
       "    </tr>\n",
       "    <tr>\n",
       "      <th>105</th>\n",
       "      <td>205</td>\n",
       "      <td>Shelley</td>\n",
       "      <td>Higgins</td>\n",
       "      <td>SHIGGINS</td>\n",
       "      <td>515.123.8080</td>\n",
       "      <td>2002-06-07</td>\n",
       "      <td>AC_MGR</td>\n",
       "      <td>12008</td>\n",
       "      <td>NaN</td>\n",
       "      <td>101.0</td>\n",
       "      <td>110.0</td>\n",
       "    </tr>\n",
       "    <tr>\n",
       "      <th>106</th>\n",
       "      <td>206</td>\n",
       "      <td>William</td>\n",
       "      <td>Gietz</td>\n",
       "      <td>WGIETZ</td>\n",
       "      <td>515.123.8181</td>\n",
       "      <td>2002-06-07</td>\n",
       "      <td>AC_ACCOUNT</td>\n",
       "      <td>8300</td>\n",
       "      <td>NaN</td>\n",
       "      <td>205.0</td>\n",
       "      <td>110.0</td>\n",
       "    </tr>\n",
       "  </tbody>\n",
       "</table>\n",
       "</div>"
      ],
      "text/plain": [
       "     EMPLOYEE_ID FIRST_NAME LAST_NAME     EMAIL  PHONE_NUMBER   HIRE_DATE      JOB_ID  SALARY  \\\n",
       "102          202        Pat       Fay      PFAY  603.123.6666  2005-08-17      MK_REP    6000   \n",
       "103          203      Susan    Mavris   SMAVRIS  515.123.7777  2002-06-07      HR_REP    6500   \n",
       "104          204    Hermann      Baer     HBAER  515.123.8888  2002-06-07      PR_REP   10000   \n",
       "105          205    Shelley   Higgins  SHIGGINS  515.123.8080  2002-06-07      AC_MGR   12008   \n",
       "106          206    William     Gietz    WGIETZ  515.123.8181  2002-06-07  AC_ACCOUNT    8300   \n",
       "\n",
       "     COMMISSION_PCT  MANAGER_ID  DEPARTMENT_ID  \n",
       "102             NaN       201.0           20.0  \n",
       "103             NaN       101.0           40.0  \n",
       "104             NaN       101.0           70.0  \n",
       "105             NaN       101.0          110.0  \n",
       "106             NaN       205.0          110.0  "
      ]
     },
     "execution_count": 114,
     "metadata": {},
     "output_type": "execute_result"
    }
   ],
   "source": [
    "emp.tail()   # 하위 5개"
   ]
  },
  {
   "cell_type": "code",
   "execution_count": 116,
   "id": "f73f8408-5b41-4b9f-9edf-af2daa1e41c9",
   "metadata": {},
   "outputs": [
    {
     "data": {
      "text/html": [
       "<div>\n",
       "<style scoped>\n",
       "    .dataframe tbody tr th:only-of-type {\n",
       "        vertical-align: middle;\n",
       "    }\n",
       "\n",
       "    .dataframe tbody tr th {\n",
       "        vertical-align: top;\n",
       "    }\n",
       "\n",
       "    .dataframe thead th {\n",
       "        text-align: right;\n",
       "    }\n",
       "</style>\n",
       "<table border=\"1\" class=\"dataframe\">\n",
       "  <thead>\n",
       "    <tr style=\"text-align: right;\">\n",
       "      <th></th>\n",
       "      <th>EMPLOYEE_ID</th>\n",
       "      <th>SALARY</th>\n",
       "      <th>COMMISSION_PCT</th>\n",
       "      <th>MANAGER_ID</th>\n",
       "      <th>DEPARTMENT_ID</th>\n",
       "    </tr>\n",
       "  </thead>\n",
       "  <tbody>\n",
       "    <tr>\n",
       "      <th>count</th>\n",
       "      <td>107.000000</td>\n",
       "      <td>107.000000</td>\n",
       "      <td>35.000000</td>\n",
       "      <td>106.000000</td>\n",
       "      <td>106.000000</td>\n",
       "    </tr>\n",
       "    <tr>\n",
       "      <th>mean</th>\n",
       "      <td>153.000000</td>\n",
       "      <td>6461.831776</td>\n",
       "      <td>0.222857</td>\n",
       "      <td>124.764151</td>\n",
       "      <td>63.207547</td>\n",
       "    </tr>\n",
       "    <tr>\n",
       "      <th>std</th>\n",
       "      <td>31.032241</td>\n",
       "      <td>3909.579731</td>\n",
       "      <td>0.085184</td>\n",
       "      <td>20.315395</td>\n",
       "      <td>20.910110</td>\n",
       "    </tr>\n",
       "    <tr>\n",
       "      <th>min</th>\n",
       "      <td>100.000000</td>\n",
       "      <td>2100.000000</td>\n",
       "      <td>0.100000</td>\n",
       "      <td>100.000000</td>\n",
       "      <td>10.000000</td>\n",
       "    </tr>\n",
       "    <tr>\n",
       "      <th>25%</th>\n",
       "      <td>126.500000</td>\n",
       "      <td>3100.000000</td>\n",
       "      <td>0.150000</td>\n",
       "      <td>108.000000</td>\n",
       "      <td>50.000000</td>\n",
       "    </tr>\n",
       "    <tr>\n",
       "      <th>50%</th>\n",
       "      <td>153.000000</td>\n",
       "      <td>6200.000000</td>\n",
       "      <td>0.200000</td>\n",
       "      <td>122.000000</td>\n",
       "      <td>50.000000</td>\n",
       "    </tr>\n",
       "    <tr>\n",
       "      <th>75%</th>\n",
       "      <td>179.500000</td>\n",
       "      <td>8900.000000</td>\n",
       "      <td>0.300000</td>\n",
       "      <td>145.000000</td>\n",
       "      <td>80.000000</td>\n",
       "    </tr>\n",
       "    <tr>\n",
       "      <th>max</th>\n",
       "      <td>206.000000</td>\n",
       "      <td>24000.000000</td>\n",
       "      <td>0.400000</td>\n",
       "      <td>205.000000</td>\n",
       "      <td>110.000000</td>\n",
       "    </tr>\n",
       "  </tbody>\n",
       "</table>\n",
       "</div>"
      ],
      "text/plain": [
       "       EMPLOYEE_ID        SALARY  COMMISSION_PCT  MANAGER_ID  DEPARTMENT_ID\n",
       "count   107.000000    107.000000       35.000000  106.000000     106.000000\n",
       "mean    153.000000   6461.831776        0.222857  124.764151      63.207547\n",
       "std      31.032241   3909.579731        0.085184   20.315395      20.910110\n",
       "min     100.000000   2100.000000        0.100000  100.000000      10.000000\n",
       "25%     126.500000   3100.000000        0.150000  108.000000      50.000000\n",
       "50%     153.000000   6200.000000        0.200000  122.000000      50.000000\n",
       "75%     179.500000   8900.000000        0.300000  145.000000      80.000000\n",
       "max     206.000000  24000.000000        0.400000  205.000000     110.000000"
      ]
     },
     "execution_count": 116,
     "metadata": {},
     "output_type": "execute_result"
    }
   ],
   "source": [
    "# 데이터프레임 컬럼 요약 확인\n",
    "emp.describe()   # 숫자컬럼에 대해서만 요약"
   ]
  },
  {
   "cell_type": "code",
   "execution_count": 117,
   "id": "39ad8fca-7de1-42b0-bdfa-76bf4f817449",
   "metadata": {},
   "outputs": [
    {
     "data": {
      "text/plain": [
       "SA_REP        30\n",
       "ST_CLERK      20\n",
       "SH_CLERK      20\n",
       "SA_MAN         5\n",
       "IT_PROG        5\n",
       "FI_ACCOUNT     5\n",
       "PU_CLERK       5\n",
       "ST_MAN         5\n",
       "AD_VP          2\n",
       "MK_REP         1\n",
       "AC_MGR         1\n",
       "PR_REP         1\n",
       "HR_REP         1\n",
       "AD_PRES        1\n",
       "MK_MAN         1\n",
       "AD_ASST        1\n",
       "PU_MAN         1\n",
       "FI_MGR         1\n",
       "AC_ACCOUNT     1\n",
       "Name: JOB_ID, dtype: int64"
      ]
     },
     "execution_count": 117,
     "metadata": {},
     "output_type": "execute_result"
    }
   ],
   "source": [
    "# 범주형 데이터에 대한 빈도확인\n",
    "emp.JOB_ID.value_counts()"
   ]
  },
  {
   "cell_type": "code",
   "execution_count": 110,
   "id": "d1c71c62-663a-4cd0-bd1e-970f386937d2",
   "metadata": {},
   "outputs": [
    {
     "name": "stdout",
     "output_type": "stream",
     "text": [
      "<class 'pandas.core.frame.DataFrame'>\n",
      "RangeIndex: 107 entries, 0 to 106\n",
      "Data columns (total 11 columns):\n",
      " #   Column          Non-Null Count  Dtype  \n",
      "---  ------          --------------  -----  \n",
      " 0   EMPLOYEE_ID     107 non-null    int64  \n",
      " 1   FIRST_NAME      107 non-null    object \n",
      " 2   LAST_NAME       107 non-null    object \n",
      " 3   EMAIL           107 non-null    object \n",
      " 4   PHONE_NUMBER    107 non-null    object \n",
      " 5   HIRE_DATE       107 non-null    object \n",
      " 6   JOB_ID          107 non-null    object \n",
      " 7   SALARY          107 non-null    int64  \n",
      " 8   COMMISSION_PCT  35 non-null     float64\n",
      " 9   MANAGER_ID      106 non-null    float64\n",
      " 10  DEPARTMENT_ID   106 non-null    float64\n",
      "dtypes: float64(3), int64(2), object(6)\n",
      "memory usage: 9.3+ KB\n"
     ]
    }
   ],
   "source": [
    "emp.info()"
   ]
  },
  {
   "cell_type": "code",
   "execution_count": null,
   "id": "26b82965-43b7-45e5-b0da-41386b902fb1",
   "metadata": {},
   "outputs": [],
   "source": []
  }
 ],
 "metadata": {
  "kernelspec": {
   "display_name": "Python 3",
   "language": "python",
   "name": "python3"
  },
  "language_info": {
   "codemirror_mode": {
    "name": "ipython",
    "version": 3
   },
   "file_extension": ".py",
   "mimetype": "text/x-python",
   "name": "python",
   "nbconvert_exporter": "python",
   "pygments_lexer": "ipython3",
   "version": "3.8.12"
  }
 },
 "nbformat": 4,
 "nbformat_minor": 5
}
