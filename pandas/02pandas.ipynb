{
 "cells": [
  {
   "cell_type": "code",
   "execution_count": 6,
   "id": "421075a6-d623-40aa-a82a-a3b55ea394b4",
   "metadata": {},
   "outputs": [],
   "source": [
    "import numpy as np\n",
    "import pandas as pd"
   ]
  },
  {
   "cell_type": "code",
   "execution_count": 7,
   "id": "dc233835-74b3-4eb0-9092-0625dd2e7ec1",
   "metadata": {},
   "outputs": [],
   "source": [
    "pd.set_option('display.max_columns', 50)\n",
    "pd.set_option('display.width', 100)"
   ]
  },
  {
   "cell_type": "markdown",
   "id": "e94f30ac-2d5b-47d9-bc33-c145990a3d7c",
   "metadata": {},
   "source": [
    "# 누락된 데이터missing data 다루기\n",
    "* null, NaN, NA, None\n",
    "* 파이썬/pandas에서는 NaN(float) 또는 None(object) 으로 취급\n",
    "* 단, 정수형 누락값인 NA는 pandas에서는 취급불가\n",
    "* 누락된 데이터는 numpy 모듈이 지원(np.nan)"
   ]
  },
  {
   "cell_type": "code",
   "execution_count": 3,
   "id": "13a30edd-373b-4be0-ab34-dda97aed5af3",
   "metadata": {},
   "outputs": [
    {
     "name": "stdout",
     "output_type": "stream",
     "text": [
      "[1 2 None 4 5]\n"
     ]
    }
   ],
   "source": [
    "# 결측치 다루기\n",
    "a = np.array([1,2,None,4,5])\n",
    "print(a)   # 숫자로 구성되어 있지만 데이터형식은 none 때문에 object로 취급"
   ]
  },
  {
   "cell_type": "code",
   "execution_count": 4,
   "id": "82b0b8e1-b34d-418c-803b-115710905acd",
   "metadata": {},
   "outputs": [
    {
     "name": "stdout",
     "output_type": "stream",
     "text": [
      "object\n"
     ]
    }
   ],
   "source": [
    "print(a.dtype)"
   ]
  },
  {
   "cell_type": "code",
   "execution_count": 5,
   "id": "ae4d2630-2c15-4dae-9890-1795abec3204",
   "metadata": {},
   "outputs": [
    {
     "ename": "TypeError",
     "evalue": "unsupported operand type(s) for *: 'NoneType' and 'int'",
     "output_type": "error",
     "traceback": [
      "\u001b[0;31m---------------------------------------------------------------------------\u001b[0m",
      "\u001b[0;31mTypeError\u001b[0m                                 Traceback (most recent call last)",
      "Input \u001b[0;32mIn [5]\u001b[0m, in \u001b[0;36m<module>\u001b[0;34m\u001b[0m\n\u001b[0;32m----> 1\u001b[0m \u001b[43ma\u001b[49m\u001b[43m \u001b[49m\u001b[38;5;241;43m*\u001b[39;49m\u001b[43m \u001b[49m\u001b[38;5;241;43m100\u001b[39;49m\n",
      "\u001b[0;31mTypeError\u001b[0m: unsupported operand type(s) for *: 'NoneType' and 'int'"
     ]
    }
   ],
   "source": [
    "a * 100   # 결측치(none) 때문에 산술연살 실패"
   ]
  },
  {
   "cell_type": "code",
   "execution_count": 9,
   "id": "d4dcae84-ccc0-47d8-b551-51c00f3e88ed",
   "metadata": {},
   "outputs": [
    {
     "ename": "TypeError",
     "evalue": "unsupported operand type(s) for +: 'int' and 'NoneType'",
     "output_type": "error",
     "traceback": [
      "\u001b[0;31m---------------------------------------------------------------------------\u001b[0m",
      "\u001b[0;31mTypeError\u001b[0m                                 Traceback (most recent call last)",
      "Input \u001b[0;32mIn [9]\u001b[0m, in \u001b[0;36m<module>\u001b[0;34m\u001b[0m\n\u001b[0;32m----> 1\u001b[0m \u001b[43ma\u001b[49m\u001b[38;5;241;43m.\u001b[39;49m\u001b[43msum\u001b[49m\u001b[43m(\u001b[49m\u001b[43m)\u001b[49m\n",
      "File \u001b[0;32m~/.local/lib/python3.8/site-packages/numpy/core/_methods.py:48\u001b[0m, in \u001b[0;36m_sum\u001b[0;34m(a, axis, dtype, out, keepdims, initial, where)\u001b[0m\n\u001b[1;32m     46\u001b[0m \u001b[38;5;28;01mdef\u001b[39;00m \u001b[38;5;21m_sum\u001b[39m(a, axis\u001b[38;5;241m=\u001b[39m\u001b[38;5;28;01mNone\u001b[39;00m, dtype\u001b[38;5;241m=\u001b[39m\u001b[38;5;28;01mNone\u001b[39;00m, out\u001b[38;5;241m=\u001b[39m\u001b[38;5;28;01mNone\u001b[39;00m, keepdims\u001b[38;5;241m=\u001b[39m\u001b[38;5;28;01mFalse\u001b[39;00m,\n\u001b[1;32m     47\u001b[0m          initial\u001b[38;5;241m=\u001b[39m_NoValue, where\u001b[38;5;241m=\u001b[39m\u001b[38;5;28;01mTrue\u001b[39;00m):\n\u001b[0;32m---> 48\u001b[0m     \u001b[38;5;28;01mreturn\u001b[39;00m \u001b[43mumr_sum\u001b[49m\u001b[43m(\u001b[49m\u001b[43ma\u001b[49m\u001b[43m,\u001b[49m\u001b[43m \u001b[49m\u001b[43maxis\u001b[49m\u001b[43m,\u001b[49m\u001b[43m \u001b[49m\u001b[43mdtype\u001b[49m\u001b[43m,\u001b[49m\u001b[43m \u001b[49m\u001b[43mout\u001b[49m\u001b[43m,\u001b[49m\u001b[43m \u001b[49m\u001b[43mkeepdims\u001b[49m\u001b[43m,\u001b[49m\u001b[43m \u001b[49m\u001b[43minitial\u001b[49m\u001b[43m,\u001b[49m\u001b[43m \u001b[49m\u001b[43mwhere\u001b[49m\u001b[43m)\u001b[49m\n",
      "\u001b[0;31mTypeError\u001b[0m: unsupported operand type(s) for +: 'int' and 'NoneType'"
     ]
    }
   ],
   "source": [
    "a.sum()   # 결측치(none) 때문에 산술연살 실패"
   ]
  },
  {
   "cell_type": "code",
   "execution_count": 10,
   "id": "504d8825-c6e6-441c-b511-8aa8fed0514b",
   "metadata": {},
   "outputs": [
    {
     "name": "stdout",
     "output_type": "stream",
     "text": [
      "[ 1.  2. nan  4.  5.]\n"
     ]
    }
   ],
   "source": [
    "b = np.array([1,2,np.nan,4,5])\n",
    "print(b)"
   ]
  },
  {
   "cell_type": "code",
   "execution_count": 11,
   "id": "ad352464-9e9b-446a-a3e8-2b83e84aeed2",
   "metadata": {},
   "outputs": [
    {
     "name": "stdout",
     "output_type": "stream",
     "text": [
      "float64\n"
     ]
    }
   ],
   "source": [
    "print(b.dtype)"
   ]
  },
  {
   "cell_type": "code",
   "execution_count": 12,
   "id": "955cc7d5-3926-417e-b8a1-cdfd90722ece",
   "metadata": {},
   "outputs": [
    {
     "name": "stdout",
     "output_type": "stream",
     "text": [
      "[100. 200.  nan 400. 500.]\n"
     ]
    }
   ],
   "source": [
    "print(b * 100)"
   ]
  },
  {
   "cell_type": "code",
   "execution_count": 13,
   "id": "b781c503-b895-4590-9b5f-4ff3af0df97c",
   "metadata": {},
   "outputs": [
    {
     "data": {
      "text/plain": [
       "nan"
      ]
     },
     "execution_count": 13,
     "metadata": {},
     "output_type": "execute_result"
    }
   ],
   "source": [
    "b.sum()"
   ]
  },
  {
   "cell_type": "code",
   "execution_count": 14,
   "id": "a930b1f1-4c7f-4940-a3a9-eafb1775b2ba",
   "metadata": {},
   "outputs": [
    {
     "name": "stdout",
     "output_type": "stream",
     "text": [
      "0    1.0\n",
      "1    2.0\n",
      "2    NaN\n",
      "3    4.0\n",
      "4    5.0\n",
      "dtype: float64\n"
     ]
    }
   ],
   "source": [
    "c = pd.Series([1,2,np.nan,4,5])\n",
    "print(c)"
   ]
  },
  {
   "cell_type": "code",
   "execution_count": 15,
   "id": "91eb80a5-66bc-409e-b86a-0058a5d850f9",
   "metadata": {},
   "outputs": [
    {
     "data": {
      "text/plain": [
       "0    100.0\n",
       "1    200.0\n",
       "2      NaN\n",
       "3    400.0\n",
       "4    500.0\n",
       "dtype: float64"
      ]
     },
     "execution_count": 15,
     "metadata": {},
     "output_type": "execute_result"
    }
   ],
   "source": [
    "c * 100"
   ]
  },
  {
   "cell_type": "code",
   "execution_count": 16,
   "id": "94ecaf5b-3997-457c-acdd-3f10fdad7dd9",
   "metadata": {},
   "outputs": [
    {
     "data": {
      "text/plain": [
       "12.0"
      ]
     },
     "execution_count": 16,
     "metadata": {},
     "output_type": "execute_result"
    }
   ],
   "source": [
    "c.sum()"
   ]
  },
  {
   "cell_type": "markdown",
   "id": "e90d9dca-024d-46d4-9aaf-b080523072b2",
   "metadata": {},
   "source": [
    "# null값 다루기\n",
    "* pandas 자료구조에서는 null 값을 감지하고 삭제하는 기능 제공 \n",
    "  + isna(isnull, notnull), dropna, fillna"
   ]
  },
  {
   "cell_type": "code",
   "execution_count": 17,
   "id": "2bb7775b-9e5c-43af-96e0-7fd37074089e",
   "metadata": {},
   "outputs": [
    {
     "data": {
      "text/plain": [
       "0    False\n",
       "1    False\n",
       "2     True\n",
       "3    False\n",
       "4    False\n",
       "dtype: bool"
      ]
     },
     "execution_count": 17,
     "metadata": {},
     "output_type": "execute_result"
    }
   ],
   "source": [
    "c.isnull()"
   ]
  },
  {
   "cell_type": "code",
   "execution_count": 18,
   "id": "4aa04499-d090-4cc7-bf5d-28885f05519e",
   "metadata": {},
   "outputs": [
    {
     "data": {
      "text/plain": [
       "0     True\n",
       "1     True\n",
       "2    False\n",
       "3     True\n",
       "4     True\n",
       "dtype: bool"
      ]
     },
     "execution_count": 18,
     "metadata": {},
     "output_type": "execute_result"
    }
   ],
   "source": [
    "c.notnull()"
   ]
  },
  {
   "cell_type": "code",
   "execution_count": 19,
   "id": "eeb0dc0c-b343-49a5-bb46-594d5dac3d9c",
   "metadata": {},
   "outputs": [
    {
     "data": {
      "text/plain": [
       "0    False\n",
       "1    False\n",
       "2     True\n",
       "3    False\n",
       "4    False\n",
       "dtype: bool"
      ]
     },
     "execution_count": 19,
     "metadata": {},
     "output_type": "execute_result"
    }
   ],
   "source": [
    "# isna (pandas 0.21이상 지원)\n",
    "c.isna()"
   ]
  },
  {
   "cell_type": "code",
   "execution_count": 20,
   "id": "daa6b2f0-e1ed-4bc2-b004-d019e7d79fde",
   "metadata": {},
   "outputs": [
    {
     "data": {
      "text/plain": [
       "1"
      ]
     },
     "execution_count": 20,
     "metadata": {},
     "output_type": "execute_result"
    }
   ],
   "source": [
    "# null 갯수 확인 : \n",
    "c.isna().sum()"
   ]
  },
  {
   "cell_type": "code",
   "execution_count": 21,
   "id": "b61d9e65-b9dc-48e3-9266-71eb505506b0",
   "metadata": {},
   "outputs": [
    {
     "data": {
      "text/plain": [
       "0    1.0\n",
       "1    2.0\n",
       "3    4.0\n",
       "4    5.0\n",
       "dtype: float64"
      ]
     },
     "execution_count": 21,
     "metadata": {},
     "output_type": "execute_result"
    }
   ],
   "source": [
    "# null 제거 : dropna\n",
    "c.dropna()"
   ]
  },
  {
   "cell_type": "code",
   "execution_count": 22,
   "id": "19e991ee-aa2d-428f-b31b-96fdb6e7b688",
   "metadata": {},
   "outputs": [
    {
     "data": {
      "text/plain": [
       "0    1.0\n",
       "1    2.0\n",
       "2    0.0\n",
       "3    4.0\n",
       "4    5.0\n",
       "dtype: float64"
      ]
     },
     "execution_count": 22,
     "metadata": {},
     "output_type": "execute_result"
    }
   ],
   "source": [
    "# null값 대체 : 평균, 최소/최대, 최빈값, 중앙값\n",
    "c.fillna(0)"
   ]
  },
  {
   "cell_type": "code",
   "execution_count": 23,
   "id": "403c82e6-3d27-40c9-961c-fcc59c73b899",
   "metadata": {},
   "outputs": [
    {
     "data": {
      "text/html": [
       "<div>\n",
       "<style scoped>\n",
       "    .dataframe tbody tr th:only-of-type {\n",
       "        vertical-align: middle;\n",
       "    }\n",
       "\n",
       "    .dataframe tbody tr th {\n",
       "        vertical-align: top;\n",
       "    }\n",
       "\n",
       "    .dataframe thead th {\n",
       "        text-align: right;\n",
       "    }\n",
       "</style>\n",
       "<table border=\"1\" class=\"dataframe\">\n",
       "  <thead>\n",
       "    <tr style=\"text-align: right;\">\n",
       "      <th></th>\n",
       "      <th>ZIPCODE</th>\n",
       "      <th>SIDO</th>\n",
       "      <th>GUGUN</th>\n",
       "      <th>DONG</th>\n",
       "      <th>RI</th>\n",
       "      <th>BUNJI</th>\n",
       "      <th>SEQ</th>\n",
       "    </tr>\n",
       "  </thead>\n",
       "  <tbody>\n",
       "    <tr>\n",
       "      <th>0</th>\n",
       "      <td>135-806</td>\n",
       "      <td>서울</td>\n",
       "      <td>강남구</td>\n",
       "      <td>개포1동</td>\n",
       "      <td>경남아파트</td>\n",
       "      <td>NaN</td>\n",
       "      <td>1</td>\n",
       "    </tr>\n",
       "    <tr>\n",
       "      <th>1</th>\n",
       "      <td>135-807</td>\n",
       "      <td>서울</td>\n",
       "      <td>강남구</td>\n",
       "      <td>개포1동</td>\n",
       "      <td>우성3차아파트</td>\n",
       "      <td>(1∼6동)</td>\n",
       "      <td>2</td>\n",
       "    </tr>\n",
       "    <tr>\n",
       "      <th>2</th>\n",
       "      <td>135-806</td>\n",
       "      <td>서울</td>\n",
       "      <td>강남구</td>\n",
       "      <td>개포1동</td>\n",
       "      <td>우성9차아파트</td>\n",
       "      <td>(901∼902동)</td>\n",
       "      <td>3</td>\n",
       "    </tr>\n",
       "    <tr>\n",
       "      <th>3</th>\n",
       "      <td>135-770</td>\n",
       "      <td>서울</td>\n",
       "      <td>강남구</td>\n",
       "      <td>개포1동</td>\n",
       "      <td>주공아파트</td>\n",
       "      <td>(1∼16동)</td>\n",
       "      <td>4</td>\n",
       "    </tr>\n",
       "    <tr>\n",
       "      <th>4</th>\n",
       "      <td>135-805</td>\n",
       "      <td>서울</td>\n",
       "      <td>강남구</td>\n",
       "      <td>개포1동</td>\n",
       "      <td>주공아파트</td>\n",
       "      <td>(17∼40동)</td>\n",
       "      <td>5</td>\n",
       "    </tr>\n",
       "    <tr>\n",
       "      <th>...</th>\n",
       "      <td>...</td>\n",
       "      <td>...</td>\n",
       "      <td>...</td>\n",
       "      <td>...</td>\n",
       "      <td>...</td>\n",
       "      <td>...</td>\n",
       "      <td>...</td>\n",
       "    </tr>\n",
       "    <tr>\n",
       "      <th>52139</th>\n",
       "      <td>363-823</td>\n",
       "      <td>충북</td>\n",
       "      <td>청원군</td>\n",
       "      <td>현도면</td>\n",
       "      <td>죽전리</td>\n",
       "      <td>NaN</td>\n",
       "      <td>52140</td>\n",
       "    </tr>\n",
       "    <tr>\n",
       "      <th>52140</th>\n",
       "      <td>363-823</td>\n",
       "      <td>충북</td>\n",
       "      <td>청원군</td>\n",
       "      <td>현도면</td>\n",
       "      <td>중삼리</td>\n",
       "      <td>NaN</td>\n",
       "      <td>52141</td>\n",
       "    </tr>\n",
       "    <tr>\n",
       "      <th>52141</th>\n",
       "      <td>363-822</td>\n",
       "      <td>충북</td>\n",
       "      <td>청원군</td>\n",
       "      <td>현도면</td>\n",
       "      <td>중척리</td>\n",
       "      <td>NaN</td>\n",
       "      <td>52142</td>\n",
       "    </tr>\n",
       "    <tr>\n",
       "      <th>52142</th>\n",
       "      <td>363-821</td>\n",
       "      <td>충북</td>\n",
       "      <td>청원군</td>\n",
       "      <td>현도면</td>\n",
       "      <td>하석리</td>\n",
       "      <td>NaN</td>\n",
       "      <td>52143</td>\n",
       "    </tr>\n",
       "    <tr>\n",
       "      <th>52143</th>\n",
       "      <td>363-820</td>\n",
       "      <td>충북</td>\n",
       "      <td>청원군</td>\n",
       "      <td>현도면</td>\n",
       "      <td>NaN</td>\n",
       "      <td>NaN</td>\n",
       "      <td>52144</td>\n",
       "    </tr>\n",
       "  </tbody>\n",
       "</table>\n",
       "<p>52144 rows × 7 columns</p>\n",
       "</div>"
      ],
      "text/plain": [
       "       ZIPCODE SIDO GUGUN  DONG       RI       BUNJI    SEQ\n",
       "0      135-806   서울   강남구  개포1동    경남아파트         NaN      1\n",
       "1      135-807   서울   강남구  개포1동  우성3차아파트      (1∼6동)      2\n",
       "2      135-806   서울   강남구  개포1동  우성9차아파트  (901∼902동)      3\n",
       "3      135-770   서울   강남구  개포1동    주공아파트     (1∼16동)      4\n",
       "4      135-805   서울   강남구  개포1동    주공아파트    (17∼40동)      5\n",
       "...        ...  ...   ...   ...      ...         ...    ...\n",
       "52139  363-823   충북   청원군   현도면      죽전리         NaN  52140\n",
       "52140  363-823   충북   청원군   현도면      중삼리         NaN  52141\n",
       "52141  363-822   충북   청원군   현도면      중척리         NaN  52142\n",
       "52142  363-821   충북   청원군   현도면      하석리         NaN  52143\n",
       "52143  363-820   충북   청원군   현도면      NaN         NaN  52144\n",
       "\n",
       "[52144 rows x 7 columns]"
      ]
     },
     "execution_count": 23,
     "metadata": {},
     "output_type": "execute_result"
    }
   ],
   "source": [
    "# 우편번호 데이터프레임의 결측치를 적절히 처리하고 출력\n",
    "zip = pd.read_csv('data/zipcode2013.csv', sep='\\t')\n",
    "zip"
   ]
  },
  {
   "cell_type": "code",
   "execution_count": 24,
   "id": "a44ab4dd-1b04-4403-969c-21e0ff07264a",
   "metadata": {},
   "outputs": [
    {
     "name": "stdout",
     "output_type": "stream",
     "text": [
      "<class 'pandas.core.frame.DataFrame'>\n",
      "RangeIndex: 52144 entries, 0 to 52143\n",
      "Data columns (total 7 columns):\n",
      " #   Column   Non-Null Count  Dtype \n",
      "---  ------   --------------  ----- \n",
      " 0   ZIPCODE  52144 non-null  object\n",
      " 1   SIDO     52144 non-null  object\n",
      " 2   GUGUN    51958 non-null  object\n",
      " 3   DONG     52144 non-null  object\n",
      " 4   RI       31655 non-null  object\n",
      " 5   BUNJI    20603 non-null  object\n",
      " 6   SEQ      52144 non-null  int64 \n",
      "dtypes: int64(1), object(6)\n",
      "memory usage: 2.8+ MB\n"
     ]
    }
   ],
   "source": [
    "zip.info()"
   ]
  },
  {
   "cell_type": "code",
   "execution_count": 25,
   "id": "936f3eac-3850-4496-979a-b8b5b7c51e12",
   "metadata": {},
   "outputs": [
    {
     "data": {
      "text/plain": [
       "ZIPCODE        0\n",
       "SIDO           0\n",
       "GUGUN        186\n",
       "DONG           0\n",
       "RI         20489\n",
       "BUNJI      31541\n",
       "SEQ            0\n",
       "dtype: int64"
      ]
     },
     "execution_count": 25,
     "metadata": {},
     "output_type": "execute_result"
    }
   ],
   "source": [
    "zip.isna().sum()"
   ]
  },
  {
   "cell_type": "code",
   "execution_count": 26,
   "id": "6d22eddb-1363-4b0c-ba89-99e71c65ad52",
   "metadata": {},
   "outputs": [
    {
     "data": {
      "text/html": [
       "<div>\n",
       "<style scoped>\n",
       "    .dataframe tbody tr th:only-of-type {\n",
       "        vertical-align: middle;\n",
       "    }\n",
       "\n",
       "    .dataframe tbody tr th {\n",
       "        vertical-align: top;\n",
       "    }\n",
       "\n",
       "    .dataframe thead th {\n",
       "        text-align: right;\n",
       "    }\n",
       "</style>\n",
       "<table border=\"1\" class=\"dataframe\">\n",
       "  <thead>\n",
       "    <tr style=\"text-align: right;\">\n",
       "      <th></th>\n",
       "      <th>ZIPCODE</th>\n",
       "      <th>SIDO</th>\n",
       "      <th>GUGUN</th>\n",
       "      <th>DONG</th>\n",
       "      <th>RI</th>\n",
       "      <th>BUNJI</th>\n",
       "      <th>SEQ</th>\n",
       "    </tr>\n",
       "  </thead>\n",
       "  <tbody>\n",
       "    <tr>\n",
       "      <th>0</th>\n",
       "      <td>135-806</td>\n",
       "      <td>서울</td>\n",
       "      <td>강남구</td>\n",
       "      <td>개포1동</td>\n",
       "      <td>경남아파트</td>\n",
       "      <td></td>\n",
       "      <td>1</td>\n",
       "    </tr>\n",
       "    <tr>\n",
       "      <th>1</th>\n",
       "      <td>135-807</td>\n",
       "      <td>서울</td>\n",
       "      <td>강남구</td>\n",
       "      <td>개포1동</td>\n",
       "      <td>우성3차아파트</td>\n",
       "      <td>(1∼6동)</td>\n",
       "      <td>2</td>\n",
       "    </tr>\n",
       "    <tr>\n",
       "      <th>2</th>\n",
       "      <td>135-806</td>\n",
       "      <td>서울</td>\n",
       "      <td>강남구</td>\n",
       "      <td>개포1동</td>\n",
       "      <td>우성9차아파트</td>\n",
       "      <td>(901∼902동)</td>\n",
       "      <td>3</td>\n",
       "    </tr>\n",
       "    <tr>\n",
       "      <th>3</th>\n",
       "      <td>135-770</td>\n",
       "      <td>서울</td>\n",
       "      <td>강남구</td>\n",
       "      <td>개포1동</td>\n",
       "      <td>주공아파트</td>\n",
       "      <td>(1∼16동)</td>\n",
       "      <td>4</td>\n",
       "    </tr>\n",
       "    <tr>\n",
       "      <th>4</th>\n",
       "      <td>135-805</td>\n",
       "      <td>서울</td>\n",
       "      <td>강남구</td>\n",
       "      <td>개포1동</td>\n",
       "      <td>주공아파트</td>\n",
       "      <td>(17∼40동)</td>\n",
       "      <td>5</td>\n",
       "    </tr>\n",
       "    <tr>\n",
       "      <th>...</th>\n",
       "      <td>...</td>\n",
       "      <td>...</td>\n",
       "      <td>...</td>\n",
       "      <td>...</td>\n",
       "      <td>...</td>\n",
       "      <td>...</td>\n",
       "      <td>...</td>\n",
       "    </tr>\n",
       "    <tr>\n",
       "      <th>52139</th>\n",
       "      <td>363-823</td>\n",
       "      <td>충북</td>\n",
       "      <td>청원군</td>\n",
       "      <td>현도면</td>\n",
       "      <td>죽전리</td>\n",
       "      <td></td>\n",
       "      <td>52140</td>\n",
       "    </tr>\n",
       "    <tr>\n",
       "      <th>52140</th>\n",
       "      <td>363-823</td>\n",
       "      <td>충북</td>\n",
       "      <td>청원군</td>\n",
       "      <td>현도면</td>\n",
       "      <td>중삼리</td>\n",
       "      <td></td>\n",
       "      <td>52141</td>\n",
       "    </tr>\n",
       "    <tr>\n",
       "      <th>52141</th>\n",
       "      <td>363-822</td>\n",
       "      <td>충북</td>\n",
       "      <td>청원군</td>\n",
       "      <td>현도면</td>\n",
       "      <td>중척리</td>\n",
       "      <td></td>\n",
       "      <td>52142</td>\n",
       "    </tr>\n",
       "    <tr>\n",
       "      <th>52142</th>\n",
       "      <td>363-821</td>\n",
       "      <td>충북</td>\n",
       "      <td>청원군</td>\n",
       "      <td>현도면</td>\n",
       "      <td>하석리</td>\n",
       "      <td></td>\n",
       "      <td>52143</td>\n",
       "    </tr>\n",
       "    <tr>\n",
       "      <th>52143</th>\n",
       "      <td>363-820</td>\n",
       "      <td>충북</td>\n",
       "      <td>청원군</td>\n",
       "      <td>현도면</td>\n",
       "      <td></td>\n",
       "      <td></td>\n",
       "      <td>52144</td>\n",
       "    </tr>\n",
       "  </tbody>\n",
       "</table>\n",
       "<p>52144 rows × 7 columns</p>\n",
       "</div>"
      ],
      "text/plain": [
       "       ZIPCODE SIDO GUGUN  DONG       RI       BUNJI    SEQ\n",
       "0      135-806   서울   강남구  개포1동    경남아파트                  1\n",
       "1      135-807   서울   강남구  개포1동  우성3차아파트      (1∼6동)      2\n",
       "2      135-806   서울   강남구  개포1동  우성9차아파트  (901∼902동)      3\n",
       "3      135-770   서울   강남구  개포1동    주공아파트     (1∼16동)      4\n",
       "4      135-805   서울   강남구  개포1동    주공아파트    (17∼40동)      5\n",
       "...        ...  ...   ...   ...      ...         ...    ...\n",
       "52139  363-823   충북   청원군   현도면      죽전리              52140\n",
       "52140  363-823   충북   청원군   현도면      중삼리              52141\n",
       "52141  363-822   충북   청원군   현도면      중척리              52142\n",
       "52142  363-821   충북   청원군   현도면      하석리              52143\n",
       "52143  363-820   충북   청원군   현도면                       52144\n",
       "\n",
       "[52144 rows x 7 columns]"
      ]
     },
     "execution_count": 26,
     "metadata": {},
     "output_type": "execute_result"
    }
   ],
   "source": [
    "#결측치 처리는 공백으로 대체\n",
    "# zip = zip.fillna(' ')\n",
    "zip.fillna('', inplace=True)  # inplace 옵션으로 변경사항을 바로 변수에 저장\n",
    "zip"
   ]
  },
  {
   "cell_type": "code",
   "execution_count": 27,
   "id": "50c5670f-38e0-4c0e-bcd8-ee175a8bf7ed",
   "metadata": {},
   "outputs": [
    {
     "data": {
      "text/html": [
       "<div>\n",
       "<style scoped>\n",
       "    .dataframe tbody tr th:only-of-type {\n",
       "        vertical-align: middle;\n",
       "    }\n",
       "\n",
       "    .dataframe tbody tr th {\n",
       "        vertical-align: top;\n",
       "    }\n",
       "\n",
       "    .dataframe thead th {\n",
       "        text-align: right;\n",
       "    }\n",
       "</style>\n",
       "<table border=\"1\" class=\"dataframe\">\n",
       "  <thead>\n",
       "    <tr style=\"text-align: right;\">\n",
       "      <th></th>\n",
       "      <th>pclass</th>\n",
       "      <th>survived</th>\n",
       "      <th>name</th>\n",
       "      <th>sex</th>\n",
       "      <th>age</th>\n",
       "      <th>sibsp</th>\n",
       "      <th>parch</th>\n",
       "      <th>ticket</th>\n",
       "      <th>fare</th>\n",
       "      <th>cabin</th>\n",
       "      <th>embarked</th>\n",
       "    </tr>\n",
       "  </thead>\n",
       "  <tbody>\n",
       "    <tr>\n",
       "      <th>0</th>\n",
       "      <td>1</td>\n",
       "      <td>1</td>\n",
       "      <td>Allen, Miss. Elisabeth Walton</td>\n",
       "      <td>female</td>\n",
       "      <td>29.0000</td>\n",
       "      <td>0</td>\n",
       "      <td>0</td>\n",
       "      <td>24160</td>\n",
       "      <td>211.3375</td>\n",
       "      <td>B5</td>\n",
       "      <td>S</td>\n",
       "    </tr>\n",
       "    <tr>\n",
       "      <th>1</th>\n",
       "      <td>1</td>\n",
       "      <td>1</td>\n",
       "      <td>Allison, Master. Hudson Trevor</td>\n",
       "      <td>male</td>\n",
       "      <td>0.9167</td>\n",
       "      <td>1</td>\n",
       "      <td>2</td>\n",
       "      <td>113781</td>\n",
       "      <td>151.5500</td>\n",
       "      <td>C22 C26</td>\n",
       "      <td>S</td>\n",
       "    </tr>\n",
       "    <tr>\n",
       "      <th>2</th>\n",
       "      <td>1</td>\n",
       "      <td>0</td>\n",
       "      <td>Allison, Miss. Helen Loraine</td>\n",
       "      <td>female</td>\n",
       "      <td>2.0000</td>\n",
       "      <td>1</td>\n",
       "      <td>2</td>\n",
       "      <td>113781</td>\n",
       "      <td>151.5500</td>\n",
       "      <td>C22 C26</td>\n",
       "      <td>S</td>\n",
       "    </tr>\n",
       "    <tr>\n",
       "      <th>3</th>\n",
       "      <td>1</td>\n",
       "      <td>0</td>\n",
       "      <td>Allison, Mr. Hudson Joshua Creighton</td>\n",
       "      <td>male</td>\n",
       "      <td>30.0000</td>\n",
       "      <td>1</td>\n",
       "      <td>2</td>\n",
       "      <td>113781</td>\n",
       "      <td>151.5500</td>\n",
       "      <td>C22 C26</td>\n",
       "      <td>S</td>\n",
       "    </tr>\n",
       "    <tr>\n",
       "      <th>4</th>\n",
       "      <td>1</td>\n",
       "      <td>0</td>\n",
       "      <td>Allison, Mrs. Hudson J C (Bessie Waldo Daniels)</td>\n",
       "      <td>female</td>\n",
       "      <td>25.0000</td>\n",
       "      <td>1</td>\n",
       "      <td>2</td>\n",
       "      <td>113781</td>\n",
       "      <td>151.5500</td>\n",
       "      <td>C22 C26</td>\n",
       "      <td>S</td>\n",
       "    </tr>\n",
       "    <tr>\n",
       "      <th>5</th>\n",
       "      <td>1</td>\n",
       "      <td>1</td>\n",
       "      <td>Anderson, Mr. Harry</td>\n",
       "      <td>male</td>\n",
       "      <td>48.0000</td>\n",
       "      <td>0</td>\n",
       "      <td>0</td>\n",
       "      <td>19952</td>\n",
       "      <td>26.5500</td>\n",
       "      <td>E12</td>\n",
       "      <td>S</td>\n",
       "    </tr>\n",
       "    <tr>\n",
       "      <th>6</th>\n",
       "      <td>1</td>\n",
       "      <td>1</td>\n",
       "      <td>Andrews, Miss. Kornelia Theodosia</td>\n",
       "      <td>female</td>\n",
       "      <td>63.0000</td>\n",
       "      <td>1</td>\n",
       "      <td>0</td>\n",
       "      <td>13502</td>\n",
       "      <td>77.9583</td>\n",
       "      <td>D7</td>\n",
       "      <td>S</td>\n",
       "    </tr>\n",
       "    <tr>\n",
       "      <th>7</th>\n",
       "      <td>1</td>\n",
       "      <td>0</td>\n",
       "      <td>Andrews, Mr. Thomas Jr</td>\n",
       "      <td>male</td>\n",
       "      <td>39.0000</td>\n",
       "      <td>0</td>\n",
       "      <td>0</td>\n",
       "      <td>112050</td>\n",
       "      <td>0.0000</td>\n",
       "      <td>A36</td>\n",
       "      <td>S</td>\n",
       "    </tr>\n",
       "    <tr>\n",
       "      <th>8</th>\n",
       "      <td>1</td>\n",
       "      <td>1</td>\n",
       "      <td>Appleton, Mrs. Edward Dale (Charlotte Lamson)</td>\n",
       "      <td>female</td>\n",
       "      <td>53.0000</td>\n",
       "      <td>2</td>\n",
       "      <td>0</td>\n",
       "      <td>11769</td>\n",
       "      <td>51.4792</td>\n",
       "      <td>C101</td>\n",
       "      <td>S</td>\n",
       "    </tr>\n",
       "    <tr>\n",
       "      <th>9</th>\n",
       "      <td>1</td>\n",
       "      <td>0</td>\n",
       "      <td>Artagaveytia, Mr. Ramon</td>\n",
       "      <td>male</td>\n",
       "      <td>71.0000</td>\n",
       "      <td>0</td>\n",
       "      <td>0</td>\n",
       "      <td>PC 17609</td>\n",
       "      <td>49.5042</td>\n",
       "      <td>NaN</td>\n",
       "      <td>C</td>\n",
       "    </tr>\n",
       "    <tr>\n",
       "      <th>10</th>\n",
       "      <td>1</td>\n",
       "      <td>0</td>\n",
       "      <td>Astor, Col. John Jacob</td>\n",
       "      <td>male</td>\n",
       "      <td>47.0000</td>\n",
       "      <td>1</td>\n",
       "      <td>0</td>\n",
       "      <td>PC 17757</td>\n",
       "      <td>227.5250</td>\n",
       "      <td>C62 C64</td>\n",
       "      <td>C</td>\n",
       "    </tr>\n",
       "    <tr>\n",
       "      <th>11</th>\n",
       "      <td>1</td>\n",
       "      <td>1</td>\n",
       "      <td>Astor, Mrs. John Jacob (Madeleine Talmadge Force)</td>\n",
       "      <td>female</td>\n",
       "      <td>18.0000</td>\n",
       "      <td>1</td>\n",
       "      <td>0</td>\n",
       "      <td>PC 17757</td>\n",
       "      <td>227.5250</td>\n",
       "      <td>C62 C64</td>\n",
       "      <td>C</td>\n",
       "    </tr>\n",
       "    <tr>\n",
       "      <th>12</th>\n",
       "      <td>1</td>\n",
       "      <td>1</td>\n",
       "      <td>Aubart, Mme. Leontine Pauline</td>\n",
       "      <td>female</td>\n",
       "      <td>24.0000</td>\n",
       "      <td>0</td>\n",
       "      <td>0</td>\n",
       "      <td>PC 17477</td>\n",
       "      <td>69.3000</td>\n",
       "      <td>B35</td>\n",
       "      <td>C</td>\n",
       "    </tr>\n",
       "    <tr>\n",
       "      <th>13</th>\n",
       "      <td>1</td>\n",
       "      <td>1</td>\n",
       "      <td>Barber, Miss. Ellen \"Nellie\"</td>\n",
       "      <td>female</td>\n",
       "      <td>26.0000</td>\n",
       "      <td>0</td>\n",
       "      <td>0</td>\n",
       "      <td>19877</td>\n",
       "      <td>78.8500</td>\n",
       "      <td>NaN</td>\n",
       "      <td>S</td>\n",
       "    </tr>\n",
       "    <tr>\n",
       "      <th>14</th>\n",
       "      <td>1</td>\n",
       "      <td>1</td>\n",
       "      <td>Barkworth, Mr. Algernon Henry Wilson</td>\n",
       "      <td>male</td>\n",
       "      <td>80.0000</td>\n",
       "      <td>0</td>\n",
       "      <td>0</td>\n",
       "      <td>27042</td>\n",
       "      <td>30.0000</td>\n",
       "      <td>A23</td>\n",
       "      <td>S</td>\n",
       "    </tr>\n",
       "    <tr>\n",
       "      <th>15</th>\n",
       "      <td>1</td>\n",
       "      <td>0</td>\n",
       "      <td>Baumann, Mr. John D</td>\n",
       "      <td>male</td>\n",
       "      <td>NaN</td>\n",
       "      <td>0</td>\n",
       "      <td>0</td>\n",
       "      <td>PC 17318</td>\n",
       "      <td>25.9250</td>\n",
       "      <td>NaN</td>\n",
       "      <td>S</td>\n",
       "    </tr>\n",
       "  </tbody>\n",
       "</table>\n",
       "</div>"
      ],
      "text/plain": [
       "    pclass  survived                                               name     sex      age  sibsp  \\\n",
       "0        1         1                      Allen, Miss. Elisabeth Walton  female  29.0000      0   \n",
       "1        1         1                     Allison, Master. Hudson Trevor    male   0.9167      1   \n",
       "2        1         0                       Allison, Miss. Helen Loraine  female   2.0000      1   \n",
       "3        1         0               Allison, Mr. Hudson Joshua Creighton    male  30.0000      1   \n",
       "4        1         0    Allison, Mrs. Hudson J C (Bessie Waldo Daniels)  female  25.0000      1   \n",
       "5        1         1                                Anderson, Mr. Harry    male  48.0000      0   \n",
       "6        1         1                  Andrews, Miss. Kornelia Theodosia  female  63.0000      1   \n",
       "7        1         0                             Andrews, Mr. Thomas Jr    male  39.0000      0   \n",
       "8        1         1      Appleton, Mrs. Edward Dale (Charlotte Lamson)  female  53.0000      2   \n",
       "9        1         0                            Artagaveytia, Mr. Ramon    male  71.0000      0   \n",
       "10       1         0                             Astor, Col. John Jacob    male  47.0000      1   \n",
       "11       1         1  Astor, Mrs. John Jacob (Madeleine Talmadge Force)  female  18.0000      1   \n",
       "12       1         1                      Aubart, Mme. Leontine Pauline  female  24.0000      0   \n",
       "13       1         1                       Barber, Miss. Ellen \"Nellie\"  female  26.0000      0   \n",
       "14       1         1               Barkworth, Mr. Algernon Henry Wilson    male  80.0000      0   \n",
       "15       1         0                                Baumann, Mr. John D    male      NaN      0   \n",
       "\n",
       "    parch    ticket      fare    cabin embarked  \n",
       "0       0     24160  211.3375       B5        S  \n",
       "1       2    113781  151.5500  C22 C26        S  \n",
       "2       2    113781  151.5500  C22 C26        S  \n",
       "3       2    113781  151.5500  C22 C26        S  \n",
       "4       2    113781  151.5500  C22 C26        S  \n",
       "5       0     19952   26.5500      E12        S  \n",
       "6       0     13502   77.9583       D7        S  \n",
       "7       0    112050    0.0000      A36        S  \n",
       "8       0     11769   51.4792     C101        S  \n",
       "9       0  PC 17609   49.5042      NaN        C  \n",
       "10      0  PC 17757  227.5250  C62 C64        C  \n",
       "11      0  PC 17757  227.5250  C62 C64        C  \n",
       "12      0  PC 17477   69.3000      B35        C  \n",
       "13      0     19877   78.8500      NaN        S  \n",
       "14      0     27042   30.0000      A23        S  \n",
       "15      0  PC 17318   25.9250      NaN        S  "
      ]
     },
     "execution_count": 27,
     "metadata": {},
     "output_type": "execute_result"
    }
   ],
   "source": [
    "# titanic 데이터프레임의 결측치를 적절히 처리하고 출력\n",
    "titanic = pd.read_csv('data/titanic.csv')\n",
    "titanic.head(16)"
   ]
  },
  {
   "cell_type": "code",
   "execution_count": 28,
   "id": "1b515267-5553-422c-a53a-d5097479477f",
   "metadata": {},
   "outputs": [
    {
     "name": "stdout",
     "output_type": "stream",
     "text": [
      "<class 'pandas.core.frame.DataFrame'>\n",
      "RangeIndex: 1309 entries, 0 to 1308\n",
      "Data columns (total 11 columns):\n",
      " #   Column    Non-Null Count  Dtype  \n",
      "---  ------    --------------  -----  \n",
      " 0   pclass    1309 non-null   int64  \n",
      " 1   survived  1309 non-null   int64  \n",
      " 2   name      1309 non-null   object \n",
      " 3   sex       1309 non-null   object \n",
      " 4   age       1046 non-null   float64\n",
      " 5   sibsp     1309 non-null   int64  \n",
      " 6   parch     1309 non-null   int64  \n",
      " 7   ticket    1309 non-null   object \n",
      " 8   fare      1308 non-null   float64\n",
      " 9   cabin     295 non-null    object \n",
      " 10  embarked  1307 non-null   object \n",
      "dtypes: float64(2), int64(4), object(5)\n",
      "memory usage: 112.6+ KB\n"
     ]
    }
   ],
   "source": [
    "titanic.info()"
   ]
  },
  {
   "cell_type": "code",
   "execution_count": 29,
   "id": "4bdcc50c-d31d-44be-8935-9e8becdb2607",
   "metadata": {},
   "outputs": [
    {
     "data": {
      "text/plain": [
       "pclass         0\n",
       "survived       0\n",
       "name           0\n",
       "sex            0\n",
       "age          263\n",
       "sibsp          0\n",
       "parch          0\n",
       "ticket         0\n",
       "fare           1\n",
       "cabin       1014\n",
       "embarked       2\n",
       "dtype: int64"
      ]
     },
     "execution_count": 29,
     "metadata": {},
     "output_type": "execute_result"
    }
   ],
   "source": [
    "titanic.isna().sum()"
   ]
  },
  {
   "cell_type": "code",
   "execution_count": 30,
   "id": "953bd0b1-d4ee-4bf5-b643-a120dce79f68",
   "metadata": {},
   "outputs": [],
   "source": [
    "# age는 평균값으로 대체\n",
    "mean = np.mean(titanic.age)\n",
    "titanic.age.fillna(mean, inplace=True)"
   ]
  },
  {
   "cell_type": "code",
   "execution_count": 31,
   "id": "93e3d142-2a87-48c7-8478-34a6939e9b51",
   "metadata": {},
   "outputs": [],
   "source": [
    "# cabin 컬럼을 기준으로 dropna하는 것은 비효율적 - 1014개의 행이 제거\n",
    "# 따라서, drop메서드를 이용해서 해당컬럼을 제거\n",
    "# 객체명.drop('컬럼명', axis=1)\n",
    "titanic.drop('cabin', axis=1, inplace=True)"
   ]
  },
  {
   "cell_type": "code",
   "execution_count": 32,
   "id": "14fff595-617b-4d64-bd6b-3030508eae42",
   "metadata": {},
   "outputs": [
    {
     "data": {
      "text/plain": [
       "pclass      0\n",
       "survived    0\n",
       "name        0\n",
       "sex         0\n",
       "age         0\n",
       "sibsp       0\n",
       "parch       0\n",
       "ticket      0\n",
       "fare        1\n",
       "embarked    2\n",
       "dtype: int64"
      ]
     },
     "execution_count": 32,
     "metadata": {},
     "output_type": "execute_result"
    }
   ],
   "source": [
    "titanic.isna().sum()"
   ]
  },
  {
   "cell_type": "code",
   "execution_count": 33,
   "id": "edc0d4e8-78d4-4e39-9c40-e8600644ba1f",
   "metadata": {},
   "outputs": [],
   "source": [
    "# embarked, fare 컬럼의 결측치 제거(행기준)\n",
    "titanic.dropna(inplace=True)"
   ]
  },
  {
   "cell_type": "code",
   "execution_count": 34,
   "id": "e0ef7be2-6ea7-47de-bbc2-b021edd80da8",
   "metadata": {},
   "outputs": [
    {
     "data": {
      "text/plain": [
       "pclass      0\n",
       "survived    0\n",
       "name        0\n",
       "sex         0\n",
       "age         0\n",
       "sibsp       0\n",
       "parch       0\n",
       "ticket      0\n",
       "fare        0\n",
       "embarked    0\n",
       "dtype: int64"
      ]
     },
     "execution_count": 34,
     "metadata": {},
     "output_type": "execute_result"
    }
   ],
   "source": [
    "titanic.isna().sum()"
   ]
  },
  {
   "cell_type": "markdown",
   "id": "d3f52b6f-f466-4b7d-8792-6e3cc4552ed1",
   "metadata": {},
   "source": [
    "# dataframe에 새로운 항목 추가\n",
    "+ 기존 컬럼의 값을 기준으로 새로운 컬럼을 생성할 수 있음 - 파생변수\n",
    "+ 기존 변수를 조합해서 새로운 변수를 만들어 냄\n",
    "+ 데이터를 분석하기 좋은 형태로 만들기 위해 수행\n",
    "+ 객채명['새로운컬럼명'] = 값들"
   ]
  },
  {
   "cell_type": "code",
   "execution_count": 35,
   "id": "70c07e14-7530-4332-916e-e9f308a1a90f",
   "metadata": {},
   "outputs": [],
   "source": [
    "# 문자형 변수를 숫자형 변수로 인코딩 -> 컴퓨터는 숫자를 더 좋아하기 때문\n",
    "# 성별 컬럼의 female, male값을 0, 1로 변환\n",
    "# 승선위치 컬럼의 C, Q, S값을 0, 1, 2로 변환\n",
    "def getGender(x):   # 성별변환함수\n",
    "    gender = 0\n",
    "    if x == 'male' : gender = 1\n",
    "    return gender\n",
    "    \n",
    "def getPort(x):\n",
    "    port = 0\n",
    "    if x == 'Q' : port = 1\n",
    "    elif x == 'S' : port = 2\n",
    "    return port"
   ]
  },
  {
   "cell_type": "code",
   "execution_count": 36,
   "id": "e1d18915-d235-485b-9e96-7eef09dbd7e9",
   "metadata": {},
   "outputs": [
    {
     "data": {
      "text/html": [
       "<div>\n",
       "<style scoped>\n",
       "    .dataframe tbody tr th:only-of-type {\n",
       "        vertical-align: middle;\n",
       "    }\n",
       "\n",
       "    .dataframe tbody tr th {\n",
       "        vertical-align: top;\n",
       "    }\n",
       "\n",
       "    .dataframe thead th {\n",
       "        text-align: right;\n",
       "    }\n",
       "</style>\n",
       "<table border=\"1\" class=\"dataframe\">\n",
       "  <thead>\n",
       "    <tr style=\"text-align: right;\">\n",
       "      <th></th>\n",
       "      <th>sex</th>\n",
       "      <th>gender</th>\n",
       "    </tr>\n",
       "  </thead>\n",
       "  <tbody>\n",
       "    <tr>\n",
       "      <th>0</th>\n",
       "      <td>female</td>\n",
       "      <td>0</td>\n",
       "    </tr>\n",
       "    <tr>\n",
       "      <th>1</th>\n",
       "      <td>male</td>\n",
       "      <td>1</td>\n",
       "    </tr>\n",
       "    <tr>\n",
       "      <th>2</th>\n",
       "      <td>female</td>\n",
       "      <td>0</td>\n",
       "    </tr>\n",
       "    <tr>\n",
       "      <th>3</th>\n",
       "      <td>male</td>\n",
       "      <td>1</td>\n",
       "    </tr>\n",
       "    <tr>\n",
       "      <th>4</th>\n",
       "      <td>female</td>\n",
       "      <td>0</td>\n",
       "    </tr>\n",
       "  </tbody>\n",
       "</table>\n",
       "</div>"
      ],
      "text/plain": [
       "      sex  gender\n",
       "0  female       0\n",
       "1    male       1\n",
       "2  female       0\n",
       "3    male       1\n",
       "4  female       0"
      ]
     },
     "execution_count": 36,
     "metadata": {},
     "output_type": "execute_result"
    }
   ],
   "source": [
    "# 새로운 성별 컬럼 생성\n",
    "titanic['gender'] = titanic['sex'].apply(lambda x: getGender(x) )\n",
    "titanic[['sex','gender']].head()"
   ]
  },
  {
   "cell_type": "code",
   "execution_count": 37,
   "id": "45841918-5f2b-4f36-bf1a-e4657a904e09",
   "metadata": {},
   "outputs": [
    {
     "data": {
      "text/html": [
       "<div>\n",
       "<style scoped>\n",
       "    .dataframe tbody tr th:only-of-type {\n",
       "        vertical-align: middle;\n",
       "    }\n",
       "\n",
       "    .dataframe tbody tr th {\n",
       "        vertical-align: top;\n",
       "    }\n",
       "\n",
       "    .dataframe thead th {\n",
       "        text-align: right;\n",
       "    }\n",
       "</style>\n",
       "<table border=\"1\" class=\"dataframe\">\n",
       "  <thead>\n",
       "    <tr style=\"text-align: right;\">\n",
       "      <th></th>\n",
       "      <th>embarked</th>\n",
       "      <th>port</th>\n",
       "    </tr>\n",
       "  </thead>\n",
       "  <tbody>\n",
       "    <tr>\n",
       "      <th>0</th>\n",
       "      <td>S</td>\n",
       "      <td>2</td>\n",
       "    </tr>\n",
       "    <tr>\n",
       "      <th>1</th>\n",
       "      <td>S</td>\n",
       "      <td>2</td>\n",
       "    </tr>\n",
       "    <tr>\n",
       "      <th>2</th>\n",
       "      <td>S</td>\n",
       "      <td>2</td>\n",
       "    </tr>\n",
       "    <tr>\n",
       "      <th>3</th>\n",
       "      <td>S</td>\n",
       "      <td>2</td>\n",
       "    </tr>\n",
       "    <tr>\n",
       "      <th>4</th>\n",
       "      <td>S</td>\n",
       "      <td>2</td>\n",
       "    </tr>\n",
       "    <tr>\n",
       "      <th>...</th>\n",
       "      <td>...</td>\n",
       "      <td>...</td>\n",
       "    </tr>\n",
       "    <tr>\n",
       "      <th>1304</th>\n",
       "      <td>C</td>\n",
       "      <td>0</td>\n",
       "    </tr>\n",
       "    <tr>\n",
       "      <th>1305</th>\n",
       "      <td>C</td>\n",
       "      <td>0</td>\n",
       "    </tr>\n",
       "    <tr>\n",
       "      <th>1306</th>\n",
       "      <td>C</td>\n",
       "      <td>0</td>\n",
       "    </tr>\n",
       "    <tr>\n",
       "      <th>1307</th>\n",
       "      <td>C</td>\n",
       "      <td>0</td>\n",
       "    </tr>\n",
       "    <tr>\n",
       "      <th>1308</th>\n",
       "      <td>S</td>\n",
       "      <td>2</td>\n",
       "    </tr>\n",
       "  </tbody>\n",
       "</table>\n",
       "<p>1306 rows × 2 columns</p>\n",
       "</div>"
      ],
      "text/plain": [
       "     embarked  port\n",
       "0           S     2\n",
       "1           S     2\n",
       "2           S     2\n",
       "3           S     2\n",
       "4           S     2\n",
       "...       ...   ...\n",
       "1304        C     0\n",
       "1305        C     0\n",
       "1306        C     0\n",
       "1307        C     0\n",
       "1308        S     2\n",
       "\n",
       "[1306 rows x 2 columns]"
      ]
     },
     "execution_count": 37,
     "metadata": {},
     "output_type": "execute_result"
    }
   ],
   "source": [
    "titanic['port'] = titanic['embarked'].apply(lambda x: getPort(x) )\n",
    "titanic[['embarked','port']]"
   ]
  },
  {
   "cell_type": "code",
   "execution_count": 38,
   "id": "4da5260a-cdc7-46f0-a147-bb4c36aaf2ec",
   "metadata": {},
   "outputs": [],
   "source": [
    "# 숫자형 변수를 문자형 변수로 인코딩\n",
    "# pclass 컬럼을 기준으로 seat컬럼을 생성(1st, 2nd, 3rd)\n",
    "def getSeat(x):   \n",
    "    seat = '1st'\n",
    "    if x == 2 : seat = '2nd'\n",
    "    elif x == 3 : seat = '3rd'\n",
    "    return seat"
   ]
  },
  {
   "cell_type": "code",
   "execution_count": 39,
   "id": "5f46b9e2-8711-4eb5-b3a7-c59367e04566",
   "metadata": {},
   "outputs": [
    {
     "data": {
      "text/html": [
       "<div>\n",
       "<style scoped>\n",
       "    .dataframe tbody tr th:only-of-type {\n",
       "        vertical-align: middle;\n",
       "    }\n",
       "\n",
       "    .dataframe tbody tr th {\n",
       "        vertical-align: top;\n",
       "    }\n",
       "\n",
       "    .dataframe thead th {\n",
       "        text-align: right;\n",
       "    }\n",
       "</style>\n",
       "<table border=\"1\" class=\"dataframe\">\n",
       "  <thead>\n",
       "    <tr style=\"text-align: right;\">\n",
       "      <th></th>\n",
       "      <th>pclass</th>\n",
       "      <th>seat</th>\n",
       "    </tr>\n",
       "  </thead>\n",
       "  <tbody>\n",
       "    <tr>\n",
       "      <th>0</th>\n",
       "      <td>1</td>\n",
       "      <td>1st</td>\n",
       "    </tr>\n",
       "    <tr>\n",
       "      <th>1</th>\n",
       "      <td>1</td>\n",
       "      <td>1st</td>\n",
       "    </tr>\n",
       "    <tr>\n",
       "      <th>2</th>\n",
       "      <td>1</td>\n",
       "      <td>1st</td>\n",
       "    </tr>\n",
       "    <tr>\n",
       "      <th>3</th>\n",
       "      <td>1</td>\n",
       "      <td>1st</td>\n",
       "    </tr>\n",
       "    <tr>\n",
       "      <th>4</th>\n",
       "      <td>1</td>\n",
       "      <td>1st</td>\n",
       "    </tr>\n",
       "    <tr>\n",
       "      <th>...</th>\n",
       "      <td>...</td>\n",
       "      <td>...</td>\n",
       "    </tr>\n",
       "    <tr>\n",
       "      <th>1304</th>\n",
       "      <td>3</td>\n",
       "      <td>3rd</td>\n",
       "    </tr>\n",
       "    <tr>\n",
       "      <th>1305</th>\n",
       "      <td>3</td>\n",
       "      <td>3rd</td>\n",
       "    </tr>\n",
       "    <tr>\n",
       "      <th>1306</th>\n",
       "      <td>3</td>\n",
       "      <td>3rd</td>\n",
       "    </tr>\n",
       "    <tr>\n",
       "      <th>1307</th>\n",
       "      <td>3</td>\n",
       "      <td>3rd</td>\n",
       "    </tr>\n",
       "    <tr>\n",
       "      <th>1308</th>\n",
       "      <td>3</td>\n",
       "      <td>3rd</td>\n",
       "    </tr>\n",
       "  </tbody>\n",
       "</table>\n",
       "<p>1306 rows × 2 columns</p>\n",
       "</div>"
      ],
      "text/plain": [
       "      pclass seat\n",
       "0          1  1st\n",
       "1          1  1st\n",
       "2          1  1st\n",
       "3          1  1st\n",
       "4          1  1st\n",
       "...      ...  ...\n",
       "1304       3  3rd\n",
       "1305       3  3rd\n",
       "1306       3  3rd\n",
       "1307       3  3rd\n",
       "1308       3  3rd\n",
       "\n",
       "[1306 rows x 2 columns]"
      ]
     },
     "execution_count": 39,
     "metadata": {},
     "output_type": "execute_result"
    }
   ],
   "source": [
    "titanic['seat'] = titanic['pclass'].apply(lambda x: getSeat(x) )\n",
    "titanic[['pclass','seat']]"
   ]
  },
  {
   "cell_type": "code",
   "execution_count": 40,
   "id": "b9e07100-2621-443c-8e62-036ff7b333f3",
   "metadata": {},
   "outputs": [],
   "source": [
    "# embarked 컬럼을 기준오르 port2컬럼을 생성(cherbourg, queenstown, southamptond)\n",
    "def getPort2(x):   # \n",
    "    port2 = 'cherbourg'\n",
    "    if x == 'Q' : port2 = 'queenstown'\n",
    "    elif x == 'S' : port2 = 'southamptond'\n",
    "    return port2"
   ]
  },
  {
   "cell_type": "code",
   "execution_count": 41,
   "id": "3e8e50f9-60c3-4132-83ae-11f3414f4bd7",
   "metadata": {},
   "outputs": [
    {
     "data": {
      "text/html": [
       "<div>\n",
       "<style scoped>\n",
       "    .dataframe tbody tr th:only-of-type {\n",
       "        vertical-align: middle;\n",
       "    }\n",
       "\n",
       "    .dataframe tbody tr th {\n",
       "        vertical-align: top;\n",
       "    }\n",
       "\n",
       "    .dataframe thead th {\n",
       "        text-align: right;\n",
       "    }\n",
       "</style>\n",
       "<table border=\"1\" class=\"dataframe\">\n",
       "  <thead>\n",
       "    <tr style=\"text-align: right;\">\n",
       "      <th></th>\n",
       "      <th>embarked</th>\n",
       "      <th>port2</th>\n",
       "    </tr>\n",
       "  </thead>\n",
       "  <tbody>\n",
       "    <tr>\n",
       "      <th>0</th>\n",
       "      <td>S</td>\n",
       "      <td>southamptond</td>\n",
       "    </tr>\n",
       "    <tr>\n",
       "      <th>1</th>\n",
       "      <td>S</td>\n",
       "      <td>southamptond</td>\n",
       "    </tr>\n",
       "    <tr>\n",
       "      <th>2</th>\n",
       "      <td>S</td>\n",
       "      <td>southamptond</td>\n",
       "    </tr>\n",
       "    <tr>\n",
       "      <th>3</th>\n",
       "      <td>S</td>\n",
       "      <td>southamptond</td>\n",
       "    </tr>\n",
       "    <tr>\n",
       "      <th>4</th>\n",
       "      <td>S</td>\n",
       "      <td>southamptond</td>\n",
       "    </tr>\n",
       "    <tr>\n",
       "      <th>...</th>\n",
       "      <td>...</td>\n",
       "      <td>...</td>\n",
       "    </tr>\n",
       "    <tr>\n",
       "      <th>1304</th>\n",
       "      <td>C</td>\n",
       "      <td>cherbourg</td>\n",
       "    </tr>\n",
       "    <tr>\n",
       "      <th>1305</th>\n",
       "      <td>C</td>\n",
       "      <td>cherbourg</td>\n",
       "    </tr>\n",
       "    <tr>\n",
       "      <th>1306</th>\n",
       "      <td>C</td>\n",
       "      <td>cherbourg</td>\n",
       "    </tr>\n",
       "    <tr>\n",
       "      <th>1307</th>\n",
       "      <td>C</td>\n",
       "      <td>cherbourg</td>\n",
       "    </tr>\n",
       "    <tr>\n",
       "      <th>1308</th>\n",
       "      <td>S</td>\n",
       "      <td>southamptond</td>\n",
       "    </tr>\n",
       "  </tbody>\n",
       "</table>\n",
       "<p>1306 rows × 2 columns</p>\n",
       "</div>"
      ],
      "text/plain": [
       "     embarked         port2\n",
       "0           S  southamptond\n",
       "1           S  southamptond\n",
       "2           S  southamptond\n",
       "3           S  southamptond\n",
       "4           S  southamptond\n",
       "...       ...           ...\n",
       "1304        C     cherbourg\n",
       "1305        C     cherbourg\n",
       "1306        C     cherbourg\n",
       "1307        C     cherbourg\n",
       "1308        S  southamptond\n",
       "\n",
       "[1306 rows x 2 columns]"
      ]
     },
     "execution_count": 41,
     "metadata": {},
     "output_type": "execute_result"
    }
   ],
   "source": [
    "titanic['port2'] = titanic['embarked'].apply(lambda x: getPort2(x) )\n",
    "titanic[['embarked','port2']]"
   ]
  },
  {
   "cell_type": "code",
   "execution_count": 42,
   "id": "edabf753-bbcc-476e-8d8e-71ffb6741906",
   "metadata": {},
   "outputs": [
    {
     "data": {
      "text/plain": [
       "0                      Allen, Miss. Elisabeth Walton\n",
       "1                     Allison, Master. Hudson Trevor\n",
       "2                       Allison, Miss. Helen Loraine\n",
       "3               Allison, Mr. Hudson Joshua Creighton\n",
       "4    Allison, Mrs. Hudson J C (Bessie Waldo Daniels)\n",
       "Name: name, dtype: object"
      ]
     },
     "execution_count": 42,
     "metadata": {},
     "output_type": "execute_result"
    }
   ],
   "source": [
    "# 문자열 데이터를 범주형 데이터로 변환\n",
    "# 승객들의 직책을 추출 : getTitle\n",
    "titanic.name.head()"
   ]
  },
  {
   "cell_type": "code",
   "execution_count": 43,
   "id": "1de1a027-ca84-493b-a240-f78efffbcdd9",
   "metadata": {},
   "outputs": [
    {
     "data": {
      "text/plain": [
       "1304         Zabour, Miss. Hileni\n",
       "1305        Zabour, Miss. Thamine\n",
       "1306    Zakarian, Mr. Mapriededer\n",
       "1307          Zakarian, Mr. Ortin\n",
       "1308           Zimmerman, Mr. Leo\n",
       "Name: name, dtype: object"
      ]
     },
     "execution_count": 43,
     "metadata": {},
     "output_type": "execute_result"
    }
   ],
   "source": [
    "titanic.name.tail()"
   ]
  },
  {
   "cell_type": "code",
   "execution_count": 44,
   "id": "96359d4f-5b38-4912-9b05-42abd9af8cb3",
   "metadata": {},
   "outputs": [
    {
     "data": {
      "text/plain": [
       "0      Miss\n",
       "1    Master\n",
       "2      Miss\n",
       "3        Mr\n",
       "4       Mrs\n",
       "Name: title, dtype: object"
      ]
     },
     "execution_count": 44,
     "metadata": {},
     "output_type": "execute_result"
    }
   ],
   "source": [
    "fmt = ' ([A-Za-z]+)'    # []문자의 범위, + 문자수, () 문자조합 \\.특수기호. 의미\n",
    "titanic['title'] = titanic.name.str.extract(fmt)    # extract(형식) 지정한 형식과 일치하는 문자를 추출함\n",
    "titanic['title'].head()"
   ]
  },
  {
   "cell_type": "code",
   "execution_count": 46,
   "id": "90f4de7c-91c3-4e9c-aecf-112e3683bcf5",
   "metadata": {},
   "outputs": [
    {
     "data": {
      "text/plain": [
       "Mr             735\n",
       "Miss           255\n",
       "Mrs            190\n",
       "Master          59\n",
       "y                8\n",
       "Rev              8\n",
       "Dr               8\n",
       "Planke           4\n",
       "Col              4\n",
       "Impe             3\n",
       "Billiard         3\n",
       "Messemaeker      2\n",
       "Mlle             2\n",
       "Major            2\n",
       "Carlo            2\n",
       "Ms               2\n",
       "Gordon           2\n",
       "Shawah           1\n",
       "Cruyssen         1\n",
       "Steen            1\n",
       "Walle            1\n",
       "Velde            1\n",
       "Melkebeke        1\n",
       "Palmquist        1\n",
       "Capt             1\n",
       "Pelsmaeker       1\n",
       "Mulder           1\n",
       "Khalil           1\n",
       "Mme              1\n",
       "der              1\n",
       "Don              1\n",
       "the              1\n",
       "Jonkheer         1\n",
       "Brito            1\n",
       "Name: title, dtype: int64"
      ]
     },
     "execution_count": 46,
     "metadata": {},
     "output_type": "execute_result"
    }
   ],
   "source": [
    "# 직책별 빈도\n",
    "titanic.title.value_counts()"
   ]
  },
  {
   "cell_type": "code",
   "execution_count": 47,
   "id": "9c219267-c5de-4745-89ec-4574795ff133",
   "metadata": {},
   "outputs": [
    {
     "data": {
      "text/html": [
       "<div>\n",
       "<style scoped>\n",
       "    .dataframe tbody tr th:only-of-type {\n",
       "        vertical-align: middle;\n",
       "    }\n",
       "\n",
       "    .dataframe tbody tr th {\n",
       "        vertical-align: top;\n",
       "    }\n",
       "\n",
       "    .dataframe thead th {\n",
       "        text-align: right;\n",
       "    }\n",
       "</style>\n",
       "<table border=\"1\" class=\"dataframe\">\n",
       "  <thead>\n",
       "    <tr style=\"text-align: right;\">\n",
       "      <th></th>\n",
       "      <th>age</th>\n",
       "      <th>ages</th>\n",
       "    </tr>\n",
       "  </thead>\n",
       "  <tbody>\n",
       "    <tr>\n",
       "      <th>0</th>\n",
       "      <td>29.000000</td>\n",
       "      <td>20대</td>\n",
       "    </tr>\n",
       "    <tr>\n",
       "      <th>1</th>\n",
       "      <td>0.916700</td>\n",
       "      <td>어린이</td>\n",
       "    </tr>\n",
       "    <tr>\n",
       "      <th>2</th>\n",
       "      <td>2.000000</td>\n",
       "      <td>유아</td>\n",
       "    </tr>\n",
       "    <tr>\n",
       "      <th>3</th>\n",
       "      <td>30.000000</td>\n",
       "      <td>30대</td>\n",
       "    </tr>\n",
       "    <tr>\n",
       "      <th>4</th>\n",
       "      <td>25.000000</td>\n",
       "      <td>20대</td>\n",
       "    </tr>\n",
       "    <tr>\n",
       "      <th>5</th>\n",
       "      <td>48.000000</td>\n",
       "      <td>40대</td>\n",
       "    </tr>\n",
       "    <tr>\n",
       "      <th>6</th>\n",
       "      <td>63.000000</td>\n",
       "      <td>60대</td>\n",
       "    </tr>\n",
       "    <tr>\n",
       "      <th>7</th>\n",
       "      <td>39.000000</td>\n",
       "      <td>30대</td>\n",
       "    </tr>\n",
       "    <tr>\n",
       "      <th>8</th>\n",
       "      <td>53.000000</td>\n",
       "      <td>50대</td>\n",
       "    </tr>\n",
       "    <tr>\n",
       "      <th>9</th>\n",
       "      <td>71.000000</td>\n",
       "      <td>70대</td>\n",
       "    </tr>\n",
       "    <tr>\n",
       "      <th>10</th>\n",
       "      <td>47.000000</td>\n",
       "      <td>40대</td>\n",
       "    </tr>\n",
       "    <tr>\n",
       "      <th>11</th>\n",
       "      <td>18.000000</td>\n",
       "      <td>청소년</td>\n",
       "    </tr>\n",
       "    <tr>\n",
       "      <th>12</th>\n",
       "      <td>24.000000</td>\n",
       "      <td>20대</td>\n",
       "    </tr>\n",
       "    <tr>\n",
       "      <th>13</th>\n",
       "      <td>26.000000</td>\n",
       "      <td>20대</td>\n",
       "    </tr>\n",
       "    <tr>\n",
       "      <th>14</th>\n",
       "      <td>80.000000</td>\n",
       "      <td>80대</td>\n",
       "    </tr>\n",
       "    <tr>\n",
       "      <th>15</th>\n",
       "      <td>29.881135</td>\n",
       "      <td>20대</td>\n",
       "    </tr>\n",
       "    <tr>\n",
       "      <th>16</th>\n",
       "      <td>24.000000</td>\n",
       "      <td>20대</td>\n",
       "    </tr>\n",
       "    <tr>\n",
       "      <th>17</th>\n",
       "      <td>50.000000</td>\n",
       "      <td>50대</td>\n",
       "    </tr>\n",
       "    <tr>\n",
       "      <th>18</th>\n",
       "      <td>32.000000</td>\n",
       "      <td>30대</td>\n",
       "    </tr>\n",
       "    <tr>\n",
       "      <th>19</th>\n",
       "      <td>36.000000</td>\n",
       "      <td>30대</td>\n",
       "    </tr>\n",
       "    <tr>\n",
       "      <th>20</th>\n",
       "      <td>37.000000</td>\n",
       "      <td>30대</td>\n",
       "    </tr>\n",
       "    <tr>\n",
       "      <th>21</th>\n",
       "      <td>47.000000</td>\n",
       "      <td>40대</td>\n",
       "    </tr>\n",
       "    <tr>\n",
       "      <th>22</th>\n",
       "      <td>26.000000</td>\n",
       "      <td>20대</td>\n",
       "    </tr>\n",
       "    <tr>\n",
       "      <th>23</th>\n",
       "      <td>42.000000</td>\n",
       "      <td>40대</td>\n",
       "    </tr>\n",
       "    <tr>\n",
       "      <th>24</th>\n",
       "      <td>29.000000</td>\n",
       "      <td>20대</td>\n",
       "    </tr>\n",
       "    <tr>\n",
       "      <th>25</th>\n",
       "      <td>25.000000</td>\n",
       "      <td>20대</td>\n",
       "    </tr>\n",
       "    <tr>\n",
       "      <th>26</th>\n",
       "      <td>25.000000</td>\n",
       "      <td>20대</td>\n",
       "    </tr>\n",
       "    <tr>\n",
       "      <th>27</th>\n",
       "      <td>19.000000</td>\n",
       "      <td>청소년</td>\n",
       "    </tr>\n",
       "    <tr>\n",
       "      <th>28</th>\n",
       "      <td>35.000000</td>\n",
       "      <td>30대</td>\n",
       "    </tr>\n",
       "    <tr>\n",
       "      <th>29</th>\n",
       "      <td>28.000000</td>\n",
       "      <td>20대</td>\n",
       "    </tr>\n",
       "    <tr>\n",
       "      <th>30</th>\n",
       "      <td>45.000000</td>\n",
       "      <td>40대</td>\n",
       "    </tr>\n",
       "    <tr>\n",
       "      <th>31</th>\n",
       "      <td>40.000000</td>\n",
       "      <td>40대</td>\n",
       "    </tr>\n",
       "    <tr>\n",
       "      <th>32</th>\n",
       "      <td>30.000000</td>\n",
       "      <td>30대</td>\n",
       "    </tr>\n",
       "    <tr>\n",
       "      <th>33</th>\n",
       "      <td>58.000000</td>\n",
       "      <td>50대</td>\n",
       "    </tr>\n",
       "    <tr>\n",
       "      <th>34</th>\n",
       "      <td>42.000000</td>\n",
       "      <td>40대</td>\n",
       "    </tr>\n",
       "    <tr>\n",
       "      <th>35</th>\n",
       "      <td>45.000000</td>\n",
       "      <td>40대</td>\n",
       "    </tr>\n",
       "    <tr>\n",
       "      <th>36</th>\n",
       "      <td>22.000000</td>\n",
       "      <td>20대</td>\n",
       "    </tr>\n",
       "    <tr>\n",
       "      <th>37</th>\n",
       "      <td>29.881135</td>\n",
       "      <td>20대</td>\n",
       "    </tr>\n",
       "    <tr>\n",
       "      <th>38</th>\n",
       "      <td>41.000000</td>\n",
       "      <td>40대</td>\n",
       "    </tr>\n",
       "    <tr>\n",
       "      <th>39</th>\n",
       "      <td>48.000000</td>\n",
       "      <td>40대</td>\n",
       "    </tr>\n",
       "    <tr>\n",
       "      <th>40</th>\n",
       "      <td>29.881135</td>\n",
       "      <td>20대</td>\n",
       "    </tr>\n",
       "    <tr>\n",
       "      <th>41</th>\n",
       "      <td>44.000000</td>\n",
       "      <td>40대</td>\n",
       "    </tr>\n",
       "    <tr>\n",
       "      <th>42</th>\n",
       "      <td>59.000000</td>\n",
       "      <td>50대</td>\n",
       "    </tr>\n",
       "    <tr>\n",
       "      <th>43</th>\n",
       "      <td>60.000000</td>\n",
       "      <td>60대</td>\n",
       "    </tr>\n",
       "    <tr>\n",
       "      <th>44</th>\n",
       "      <td>41.000000</td>\n",
       "      <td>40대</td>\n",
       "    </tr>\n",
       "    <tr>\n",
       "      <th>45</th>\n",
       "      <td>45.000000</td>\n",
       "      <td>40대</td>\n",
       "    </tr>\n",
       "    <tr>\n",
       "      <th>46</th>\n",
       "      <td>29.881135</td>\n",
       "      <td>20대</td>\n",
       "    </tr>\n",
       "    <tr>\n",
       "      <th>47</th>\n",
       "      <td>42.000000</td>\n",
       "      <td>40대</td>\n",
       "    </tr>\n",
       "    <tr>\n",
       "      <th>48</th>\n",
       "      <td>53.000000</td>\n",
       "      <td>50대</td>\n",
       "    </tr>\n",
       "    <tr>\n",
       "      <th>49</th>\n",
       "      <td>36.000000</td>\n",
       "      <td>30대</td>\n",
       "    </tr>\n",
       "  </tbody>\n",
       "</table>\n",
       "</div>"
      ],
      "text/plain": [
       "          age ages\n",
       "0   29.000000  20대\n",
       "1    0.916700  어린이\n",
       "2    2.000000   유아\n",
       "3   30.000000  30대\n",
       "4   25.000000  20대\n",
       "5   48.000000  40대\n",
       "6   63.000000  60대\n",
       "7   39.000000  30대\n",
       "8   53.000000  50대\n",
       "9   71.000000  70대\n",
       "10  47.000000  40대\n",
       "11  18.000000  청소년\n",
       "12  24.000000  20대\n",
       "13  26.000000  20대\n",
       "14  80.000000  80대\n",
       "15  29.881135  20대\n",
       "16  24.000000  20대\n",
       "17  50.000000  50대\n",
       "18  32.000000  30대\n",
       "19  36.000000  30대\n",
       "20  37.000000  30대\n",
       "21  47.000000  40대\n",
       "22  26.000000  20대\n",
       "23  42.000000  40대\n",
       "24  29.000000  20대\n",
       "25  25.000000  20대\n",
       "26  25.000000  20대\n",
       "27  19.000000  청소년\n",
       "28  35.000000  30대\n",
       "29  28.000000  20대\n",
       "30  45.000000  40대\n",
       "31  40.000000  40대\n",
       "32  30.000000  30대\n",
       "33  58.000000  50대\n",
       "34  42.000000  40대\n",
       "35  45.000000  40대\n",
       "36  22.000000  20대\n",
       "37  29.881135  20대\n",
       "38  41.000000  40대\n",
       "39  48.000000  40대\n",
       "40  29.881135  20대\n",
       "41  44.000000  40대\n",
       "42  59.000000  50대\n",
       "43  60.000000  60대\n",
       "44  41.000000  40대\n",
       "45  45.000000  40대\n",
       "46  29.881135  20대\n",
       "47  42.000000  40대\n",
       "48  53.000000  50대\n",
       "49  36.000000  30대"
      ]
     },
     "execution_count": 47,
     "metadata": {},
     "output_type": "execute_result"
    }
   ],
   "source": [
    "# 연속형 데이터를 범주형으로 변환 : getAges\n",
    "# 승객 나이를 유아, 10대, 20대~ 80대\n",
    "# 신생아 : ~ 1까지\n",
    "# 유아 :  2 ~ 6까지\n",
    "# 어린이 : 7 ~ 12까지\n",
    "# 청소년 : 13 ~ 19까지\n",
    "# 성인 : 20대, 30대, ~ 80대\n",
    "def getAge(x):   # \n",
    "    age = '신생아'\n",
    "    if 2<= x <7 : age = '유아'\n",
    "    elif x < 13 : age = '어린이'\n",
    "    elif x < 20 : age = '청소년'\n",
    "    elif x < 30 : age = '20대'\n",
    "    elif x < 40 : age = '30대'\n",
    "    elif x < 50 : age = '40대'\n",
    "    elif x < 60 : age = '50대'\n",
    "    elif x < 70 : age = '60대'\n",
    "    elif x < 80 : age = '70대'\n",
    "    elif 80 <= x : age = '80대'\n",
    "    return age\n",
    "\n",
    "titanic['ages'] = titanic['age'].apply(lambda x: getAge(x) )\n",
    "titanic[['age','ages']].head(50)"
   ]
  },
  {
   "cell_type": "code",
   "execution_count": 49,
   "id": "73b8cc4d-9281-4f92-997c-8889000b6810",
   "metadata": {
    "tags": []
   },
   "outputs": [
    {
     "data": {
      "text/plain": [
       "20대    607\n",
       "30대    231\n",
       "40대    135\n",
       "청소년    131\n",
       "50대     70\n",
       "어린이     54\n",
       "유아      40\n",
       "60대     30\n",
       "70대      7\n",
       "80대      1\n",
       "Name: ages, dtype: int64"
      ]
     },
     "execution_count": 49,
     "metadata": {},
     "output_type": "execute_result"
    }
   ],
   "source": [
    "titanic.ages.value_counts()"
   ]
  },
  {
   "cell_type": "code",
   "execution_count": 102,
   "id": "720ed234-f750-4977-9d88-0fa97d338990",
   "metadata": {},
   "outputs": [],
   "source": [
    "#titanic2로 저장\n",
    "titanic.to_csv('titanic2')\n",
    "titanic2 = pd.read_csv('titanic2')"
   ]
  },
  {
   "cell_type": "code",
   "execution_count": 74,
   "id": "25058fc0-a301-4986-b966-694f76e33b01",
   "metadata": {},
   "outputs": [
    {
     "data": {
      "text/html": [
       "<div>\n",
       "<style scoped>\n",
       "    .dataframe tbody tr th:only-of-type {\n",
       "        vertical-align: middle;\n",
       "    }\n",
       "\n",
       "    .dataframe tbody tr th {\n",
       "        vertical-align: top;\n",
       "    }\n",
       "\n",
       "    .dataframe thead th {\n",
       "        text-align: right;\n",
       "    }\n",
       "</style>\n",
       "<table border=\"1\" class=\"dataframe\">\n",
       "  <thead>\n",
       "    <tr style=\"text-align: right;\">\n",
       "      <th></th>\n",
       "      <th>name</th>\n",
       "      <th>age</th>\n",
       "      <th>rating</th>\n",
       "    </tr>\n",
       "  </thead>\n",
       "  <tbody>\n",
       "    <tr>\n",
       "      <th>0</th>\n",
       "      <td>Tom</td>\n",
       "      <td>25</td>\n",
       "      <td>4.23</td>\n",
       "    </tr>\n",
       "    <tr>\n",
       "      <th>1</th>\n",
       "      <td>James</td>\n",
       "      <td>26</td>\n",
       "      <td>3.24</td>\n",
       "    </tr>\n",
       "    <tr>\n",
       "      <th>2</th>\n",
       "      <td>Ricky</td>\n",
       "      <td>25</td>\n",
       "      <td>3.98</td>\n",
       "    </tr>\n",
       "    <tr>\n",
       "      <th>3</th>\n",
       "      <td>Vin</td>\n",
       "      <td>23</td>\n",
       "      <td>2.56</td>\n",
       "    </tr>\n",
       "    <tr>\n",
       "      <th>4</th>\n",
       "      <td>Steve</td>\n",
       "      <td>30</td>\n",
       "      <td>3.20</td>\n",
       "    </tr>\n",
       "    <tr>\n",
       "      <th>5</th>\n",
       "      <td>Smith</td>\n",
       "      <td>29</td>\n",
       "      <td>4.60</td>\n",
       "    </tr>\n",
       "    <tr>\n",
       "      <th>6</th>\n",
       "      <td>Jack</td>\n",
       "      <td>23</td>\n",
       "      <td>3.80</td>\n",
       "    </tr>\n",
       "    <tr>\n",
       "      <th>7</th>\n",
       "      <td>Lee</td>\n",
       "      <td>34</td>\n",
       "      <td>3.78</td>\n",
       "    </tr>\n",
       "    <tr>\n",
       "      <th>8</th>\n",
       "      <td>David</td>\n",
       "      <td>40</td>\n",
       "      <td>2.98</td>\n",
       "    </tr>\n",
       "    <tr>\n",
       "      <th>9</th>\n",
       "      <td>Gasper</td>\n",
       "      <td>30</td>\n",
       "      <td>4.80</td>\n",
       "    </tr>\n",
       "    <tr>\n",
       "      <th>10</th>\n",
       "      <td>Betina</td>\n",
       "      <td>51</td>\n",
       "      <td>4.10</td>\n",
       "    </tr>\n",
       "    <tr>\n",
       "      <th>11</th>\n",
       "      <td>Andres</td>\n",
       "      <td>46</td>\n",
       "      <td>3.65</td>\n",
       "    </tr>\n",
       "  </tbody>\n",
       "</table>\n",
       "</div>"
      ],
      "text/plain": [
       "      name  age  rating\n",
       "0      Tom   25    4.23\n",
       "1    James   26    3.24\n",
       "2    Ricky   25    3.98\n",
       "3      Vin   23    2.56\n",
       "4    Steve   30    3.20\n",
       "5    Smith   29    4.60\n",
       "6     Jack   23    3.80\n",
       "7      Lee   34    3.78\n",
       "8    David   40    2.98\n",
       "9   Gasper   30    4.80\n",
       "10  Betina   51    4.10\n",
       "11  Andres   46    3.65"
      ]
     },
     "execution_count": 74,
     "metadata": {},
     "output_type": "execute_result"
    }
   ],
   "source": [
    "# pandas 기술통계 다루기\n",
    "name = ['Tom','James','Ricky','Vin','Steve','Smith','Jack','Lee','David','Gasper','Betina','Andres']\n",
    "age = [25,26,25,23,30,29,23,34,40,30,51,46]\n",
    "rating = [4.23,3.24,3.98,2.56,3.20,4.6,3.8,3.78,2.98,4.80,4.10,3.65]\n",
    "data = {'name':name, 'age':age, 'rating':rating}\n",
    "\n",
    "df = pd.DataFrame(data)\n",
    "df.head(12)"
   ]
  },
  {
   "cell_type": "code",
   "execution_count": 53,
   "id": "85eda30e-72ee-4fd3-80d4-e778b162dc30",
   "metadata": {},
   "outputs": [
    {
     "data": {
      "text/plain": [
       "name      12\n",
       "age       12\n",
       "rating    12\n",
       "dtype: int64"
      ]
     },
     "execution_count": 53,
     "metadata": {},
     "output_type": "execute_result"
    }
   ],
   "source": [
    "# 데이터 컬럼별 행수 : count\n",
    "df.count()"
   ]
  },
  {
   "cell_type": "code",
   "execution_count": 61,
   "id": "bd79be34-bd8e-4974-8b06-d7bd59d42c27",
   "metadata": {},
   "outputs": [
    {
     "data": {
      "text/plain": [
       "age       382.00\n",
       "rating     44.92\n",
       "dtype: float64"
      ]
     },
     "execution_count": 61,
     "metadata": {},
     "output_type": "execute_result"
    }
   ],
   "source": [
    "# 전체합 : sum()\n",
    "# numeric_only=True 숫자 데이터만 대상으로 전체합을 구함\n",
    "df.sum(numeric_only=True)   #열기반"
   ]
  },
  {
   "cell_type": "code",
   "execution_count": 60,
   "id": "f35b80a5-d76c-4341-b2e4-1512d20c5104",
   "metadata": {},
   "outputs": [
    {
     "data": {
      "text/plain": [
       "0     29.23\n",
       "1     29.24\n",
       "2     28.98\n",
       "3     25.56\n",
       "4     33.20\n",
       "5     33.60\n",
       "6     26.80\n",
       "7     37.78\n",
       "8     42.98\n",
       "9     34.80\n",
       "10    55.10\n",
       "11    49.65\n",
       "dtype: float64"
      ]
     },
     "execution_count": 60,
     "metadata": {},
     "output_type": "execute_result"
    }
   ],
   "source": [
    "df.sum(axis=1, numeric_only=True)   #행기반"
   ]
  },
  {
   "cell_type": "code",
   "execution_count": 63,
   "id": "0b31f644-dc5d-4545-acc8-d7d03edfe388",
   "metadata": {},
   "outputs": [
    {
     "data": {
      "text/plain": [
       "age       31.833333\n",
       "rating     3.743333\n",
       "dtype: float64"
      ]
     },
     "execution_count": 63,
     "metadata": {},
     "output_type": "execute_result"
    }
   ],
   "source": [
    "df.mean(numeric_only=True)"
   ]
  },
  {
   "cell_type": "code",
   "execution_count": 82,
   "id": "aaa6a575-f198-4653-862f-0a52a1ab9e4c",
   "metadata": {},
   "outputs": [
    {
     "data": {
      "text/html": [
       "<div>\n",
       "<style scoped>\n",
       "    .dataframe tbody tr th:only-of-type {\n",
       "        vertical-align: middle;\n",
       "    }\n",
       "\n",
       "    .dataframe tbody tr th {\n",
       "        vertical-align: top;\n",
       "    }\n",
       "\n",
       "    .dataframe thead th {\n",
       "        text-align: right;\n",
       "    }\n",
       "</style>\n",
       "<table border=\"1\" class=\"dataframe\">\n",
       "  <thead>\n",
       "    <tr style=\"text-align: right;\">\n",
       "      <th></th>\n",
       "      <th>name</th>\n",
       "      <th>age</th>\n",
       "      <th>rating</th>\n",
       "    </tr>\n",
       "  </thead>\n",
       "  <tbody>\n",
       "    <tr>\n",
       "      <th>0</th>\n",
       "      <td>Andres</td>\n",
       "      <td>23.0</td>\n",
       "      <td>2.56</td>\n",
       "    </tr>\n",
       "    <tr>\n",
       "      <th>1</th>\n",
       "      <td>Betina</td>\n",
       "      <td>25.0</td>\n",
       "      <td>2.98</td>\n",
       "    </tr>\n",
       "    <tr>\n",
       "      <th>2</th>\n",
       "      <td>David</td>\n",
       "      <td>30.0</td>\n",
       "      <td>3.20</td>\n",
       "    </tr>\n",
       "    <tr>\n",
       "      <th>3</th>\n",
       "      <td>Gasper</td>\n",
       "      <td>NaN</td>\n",
       "      <td>3.24</td>\n",
       "    </tr>\n",
       "    <tr>\n",
       "      <th>4</th>\n",
       "      <td>Jack</td>\n",
       "      <td>NaN</td>\n",
       "      <td>3.65</td>\n",
       "    </tr>\n",
       "    <tr>\n",
       "      <th>5</th>\n",
       "      <td>James</td>\n",
       "      <td>NaN</td>\n",
       "      <td>3.78</td>\n",
       "    </tr>\n",
       "    <tr>\n",
       "      <th>6</th>\n",
       "      <td>Lee</td>\n",
       "      <td>NaN</td>\n",
       "      <td>3.80</td>\n",
       "    </tr>\n",
       "    <tr>\n",
       "      <th>7</th>\n",
       "      <td>Ricky</td>\n",
       "      <td>NaN</td>\n",
       "      <td>3.98</td>\n",
       "    </tr>\n",
       "    <tr>\n",
       "      <th>8</th>\n",
       "      <td>Smith</td>\n",
       "      <td>NaN</td>\n",
       "      <td>4.10</td>\n",
       "    </tr>\n",
       "    <tr>\n",
       "      <th>9</th>\n",
       "      <td>Steve</td>\n",
       "      <td>NaN</td>\n",
       "      <td>4.23</td>\n",
       "    </tr>\n",
       "    <tr>\n",
       "      <th>10</th>\n",
       "      <td>Tom</td>\n",
       "      <td>NaN</td>\n",
       "      <td>4.60</td>\n",
       "    </tr>\n",
       "    <tr>\n",
       "      <th>11</th>\n",
       "      <td>Vin</td>\n",
       "      <td>NaN</td>\n",
       "      <td>4.80</td>\n",
       "    </tr>\n",
       "  </tbody>\n",
       "</table>\n",
       "</div>"
      ],
      "text/plain": [
       "      name   age  rating\n",
       "0   Andres  23.0    2.56\n",
       "1   Betina  25.0    2.98\n",
       "2    David  30.0    3.20\n",
       "3   Gasper   NaN    3.24\n",
       "4     Jack   NaN    3.65\n",
       "5    James   NaN    3.78\n",
       "6      Lee   NaN    3.80\n",
       "7    Ricky   NaN    3.98\n",
       "8    Smith   NaN    4.10\n",
       "9    Steve   NaN    4.23\n",
       "10     Tom   NaN    4.60\n",
       "11     Vin   NaN    4.80"
      ]
     },
     "execution_count": 82,
     "metadata": {},
     "output_type": "execute_result"
    }
   ],
   "source": [
    "# 최빈값 : mode\n",
    "df.mode()\n",
    "# df.age.mode()  \n",
    "# df.rating.mode()  "
   ]
  },
  {
   "cell_type": "code",
   "execution_count": 67,
   "id": "a00af00e-81b1-4cf7-bcde-3b1216830022",
   "metadata": {},
   "outputs": [
    {
     "data": {
      "text/plain": [
       "age       29.50\n",
       "rating     3.79\n",
       "dtype: float64"
      ]
     },
     "execution_count": 67,
     "metadata": {},
     "output_type": "execute_result"
    }
   ],
   "source": [
    "# 중앙값 : median\n",
    "df.median(numeric_only=True)"
   ]
  },
  {
   "cell_type": "code",
   "execution_count": 68,
   "id": "4cd3ed31-c2d2-4470-80e6-a20fc713f5c5",
   "metadata": {},
   "outputs": [
    {
     "data": {
      "text/plain": [
       "age       23.00\n",
       "rating     2.56\n",
       "dtype: float64"
      ]
     },
     "execution_count": 68,
     "metadata": {},
     "output_type": "execute_result"
    }
   ],
   "source": [
    "# 최소값 : min\n",
    "df.min(numeric_only=True)"
   ]
  },
  {
   "cell_type": "code",
   "execution_count": 69,
   "id": "153afcf5-e54d-4ae5-87e0-3d81399525bb",
   "metadata": {},
   "outputs": [
    {
     "data": {
      "text/plain": [
       "age       51.0\n",
       "rating     4.8\n",
       "dtype: float64"
      ]
     },
     "execution_count": 69,
     "metadata": {},
     "output_type": "execute_result"
    }
   ],
   "source": [
    "# 최대값 : max\n",
    "df.max(numeric_only=True)"
   ]
  },
  {
   "cell_type": "code",
   "execution_count": 88,
   "id": "065bdbae-5261-4444-b5d3-d6c41948af48",
   "metadata": {},
   "outputs": [
    {
     "data": {
      "text/html": [
       "<div>\n",
       "<style scoped>\n",
       "    .dataframe tbody tr th:only-of-type {\n",
       "        vertical-align: middle;\n",
       "    }\n",
       "\n",
       "    .dataframe tbody tr th {\n",
       "        vertical-align: top;\n",
       "    }\n",
       "\n",
       "    .dataframe thead th {\n",
       "        text-align: right;\n",
       "    }\n",
       "</style>\n",
       "<table border=\"1\" class=\"dataframe\">\n",
       "  <thead>\n",
       "    <tr style=\"text-align: right;\">\n",
       "      <th></th>\n",
       "      <th>age</th>\n",
       "      <th>rating</th>\n",
       "    </tr>\n",
       "  </thead>\n",
       "  <tbody>\n",
       "    <tr>\n",
       "      <th>0</th>\n",
       "      <td>25</td>\n",
       "      <td>4.23</td>\n",
       "    </tr>\n",
       "    <tr>\n",
       "      <th>1</th>\n",
       "      <td>51</td>\n",
       "      <td>7.47</td>\n",
       "    </tr>\n",
       "    <tr>\n",
       "      <th>2</th>\n",
       "      <td>76</td>\n",
       "      <td>11.45</td>\n",
       "    </tr>\n",
       "    <tr>\n",
       "      <th>3</th>\n",
       "      <td>99</td>\n",
       "      <td>14.01</td>\n",
       "    </tr>\n",
       "    <tr>\n",
       "      <th>4</th>\n",
       "      <td>129</td>\n",
       "      <td>17.21</td>\n",
       "    </tr>\n",
       "  </tbody>\n",
       "</table>\n",
       "</div>"
      ],
      "text/plain": [
       "   age  rating\n",
       "0   25    4.23\n",
       "1   51    7.47\n",
       "2   76   11.45\n",
       "3   99   14.01\n",
       "4  129   17.21"
      ]
     },
     "execution_count": 88,
     "metadata": {},
     "output_type": "execute_result"
    }
   ],
   "source": [
    "# 누적합 : cumsum\n",
    "df.loc[:, ['age','rating']].cumsum().head()"
   ]
  },
  {
   "cell_type": "code",
   "execution_count": null,
   "id": "e48f8fbc-fb9c-4caf-83c4-4e079104ee27",
   "metadata": {},
   "outputs": [],
   "source": [
    "# 누적곱 : cumprod"
   ]
  },
  {
   "cell_type": "code",
   "execution_count": 89,
   "id": "bfd63472-3e5d-4bd0-93d1-6acf71c7c8d7",
   "metadata": {},
   "outputs": [
    {
     "data": {
      "text/html": [
       "<div>\n",
       "<style scoped>\n",
       "    .dataframe tbody tr th:only-of-type {\n",
       "        vertical-align: middle;\n",
       "    }\n",
       "\n",
       "    .dataframe tbody tr th {\n",
       "        vertical-align: top;\n",
       "    }\n",
       "\n",
       "    .dataframe thead th {\n",
       "        text-align: right;\n",
       "    }\n",
       "</style>\n",
       "<table border=\"1\" class=\"dataframe\">\n",
       "  <thead>\n",
       "    <tr style=\"text-align: right;\">\n",
       "      <th></th>\n",
       "      <th>age</th>\n",
       "      <th>rating</th>\n",
       "    </tr>\n",
       "  </thead>\n",
       "  <tbody>\n",
       "    <tr>\n",
       "      <th>0</th>\n",
       "      <td>25</td>\n",
       "      <td>4.230000</td>\n",
       "    </tr>\n",
       "    <tr>\n",
       "      <th>1</th>\n",
       "      <td>650</td>\n",
       "      <td>13.705200</td>\n",
       "    </tr>\n",
       "    <tr>\n",
       "      <th>2</th>\n",
       "      <td>16250</td>\n",
       "      <td>54.546696</td>\n",
       "    </tr>\n",
       "    <tr>\n",
       "      <th>3</th>\n",
       "      <td>373750</td>\n",
       "      <td>139.639542</td>\n",
       "    </tr>\n",
       "    <tr>\n",
       "      <th>4</th>\n",
       "      <td>11212500</td>\n",
       "      <td>446.846534</td>\n",
       "    </tr>\n",
       "  </tbody>\n",
       "</table>\n",
       "</div>"
      ],
      "text/plain": [
       "        age      rating\n",
       "0        25    4.230000\n",
       "1       650   13.705200\n",
       "2     16250   54.546696\n",
       "3    373750  139.639542\n",
       "4  11212500  446.846534"
      ]
     },
     "execution_count": 89,
     "metadata": {},
     "output_type": "execute_result"
    }
   ],
   "source": [
    "df.loc[:, ['age','rating']].cumprod().head()"
   ]
  },
  {
   "cell_type": "code",
   "execution_count": 90,
   "id": "bed2b447-2ce4-490b-bc13-ff3d85bb38a1",
   "metadata": {},
   "outputs": [
    {
     "data": {
      "text/plain": [
       "age       9.232682\n",
       "rating    0.661628\n",
       "dtype: float64"
      ]
     },
     "execution_count": 90,
     "metadata": {},
     "output_type": "execute_result"
    }
   ],
   "source": [
    "# 표준편차 : std\n",
    "df.loc[:, ['age','rating']].std().head()"
   ]
  },
  {
   "cell_type": "code",
   "execution_count": 96,
   "id": "397d1a87-0792-4846-a9c6-16ff8a63163f",
   "metadata": {},
   "outputs": [
    {
     "data": {
      "text/plain": [
       "age       85.242424\n",
       "rating     0.437752\n",
       "dtype: float64"
      ]
     },
     "execution_count": 96,
     "metadata": {},
     "output_type": "execute_result"
    }
   ],
   "source": [
    "# 분산 : var\n",
    "df.var(numeric_only=True)"
   ]
  },
  {
   "cell_type": "code",
   "execution_count": 99,
   "id": "bb78b24d-45b9-4af9-9e44-4711c949dd82",
   "metadata": {},
   "outputs": [
    {
     "data": {
      "text/html": [
       "<div>\n",
       "<style scoped>\n",
       "    .dataframe tbody tr th:only-of-type {\n",
       "        vertical-align: middle;\n",
       "    }\n",
       "\n",
       "    .dataframe tbody tr th {\n",
       "        vertical-align: top;\n",
       "    }\n",
       "\n",
       "    .dataframe thead th {\n",
       "        text-align: right;\n",
       "    }\n",
       "</style>\n",
       "<table border=\"1\" class=\"dataframe\">\n",
       "  <thead>\n",
       "    <tr style=\"text-align: right;\">\n",
       "      <th></th>\n",
       "      <th>age</th>\n",
       "      <th>rating</th>\n",
       "    </tr>\n",
       "  </thead>\n",
       "  <tbody>\n",
       "    <tr>\n",
       "      <th>age</th>\n",
       "      <td>85.242424</td>\n",
       "      <td>0.357879</td>\n",
       "    </tr>\n",
       "    <tr>\n",
       "      <th>rating</th>\n",
       "      <td>0.357879</td>\n",
       "      <td>0.437752</td>\n",
       "    </tr>\n",
       "  </tbody>\n",
       "</table>\n",
       "</div>"
      ],
      "text/plain": [
       "              age    rating\n",
       "age     85.242424  0.357879\n",
       "rating   0.357879  0.437752"
      ]
     },
     "execution_count": 99,
     "metadata": {},
     "output_type": "execute_result"
    }
   ],
   "source": [
    "# 공분산 : cov\n",
    "df.cov().head()"
   ]
  },
  {
   "cell_type": "code",
   "execution_count": 100,
   "id": "4f209d99-5935-40ab-aefe-50a3095451be",
   "metadata": {},
   "outputs": [
    {
     "data": {
      "text/html": [
       "<div>\n",
       "<style scoped>\n",
       "    .dataframe tbody tr th:only-of-type {\n",
       "        vertical-align: middle;\n",
       "    }\n",
       "\n",
       "    .dataframe tbody tr th {\n",
       "        vertical-align: top;\n",
       "    }\n",
       "\n",
       "    .dataframe thead th {\n",
       "        text-align: right;\n",
       "    }\n",
       "</style>\n",
       "<table border=\"1\" class=\"dataframe\">\n",
       "  <thead>\n",
       "    <tr style=\"text-align: right;\">\n",
       "      <th></th>\n",
       "      <th>age</th>\n",
       "      <th>rating</th>\n",
       "    </tr>\n",
       "  </thead>\n",
       "  <tbody>\n",
       "    <tr>\n",
       "      <th>age</th>\n",
       "      <td>1.000000</td>\n",
       "      <td>0.058586</td>\n",
       "    </tr>\n",
       "    <tr>\n",
       "      <th>rating</th>\n",
       "      <td>0.058586</td>\n",
       "      <td>1.000000</td>\n",
       "    </tr>\n",
       "  </tbody>\n",
       "</table>\n",
       "</div>"
      ],
      "text/plain": [
       "             age    rating\n",
       "age     1.000000  0.058586\n",
       "rating  0.058586  1.000000"
      ]
     },
     "execution_count": 100,
     "metadata": {},
     "output_type": "execute_result"
    }
   ],
   "source": [
    "# 상관계수 : corr\n",
    "df.corr().head()"
   ]
  },
  {
   "cell_type": "code",
   "execution_count": 107,
   "id": "1bb7e71d-cb70-4901-9bb3-c926750e068d",
   "metadata": {},
   "outputs": [
    {
     "data": {
      "text/html": [
       "<div>\n",
       "<style scoped>\n",
       "    .dataframe tbody tr th:only-of-type {\n",
       "        vertical-align: middle;\n",
       "    }\n",
       "\n",
       "    .dataframe tbody tr th {\n",
       "        vertical-align: top;\n",
       "    }\n",
       "\n",
       "    .dataframe thead th {\n",
       "        text-align: right;\n",
       "    }\n",
       "</style>\n",
       "<table border=\"1\" class=\"dataframe\">\n",
       "  <thead>\n",
       "    <tr style=\"text-align: right;\">\n",
       "      <th></th>\n",
       "      <th>Unnamed: 0</th>\n",
       "      <th>pclass</th>\n",
       "      <th>survived</th>\n",
       "      <th>name</th>\n",
       "      <th>sex</th>\n",
       "      <th>age</th>\n",
       "      <th>sibsp</th>\n",
       "      <th>parch</th>\n",
       "      <th>ticket</th>\n",
       "      <th>fare</th>\n",
       "      <th>embarked</th>\n",
       "      <th>gender</th>\n",
       "      <th>port</th>\n",
       "      <th>seat</th>\n",
       "      <th>port2</th>\n",
       "      <th>title</th>\n",
       "      <th>ages</th>\n",
       "    </tr>\n",
       "  </thead>\n",
       "  <tbody>\n",
       "    <tr>\n",
       "      <th>0</th>\n",
       "      <td>0</td>\n",
       "      <td>1</td>\n",
       "      <td>1</td>\n",
       "      <td>Allen, Miss. Elisabeth Walton</td>\n",
       "      <td>female</td>\n",
       "      <td>29.0000</td>\n",
       "      <td>0</td>\n",
       "      <td>0</td>\n",
       "      <td>24160</td>\n",
       "      <td>211.3375</td>\n",
       "      <td>S</td>\n",
       "      <td>0</td>\n",
       "      <td>2</td>\n",
       "      <td>1st</td>\n",
       "      <td>southamptond</td>\n",
       "      <td>Miss</td>\n",
       "      <td>20대</td>\n",
       "    </tr>\n",
       "    <tr>\n",
       "      <th>1</th>\n",
       "      <td>1</td>\n",
       "      <td>1</td>\n",
       "      <td>1</td>\n",
       "      <td>Allison, Master. Hudson Trevor</td>\n",
       "      <td>male</td>\n",
       "      <td>0.9167</td>\n",
       "      <td>1</td>\n",
       "      <td>2</td>\n",
       "      <td>113781</td>\n",
       "      <td>151.5500</td>\n",
       "      <td>S</td>\n",
       "      <td>1</td>\n",
       "      <td>2</td>\n",
       "      <td>1st</td>\n",
       "      <td>southamptond</td>\n",
       "      <td>Master</td>\n",
       "      <td>어린이</td>\n",
       "    </tr>\n",
       "    <tr>\n",
       "      <th>2</th>\n",
       "      <td>2</td>\n",
       "      <td>1</td>\n",
       "      <td>0</td>\n",
       "      <td>Allison, Miss. Helen Loraine</td>\n",
       "      <td>female</td>\n",
       "      <td>2.0000</td>\n",
       "      <td>1</td>\n",
       "      <td>2</td>\n",
       "      <td>113781</td>\n",
       "      <td>151.5500</td>\n",
       "      <td>S</td>\n",
       "      <td>0</td>\n",
       "      <td>2</td>\n",
       "      <td>1st</td>\n",
       "      <td>southamptond</td>\n",
       "      <td>Miss</td>\n",
       "      <td>유아</td>\n",
       "    </tr>\n",
       "    <tr>\n",
       "      <th>3</th>\n",
       "      <td>3</td>\n",
       "      <td>1</td>\n",
       "      <td>0</td>\n",
       "      <td>Allison, Mr. Hudson Joshua Creighton</td>\n",
       "      <td>male</td>\n",
       "      <td>30.0000</td>\n",
       "      <td>1</td>\n",
       "      <td>2</td>\n",
       "      <td>113781</td>\n",
       "      <td>151.5500</td>\n",
       "      <td>S</td>\n",
       "      <td>1</td>\n",
       "      <td>2</td>\n",
       "      <td>1st</td>\n",
       "      <td>southamptond</td>\n",
       "      <td>Mr</td>\n",
       "      <td>30대</td>\n",
       "    </tr>\n",
       "    <tr>\n",
       "      <th>4</th>\n",
       "      <td>4</td>\n",
       "      <td>1</td>\n",
       "      <td>0</td>\n",
       "      <td>Allison, Mrs. Hudson J C (Bessie Waldo Daniels)</td>\n",
       "      <td>female</td>\n",
       "      <td>25.0000</td>\n",
       "      <td>1</td>\n",
       "      <td>2</td>\n",
       "      <td>113781</td>\n",
       "      <td>151.5500</td>\n",
       "      <td>S</td>\n",
       "      <td>0</td>\n",
       "      <td>2</td>\n",
       "      <td>1st</td>\n",
       "      <td>southamptond</td>\n",
       "      <td>Mrs</td>\n",
       "      <td>20대</td>\n",
       "    </tr>\n",
       "  </tbody>\n",
       "</table>\n",
       "</div>"
      ],
      "text/plain": [
       "   Unnamed: 0  pclass  survived                                             name     sex      age  \\\n",
       "0           0       1         1                    Allen, Miss. Elisabeth Walton  female  29.0000   \n",
       "1           1       1         1                   Allison, Master. Hudson Trevor    male   0.9167   \n",
       "2           2       1         0                     Allison, Miss. Helen Loraine  female   2.0000   \n",
       "3           3       1         0             Allison, Mr. Hudson Joshua Creighton    male  30.0000   \n",
       "4           4       1         0  Allison, Mrs. Hudson J C (Bessie Waldo Daniels)  female  25.0000   \n",
       "\n",
       "   sibsp  parch  ticket      fare embarked  gender  port seat         port2   title ages  \n",
       "0      0      0   24160  211.3375        S       0     2  1st  southamptond    Miss  20대  \n",
       "1      1      2  113781  151.5500        S       1     2  1st  southamptond  Master  어린이  \n",
       "2      1      2  113781  151.5500        S       0     2  1st  southamptond    Miss   유아  \n",
       "3      1      2  113781  151.5500        S       1     2  1st  southamptond      Mr  30대  \n",
       "4      1      2  113781  151.5500        S       0     2  1st  southamptond     Mrs  20대  "
      ]
     },
     "execution_count": 107,
     "metadata": {},
     "output_type": "execute_result"
    }
   ],
   "source": [
    "# 타이타닉 데이터에 대해 기술통계\n",
    "titanic2.head()"
   ]
  },
  {
   "cell_type": "code",
   "execution_count": 109,
   "id": "23dce6a2-e981-4540-bb74-71169be745b0",
   "metadata": {},
   "outputs": [
    {
     "name": "stdout",
     "output_type": "stream",
     "text": [
      "<class 'pandas.core.frame.DataFrame'>\n",
      "RangeIndex: 1306 entries, 0 to 1305\n",
      "Data columns (total 17 columns):\n",
      " #   Column      Non-Null Count  Dtype  \n",
      "---  ------      --------------  -----  \n",
      " 0   Unnamed: 0  1306 non-null   int64  \n",
      " 1   pclass      1306 non-null   int64  \n",
      " 2   survived    1306 non-null   int64  \n",
      " 3   name        1306 non-null   object \n",
      " 4   sex         1306 non-null   object \n",
      " 5   age         1306 non-null   float64\n",
      " 6   sibsp       1306 non-null   int64  \n",
      " 7   parch       1306 non-null   int64  \n",
      " 8   ticket      1306 non-null   object \n",
      " 9   fare        1306 non-null   float64\n",
      " 10  embarked    1306 non-null   object \n",
      " 11  gender      1306 non-null   int64  \n",
      " 12  port        1306 non-null   int64  \n",
      " 13  seat        1306 non-null   object \n",
      " 14  port2       1306 non-null   object \n",
      " 15  title       1306 non-null   object \n",
      " 16  ages        1306 non-null   object \n",
      "dtypes: float64(2), int64(7), object(8)\n",
      "memory usage: 173.6+ KB\n"
     ]
    }
   ],
   "source": [
    "titanic2.info()"
   ]
  },
  {
   "cell_type": "code",
   "execution_count": 118,
   "id": "fb67b896-9322-4c06-bd78-e425868ee37f",
   "metadata": {},
   "outputs": [],
   "source": [
    "titanic2.pclass = titanic2.pclass.astype(str)\n",
    "titanic2.survived = titanic2.survived.astype(str)\n",
    "titanic2.sibsp = titanic2.sibsp.astype(str)\n",
    "titanic2.gender = titanic2.gender.astype(str)\n",
    "titanic2.parch = titanic2.parch.astype(str)\n",
    "titanic2.port = titanic2.port.astype(str)"
   ]
  },
  {
   "cell_type": "code",
   "execution_count": 119,
   "id": "3811e5e2-6364-4000-85e2-a35860b6b3b0",
   "metadata": {},
   "outputs": [
    {
     "data": {
      "text/plain": [
       "Unnamed: 0    1306\n",
       "pclass        1306\n",
       "survived      1306\n",
       "name          1306\n",
       "sex           1306\n",
       "age           1306\n",
       "sibsp         1306\n",
       "parch         1306\n",
       "ticket        1306\n",
       "fare          1306\n",
       "embarked      1306\n",
       "gender        1306\n",
       "port          1306\n",
       "seat          1306\n",
       "port2         1306\n",
       "title         1306\n",
       "ages          1306\n",
       "dtype: int64"
      ]
     },
     "execution_count": 119,
     "metadata": {},
     "output_type": "execute_result"
    }
   ],
   "source": [
    "titanic2.count()"
   ]
  },
  {
   "cell_type": "code",
   "execution_count": 120,
   "id": "612a625a-fa67-46e5-8bc3-a51e34c1e06b",
   "metadata": {},
   "outputs": [
    {
     "data": {
      "text/plain": [
       "Unnamed: 0    654.500000\n",
       "age            29.881135\n",
       "fare           14.454200\n",
       "dtype: float64"
      ]
     },
     "execution_count": 120,
     "metadata": {},
     "output_type": "execute_result"
    }
   ],
   "source": [
    "titanic2.median(numeric_only=True)"
   ]
  },
  {
   "cell_type": "code",
   "execution_count": 121,
   "id": "4519433f-07e5-4591-8d16-70b1c4596988",
   "metadata": {},
   "outputs": [
    {
     "data": {
      "text/plain": [
       "Unnamed: 0    654.218224\n",
       "age            29.826880\n",
       "fare           33.223956\n",
       "dtype: float64"
      ]
     },
     "execution_count": 121,
     "metadata": {},
     "output_type": "execute_result"
    }
   ],
   "source": [
    "titanic2.mean(numeric_only=True)"
   ]
  },
  {
   "cell_type": "code",
   "execution_count": 122,
   "id": "82492e94-297e-4742-a416-1bd66f5c019c",
   "metadata": {},
   "outputs": [
    {
     "data": {
      "text/plain": [
       "Unnamed: 0    0.0000\n",
       "age           0.1667\n",
       "fare          0.0000\n",
       "dtype: float64"
      ]
     },
     "execution_count": 122,
     "metadata": {},
     "output_type": "execute_result"
    }
   ],
   "source": [
    "titanic2.min(numeric_only=True)"
   ]
  },
  {
   "cell_type": "code",
   "execution_count": 123,
   "id": "bfc39d6a-a399-4c40-bb18-0d2966425599",
   "metadata": {},
   "outputs": [
    {
     "data": {
      "text/html": [
       "<div>\n",
       "<style scoped>\n",
       "    .dataframe tbody tr th:only-of-type {\n",
       "        vertical-align: middle;\n",
       "    }\n",
       "\n",
       "    .dataframe tbody tr th {\n",
       "        vertical-align: top;\n",
       "    }\n",
       "\n",
       "    .dataframe thead th {\n",
       "        text-align: right;\n",
       "    }\n",
       "</style>\n",
       "<table border=\"1\" class=\"dataframe\">\n",
       "  <thead>\n",
       "    <tr style=\"text-align: right;\">\n",
       "      <th></th>\n",
       "      <th>Unnamed: 0</th>\n",
       "      <th>age</th>\n",
       "      <th>fare</th>\n",
       "    </tr>\n",
       "  </thead>\n",
       "  <tbody>\n",
       "    <tr>\n",
       "      <th>Unnamed: 0</th>\n",
       "      <td>1.000000</td>\n",
       "      <td>-0.298731</td>\n",
       "      <td>-0.480430</td>\n",
       "    </tr>\n",
       "    <tr>\n",
       "      <th>age</th>\n",
       "      <td>-0.298731</td>\n",
       "      <td>1.000000</td>\n",
       "      <td>0.170266</td>\n",
       "    </tr>\n",
       "    <tr>\n",
       "      <th>fare</th>\n",
       "      <td>-0.480430</td>\n",
       "      <td>0.170266</td>\n",
       "      <td>1.000000</td>\n",
       "    </tr>\n",
       "  </tbody>\n",
       "</table>\n",
       "</div>"
      ],
      "text/plain": [
       "            Unnamed: 0       age      fare\n",
       "Unnamed: 0    1.000000 -0.298731 -0.480430\n",
       "age          -0.298731  1.000000  0.170266\n",
       "fare         -0.480430  0.170266  1.000000"
      ]
     },
     "execution_count": 123,
     "metadata": {},
     "output_type": "execute_result"
    }
   ],
   "source": [
    "titanic2.corr()"
   ]
  },
  {
   "cell_type": "code",
   "execution_count": 124,
   "id": "8dd30b19-6dad-4137-a393-e9945c176537",
   "metadata": {},
   "outputs": [
    {
     "data": {
      "text/plain": [
       "Unnamed: 0    854409.000000\n",
       "age            38953.905077\n",
       "fare           43390.486900\n",
       "dtype: float64"
      ]
     },
     "execution_count": 124,
     "metadata": {},
     "output_type": "execute_result"
    }
   ],
   "source": [
    "titanic2.sum(numeric_only=True)"
   ]
  },
  {
   "cell_type": "code",
   "execution_count": 125,
   "id": "9a5e3e38-7bb7-45c2-926a-6c98e7d2139c",
   "metadata": {},
   "outputs": [
    {
     "data": {
      "text/plain": [
       "Unnamed: 0    377.745795\n",
       "age            12.837289\n",
       "fare           51.765986\n",
       "dtype: float64"
      ]
     },
     "execution_count": 125,
     "metadata": {},
     "output_type": "execute_result"
    }
   ],
   "source": [
    "titanic2.std(numeric_only=True)"
   ]
  },
  {
   "cell_type": "code",
   "execution_count": null,
   "id": "7e8ff6fa-6a99-4f21-a352-b3c8ab2814af",
   "metadata": {},
   "outputs": [],
   "source": []
  },
  {
   "cell_type": "code",
   "execution_count": null,
   "id": "65f84fb9-e862-4d8f-8024-b1aed827d11a",
   "metadata": {},
   "outputs": [],
   "source": []
  }
 ],
 "metadata": {
  "kernelspec": {
   "display_name": "Python 3",
   "language": "python",
   "name": "python3"
  },
  "language_info": {
   "codemirror_mode": {
    "name": "ipython",
    "version": 3
   },
   "file_extension": ".py",
   "mimetype": "text/x-python",
   "name": "python",
   "nbconvert_exporter": "python",
   "pygments_lexer": "ipython3",
   "version": "3.8.12"
  }
 },
 "nbformat": 4,
 "nbformat_minor": 5
}
