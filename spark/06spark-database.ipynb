{
 "cells": [
  {
   "cell_type": "markdown",
   "id": "ef38c7d4-05fa-4c4c-bc17-af830ca8fb43",
   "metadata": {},
   "source": [
    "## SparkJDBC\n",
    "+ MariaDB나 Oracle에 저장된 테이블을 불러와서 분석을 하려면 pyspark 실행시 JDBC드라이버를 지정해야 함\n",
    "+ pyspark --driver-class-path '사용할 jdbc드라이버'"
   ]
  },
  {
   "cell_type": "code",
   "execution_count": 1,
   "id": "82dcad00-c001-4870-970e-07fb00a49f65",
   "metadata": {},
   "outputs": [],
   "source": [
    "# url = 'bigdata.cxknqyiapw23.ap-northeast-2.rds.amazonaws.com'\n",
    "url = 'jdbc:oracle:thin:@bigdata.cxknqyiapw23.ap-northeast-2.rds.amazonaws.com:1521/bigdata'\n",
    "userid = 'admin'\n",
    "passwd = 'bigdata2022'"
   ]
  },
  {
   "cell_type": "code",
   "execution_count": 2,
   "id": "1a22d1ce-e42c-436e-8d03-64016bb3293b",
   "metadata": {},
   "outputs": [],
   "source": [
    "spark = SparkSession.builder.master('app').appName('sparkJDBC').getOrCreate()"
   ]
  },
  {
   "cell_type": "code",
   "execution_count": 3,
   "id": "e13a42cb-93c4-4eb6-9c91-d5f062fdafe1",
   "metadata": {},
   "outputs": [],
   "source": [
    "emp = spark.read.format('jdbc')\\\n",
    ".options(url=url, user=userid, password=passwd, dbtable='EMPLOYEES').load()"
   ]
  },
  {
   "cell_type": "code",
   "execution_count": 4,
   "id": "604077d7-b505-425b-980b-855906dfb400",
   "metadata": {},
   "outputs": [
    {
     "name": "stdout",
     "output_type": "stream",
     "text": [
      "root\n",
      " |-- EMPLOYEE_ID: decimal(38,0) (nullable = true)\n",
      " |-- FIRST_NAME: string (nullable = true)\n",
      " |-- LAST_NAME: string (nullable = true)\n",
      " |-- EMAIL: string (nullable = true)\n",
      " |-- PHONE_NUMBER: string (nullable = true)\n",
      " |-- HIRE_DATE: string (nullable = true)\n",
      " |-- JOB_ID: string (nullable = true)\n",
      " |-- SALARY: decimal(38,0) (nullable = true)\n",
      " |-- COMMISSION_PCT: decimal(38,10) (nullable = true)\n",
      " |-- MANAGER_ID: decimal(38,0) (nullable = true)\n",
      " |-- DEPARTMENT_ID: decimal(38,0) (nullable = true)\n",
      "\n"
     ]
    }
   ],
   "source": [
    "emp.printSchema()"
   ]
  },
  {
   "cell_type": "code",
   "execution_count": 5,
   "id": "79663a7a-db00-4e9f-8d1a-6710ed7dc0ba",
   "metadata": {},
   "outputs": [
    {
     "name": "stdout",
     "output_type": "stream",
     "text": [
      "+----------+\n",
      "|FIRST_NAME|\n",
      "+----------+\n",
      "|    Steven|\n",
      "|     Neena|\n",
      "|       Lex|\n",
      "| Alexander|\n",
      "|     Bruce|\n",
      "+----------+\n",
      "only showing top 5 rows\n",
      "\n"
     ]
    }
   ],
   "source": [
    "emp.select('FIRST_NAME').show(5)"
   ]
  },
  {
   "cell_type": "code",
   "execution_count": 7,
   "id": "2e280d93-4655-4f3a-a619-88f316499830",
   "metadata": {},
   "outputs": [
    {
     "name": "stdout",
     "output_type": "stream",
     "text": [
      "+----------+\n",
      "|FIRST_NAME|\n",
      "+----------+\n",
      "|    Steven|\n",
      "|     Neena|\n",
      "|       Lex|\n",
      "| Alexander|\n",
      "|     Bruce|\n",
      "+----------+\n",
      "only showing top 5 rows\n",
      "\n"
     ]
    }
   ],
   "source": [
    "EMP = emp.createOrReplaceTempView('EMP')\n",
    "sql = 'select FIRST_NAME from EMP'\n",
    "spark.sql(sql).show(5)"
   ]
  },
  {
   "cell_type": "code",
   "execution_count": 8,
   "id": "b98730ea-4986-4264-a2c6-df2ccc727d21",
   "metadata": {},
   "outputs": [],
   "source": [
    "# titanic.csv를 oracle에 import해서 titanic이라는 테이블 생성\n",
    "titanic = spark.read.csv('titanic.csv', header=True, inferSchema=True)\n",
    "TITANIC = titanic.createOrReplaceTempView('titanic')"
   ]
  },
  {
   "cell_type": "code",
   "execution_count": null,
   "id": "fc0f84ac-6dc4-440f-b98e-bd14f3dca8f2",
   "metadata": {},
   "outputs": [],
   "source": [
    "# spakrJDBㅊ로 연동하고 성별 생존자여부를 조회"
   ]
  },
  {
   "cell_type": "code",
   "execution_count": null,
   "id": "f74f0eb9-d88a-4167-acfd-c8b8643209e6",
   "metadata": {},
   "outputs": [],
   "source": []
  },
  {
   "cell_type": "code",
   "execution_count": null,
   "id": "1194c9b0-d7f0-45c0-a83c-ab61045fa734",
   "metadata": {},
   "outputs": [],
   "source": []
  },
  {
   "cell_type": "code",
   "execution_count": null,
   "id": "f78ce63f-7e82-41b7-812a-4e5b1913d010",
   "metadata": {},
   "outputs": [],
   "source": []
  },
  {
   "cell_type": "code",
   "execution_count": null,
   "id": "807d7de7-65ac-4825-b9f4-832495b656cf",
   "metadata": {},
   "outputs": [],
   "source": []
  },
  {
   "cell_type": "code",
   "execution_count": null,
   "id": "82687b96-d284-4ade-ac42-391eced2258c",
   "metadata": {},
   "outputs": [],
   "source": []
  }
 ],
 "metadata": {
  "kernelspec": {
   "display_name": "Python 3",
   "language": "python",
   "name": "python3"
  },
  "language_info": {
   "codemirror_mode": {
    "name": "ipython",
    "version": 3
   },
   "file_extension": ".py",
   "mimetype": "text/x-python",
   "name": "python",
   "nbconvert_exporter": "python",
   "pygments_lexer": "ipython3",
   "version": "3.8.12"
  }
 },
 "nbformat": 4,
 "nbformat_minor": 5
}
