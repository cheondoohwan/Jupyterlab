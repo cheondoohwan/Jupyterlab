{
 "cells": [
  {
   "cell_type": "markdown",
   "id": "b57ad5f9-645f-4e6e-a6d0-0fcdb8db559d",
   "metadata": {},
   "source": [
    "# sparkQL문제 풀이\n",
    "* https://url.kr/2hijnk"
   ]
  },
  {
   "cell_type": "code",
   "execution_count": 7,
   "id": "56ca92c4-c372-4e21-980d-f22b73092c84",
   "metadata": {},
   "outputs": [],
   "source": [
    "cust = spark.read.csv('Customers.csv', header=True, inferSchema=True)"
   ]
  },
  {
   "cell_type": "code",
   "execution_count": 2,
   "id": "1d0b9b66-1968-477f-8480-d67d5ab93eaf",
   "metadata": {},
   "outputs": [],
   "source": [
    "ordr = spark.read.csv('Orders.csv', header=True, inferSchema=True)"
   ]
  },
  {
   "cell_type": "code",
   "execution_count": 3,
   "id": "b69b5306-1b19-4364-9779-59431279a04d",
   "metadata": {},
   "outputs": [],
   "source": [
    "prod = spark.read.csv('Products.csv', header=True, inferSchema=True)"
   ]
  },
  {
   "cell_type": "code",
   "execution_count": 8,
   "id": "b8a20936-a612-4151-ab80-189ead03c9cd",
   "metadata": {},
   "outputs": [
    {
     "name": "stdout",
     "output_type": "stream",
     "text": [
      "+------+------+----+------+------+-----+\n",
      "|userid|  name| age| grade|   job|coins|\n",
      "+------+------+----+------+------+-----+\n",
      "| apple|정소화|  20|  gold|  학생| 1000|\n",
      "|banana|김선우|  25|   vip|간호사| 2500|\n",
      "|carrot|고명석|  28|  gold|  교사| 4500|\n",
      "| melon|성원용|  35|  gold|회사원| 5000|\n",
      "|orange|김용욱|  22|silver|  학생|    0|\n",
      "| peach|오형준|null|silver|  의사|  300|\n",
      "|  pear|채광주|  31|silver|회사원|  500|\n",
      "+------+------+----+------+------+-----+\n",
      "\n"
     ]
    }
   ],
   "source": [
    "cust.show()"
   ]
  },
  {
   "cell_type": "code",
   "execution_count": 9,
   "id": "73f2e70c-ed58-486e-9d46-ef74a136aa21",
   "metadata": {},
   "outputs": [
    {
     "name": "stdout",
     "output_type": "stream",
     "text": [
      "+-------+------+------+------+---------------+----------+\n",
      "|orderid|userid|prodid|amount|           addr|   orddate|\n",
      "+-------+------+------+------+---------------+----------+\n",
      "|    o01| apple|   p03|    10|  서울시 마포구|2013-01-01|\n",
      "|    o02| melon|   p01|     5|  인천시 계양구|2013-01-10|\n",
      "|    o03|banana|   p06|    45|  경기도 부천시|2013-01-11|\n",
      "|    o04|carrot|   p02|     8|  부산시 금정구|2013-02-01|\n",
      "|    o05| melon|   p06|    36|  경기도 용인시|2013-02-20|\n",
      "|    o06|banana|   p01|    19|충청북도 보은군|2013-03-02|\n",
      "|    o07| apple|   p03|    22|서울시 영등포구|2013-03-15|\n",
      "|    o08|  pear|   p02|    50|  강원도 춘천시|2013-04-10|\n",
      "|    o09|banana|   p04|    15|전라남도 목포시|2013-04-11|\n",
      "|    o10|carrot|   p03|    20|  경기도 안양시|2013-05-22|\n",
      "+-------+------+------+------+---------------+----------+\n",
      "\n"
     ]
    }
   ],
   "source": [
    "ordr.show()"
   ]
  },
  {
   "cell_type": "code",
   "execution_count": 10,
   "id": "008b662c-998c-4b7a-84be-67417399b5fb",
   "metadata": {},
   "outputs": [
    {
     "name": "stdout",
     "output_type": "stream",
     "text": [
      "+------+----------+-----+-----+--------+\n",
      "|prodid|  prodname|stock|price|   maker|\n",
      "+------+----------+-----+-----+--------+\n",
      "|   p01|  그냥만두| 5000| 4500|대한식품|\n",
      "|   p02|  매운쫄면| 2500| 5500|민국푸드|\n",
      "|   p03|  쿵떡파이| 3600| 2600|한빛제과|\n",
      "|   p04|맛난초콜렛| 1250| 2500|한빛제과|\n",
      "|   p05|  얼큰라면| 2200| 1200|대한식품|\n",
      "|   p06|  통통우동| 1000| 1550|민국푸드|\n",
      "|   p07|달콤비스켓| 1650| 1500|한빛제과|\n",
      "+------+----------+-----+-----+--------+\n",
      "\n"
     ]
    }
   ],
   "source": [
    "prod.show()"
   ]
  },
  {
   "cell_type": "code",
   "execution_count": 68,
   "id": "b6b08450-9fc5-41cd-acdd-e88f66e38e4b",
   "metadata": {},
   "outputs": [
    {
     "name": "stdout",
     "output_type": "stream",
     "text": [
      "+------+------+------+\n",
      "|userid|  name| grade|\n",
      "+------+------+------+\n",
      "| apple|정소화|  gold|\n",
      "|banana|김선우|   vip|\n",
      "|carrot|고명석|  gold|\n",
      "| melon|성원용|  gold|\n",
      "|orange|김용욱|silver|\n",
      "| peach|오형준|silver|\n",
      "|  pear|채광주|silver|\n",
      "+------+------+------+\n",
      "\n"
     ]
    }
   ],
   "source": [
    "# 고객테이블에 고객아이디, 고객이름, 등급속성, 7-10\n",
    "cust.select('userid', 'name', 'grade').show()"
   ]
  },
  {
   "cell_type": "code",
   "execution_count": 67,
   "id": "2cfc2fde-0be3-422e-ad9e-7b533f99e6e0",
   "metadata": {},
   "outputs": [
    {
     "name": "stdout",
     "output_type": "stream",
     "text": [
      "+------+------+----+------+------+-----+\n",
      "|userid|  name| age| grade|   job|coins|\n",
      "+------+------+----+------+------+-----+\n",
      "| apple|정소화|  20|  gold|  학생| 1000|\n",
      "|banana|김선우|  25|   vip|간호사| 2500|\n",
      "|carrot|고명석|  28|  gold|  교사| 4500|\n",
      "| melon|성원용|  35|  gold|회사원| 5000|\n",
      "|orange|김용욱|  22|silver|  학생|    0|\n",
      "| peach|오형준|null|silver|  의사|  300|\n",
      "|  pear|채광주|  31|silver|회사원|  500|\n",
      "+------+------+----+------+------+-----+\n",
      "\n"
     ]
    }
   ],
   "source": [
    "# 고객테이블에 존재하는 모든 속성 검색, 7-11\n",
    "cust.select('*').show()"
   ]
  },
  {
   "cell_type": "code",
   "execution_count": 16,
   "id": "2f921bc6-2b6b-43f3-887f-f0c55c1eb2b0",
   "metadata": {},
   "outputs": [
    {
     "name": "stdout",
     "output_type": "stream",
     "text": [
      "+------+------+----+------+------+-----+\n",
      "|userid|  name| age| grade|   job|coins|\n",
      "+------+------+----+------+------+-----+\n",
      "| apple|정소화|  20|  gold|  학생| 1000|\n",
      "|banana|김선우|  25|   vip|간호사| 2500|\n",
      "|carrot|고명석|  28|  gold|  교사| 4500|\n",
      "| melon|성원용|  35|  gold|회사원| 5000|\n",
      "|orange|김용욱|  22|silver|  학생|    0|\n",
      "| peach|오형준|null|silver|  의사|  300|\n",
      "|  pear|채광주|  31|silver|회사원|  500|\n",
      "+------+------+----+------+------+-----+\n",
      "\n"
     ]
    }
   ],
   "source": [
    "# 고객테이블에 존재하는 모든 속성 검색, 7-12\n",
    "cust.select('userid', 'name', 'age', 'grade', 'job', 'coins').show()"
   ]
  },
  {
   "cell_type": "code",
   "execution_count": 14,
   "id": "f73bd4fc-4e1d-41aa-a6f1-5e5440ef6541",
   "metadata": {},
   "outputs": [
    {
     "name": "stdout",
     "output_type": "stream",
     "text": [
      "+--------+\n",
      "|   maker|\n",
      "+--------+\n",
      "|대한식품|\n",
      "|민국푸드|\n",
      "|한빛제과|\n",
      "|한빛제과|\n",
      "|대한식품|\n",
      "|민국푸드|\n",
      "|한빛제과|\n",
      "+--------+\n",
      "\n"
     ]
    }
   ],
   "source": [
    "# 제품테이블에서 제조업체 검색, 7-13\n",
    "prod.select('maker').show()"
   ]
  },
  {
   "cell_type": "code",
   "execution_count": 80,
   "id": "6c2a1548-034c-456c-a130-48e043bf9f49",
   "metadata": {},
   "outputs": [
    {
     "name": "stdout",
     "output_type": "stream",
     "text": [
      "+------+----------+-----+-----+--------+\n",
      "|prodid|  prodname|stock|price|   maker|\n",
      "+------+----------+-----+-----+--------+\n",
      "|   p01|  그냥만두| 5000| 4500|대한식품|\n",
      "|   p02|  매운쫄면| 2500| 5500|민국푸드|\n",
      "|   p03|  쿵떡파이| 3600| 2600|한빛제과|\n",
      "|   p04|맛난초콜렛| 1250| 2500|한빛제과|\n",
      "|   p05|  얼큰라면| 2200| 1200|대한식품|\n",
      "|   p06|  통통우동| 1000| 1550|민국푸드|\n",
      "|   p07|달콤비스켓| 1650| 1500|한빛제과|\n",
      "+------+----------+-----+-----+--------+\n",
      "\n"
     ]
    }
   ],
   "source": [
    "# 제품테이블에서 제조업체를 검색하되, ALL키워드를 사용해보자. 7-14\n",
    "import pyspark.sql.functions as F\n",
    "prod.select(F.col('*')).show()"
   ]
  },
  {
   "cell_type": "code",
   "execution_count": 25,
   "id": "76a79446-8fdb-4671-9a03-69d2a144e153",
   "metadata": {},
   "outputs": [
    {
     "name": "stdout",
     "output_type": "stream",
     "text": [
      "+--------+\n",
      "|   maker|\n",
      "+--------+\n",
      "|한빛제과|\n",
      "|대한식품|\n",
      "|민국푸드|\n",
      "+--------+\n",
      "\n"
     ]
    }
   ],
   "source": [
    "# 제품테이블에서 제조업체 속성을 중복없이 검색해보자. 7-15\n",
    "prod.select('maker').distinct().show()"
   ]
  },
  {
   "cell_type": "code",
   "execution_count": 83,
   "id": "aba1bf65-6721-49b1-aea5-c65fc76db409",
   "metadata": {},
   "outputs": [
    {
     "name": "stdout",
     "output_type": "stream",
     "text": [
      "+----------+----+\n",
      "|    상품명|단가|\n",
      "+----------+----+\n",
      "|  그냥만두|4500|\n",
      "|  매운쫄면|5500|\n",
      "|  쿵떡파이|2600|\n",
      "|맛난초콜렛|2500|\n",
      "|  얼큰라면|1200|\n",
      "|  통통우동|1550|\n",
      "|달콤비스켓|1500|\n",
      "+----------+----+\n",
      "\n"
     ]
    }
   ],
   "source": [
    "# 제품테이블에서 제품명과 단가를 검색하되, 단가를 가격이라는 새 이름으로 출력해보자. 7-16\n",
    "prod.select(prod.prodname.alias('상품명'), prod.price.alias('단가')).show()"
   ]
  },
  {
   "cell_type": "code",
   "execution_count": 85,
   "id": "700f9941-0046-4501-a602-2536e0cb430f",
   "metadata": {},
   "outputs": [
    {
     "name": "stdout",
     "output_type": "stream",
     "text": [
      "+----------+----+--------+\n",
      "|    상품명|단가|조정단가|\n",
      "+----------+----+--------+\n",
      "|  그냥만두|4500|    5000|\n",
      "|  매운쫄면|5500|    6000|\n",
      "|  쿵떡파이|2600|    3100|\n",
      "|맛난초콜렛|2500|    3000|\n",
      "|  얼큰라면|1200|    1700|\n",
      "|  통통우동|1550|    2050|\n",
      "|달콤비스켓|1500|    2000|\n",
      "+----------+----+--------+\n",
      "\n"
     ]
    }
   ],
   "source": [
    "# 제품테이블에서 제품명과 단가 속성을 검색하되, 단가에 500원을 더해 '조정 단가'라는 새이름으로 출력해보자. 7-17\n",
    "prod.select(prod.prodname.alias('상품명'), prod.price.alias('단가'), (prod.price + 500).alias('조정단가')).show()"
   ]
  },
  {
   "cell_type": "code",
   "execution_count": 45,
   "id": "cc9813ec-2e0b-4800-a7aa-31b6408da8ad",
   "metadata": {},
   "outputs": [
    {
     "name": "stdout",
     "output_type": "stream",
     "text": [
      "+----------+-----+-----+\n",
      "|  prodname|stock|price|\n",
      "+----------+-----+-----+\n",
      "|  쿵떡파이| 3600| 2600|\n",
      "|맛난초콜렛| 1250| 2500|\n",
      "|달콤비스켓| 1650| 1500|\n",
      "+----------+-----+-----+\n",
      "\n"
     ]
    }
   ],
   "source": [
    "# 제품테이블에서 한빛제과가 제조한 제품의 제품명, 재고량, 단가를 검색해보자. 7-18\n",
    "prod.filter(prod.maker == '한빛제과').select('prodname', 'stock', 'price').show()"
   ]
  },
  {
   "cell_type": "code",
   "execution_count": 51,
   "id": "15e08bf7-4eb2-4545-a77c-485b84d3bdeb",
   "metadata": {},
   "outputs": [
    {
     "name": "stdout",
     "output_type": "stream",
     "text": [
      "+------+------+----------+\n",
      "|prodid|amount|   orddate|\n",
      "+------+------+----------+\n",
      "|   p03|    22|2013-03-15|\n",
      "+------+------+----------+\n",
      "\n"
     ]
    }
   ],
   "source": [
    "# 주문테이블에서 apple 고객이 15개이상 주문한 주문제품, 수량, 주문일자를 검색해보자. 7-19\n",
    "ordr.filter((ordr['userid'] == 'apple') & (ordr['amount'] >= 15)).select('prodid', 'amount', 'orddate').show()"
   ]
  },
  {
   "cell_type": "code",
   "execution_count": 52,
   "id": "d43340f2-51ac-4a07-9f7f-1c6460628ea9",
   "metadata": {},
   "outputs": [
    {
     "name": "stdout",
     "output_type": "stream",
     "text": [
      "+------+------+----------+------+\n",
      "|prodid|amount|   orddate|userid|\n",
      "+------+------+----------+------+\n",
      "|   p03|    10|2013-01-01| apple|\n",
      "|   p06|    45|2013-01-11|banana|\n",
      "|   p06|    36|2013-02-20| melon|\n",
      "|   p01|    19|2013-03-02|banana|\n",
      "|   p03|    22|2013-03-15| apple|\n",
      "|   p02|    50|2013-04-10|  pear|\n",
      "|   p04|    15|2013-04-11|banana|\n",
      "|   p03|    20|2013-05-22|carrot|\n",
      "+------+------+----------+------+\n",
      "\n"
     ]
    }
   ],
   "source": [
    "# 주문테이블에서 apple고객이 주문했거나 15개 이상 주문된 재품의 주문제품, 수량, 주문일자, 주문고객을 알아보자. 7-20\n",
    "ordr.filter((ordr['userid'] == 'apple') | (ordr['amount'] >= 15)).select('prodid', 'amount', 'orddate', 'userid').show()"
   ]
  },
  {
   "cell_type": "code",
   "execution_count": 54,
   "id": "66824725-4b4d-4423-a9f7-116313d2509f",
   "metadata": {},
   "outputs": [
    {
     "name": "stdout",
     "output_type": "stream",
     "text": [
      "+----------+-----+--------+\n",
      "|  prodname|price|   maker|\n",
      "+----------+-----+--------+\n",
      "|  쿵떡파이| 2600|한빛제과|\n",
      "|맛난초콜렛| 2500|한빛제과|\n",
      "+----------+-----+--------+\n",
      "\n"
     ]
    }
   ],
   "source": [
    "# 제품테이블에서 단가 2000원 이상이면서 3000원 이하인 제품의 제품명, 단가, 제조업체를 검색해보자 7-21\n",
    "prod.filter((prod['price'] >= 2000) & (prod['price'] <= 3000)).select('prodname', 'price', 'maker').show()"
   ]
  },
  {
   "cell_type": "code",
   "execution_count": 56,
   "id": "f1e4a584-bafc-46ab-b57d-74cdce09b6ce",
   "metadata": {},
   "outputs": [
    {
     "name": "stdout",
     "output_type": "stream",
     "text": [
      "+------+---+------+-----+\n",
      "|  name|age| grade|coins|\n",
      "+------+---+------+-----+\n",
      "|김선우| 25|   vip| 2500|\n",
      "|김용욱| 22|silver|    0|\n",
      "+------+---+------+-----+\n",
      "\n"
     ]
    }
   ],
   "source": [
    "# 고객테이블에서 성이 김씨인 고객의 고객이름, 나이, 등급, 적립금을 검색해보자. 7-22\n",
    "cust.filter(cust.name.like('김%')).select('name', 'age', 'grade', 'coins').show()"
   ]
  },
  {
   "cell_type": "code",
   "execution_count": 93,
   "id": "8ca0f070-c6fd-49dd-8af9-455a5c901a2e",
   "metadata": {},
   "outputs": [
    {
     "name": "stdout",
     "output_type": "stream",
     "text": [
      "+------+------+------+\n",
      "|userid|  name| grade|\n",
      "+------+------+------+\n",
      "| apple|정소화|  gold|\n",
      "| melon|성원용|  gold|\n",
      "| peach|오형준|silver|\n",
      "+------+------+------+\n",
      "\n"
     ]
    }
   ],
   "source": [
    "# 고객테이블에서 고객아이디가 5자인 고객의 고객아이디, 고객이름, 등급을 검색해보자. 7-23\n",
    "cust.filter(cust.userid.like('_____')).select('userid', 'name', 'grade').show()"
   ]
  },
  {
   "cell_type": "code",
   "execution_count": 94,
   "id": "db5d6540-bbde-4e71-b609-4df544cd083f",
   "metadata": {},
   "outputs": [
    {
     "name": "stdout",
     "output_type": "stream",
     "text": [
      "+------+----+\n",
      "|  name| age|\n",
      "+------+----+\n",
      "|오형준|null|\n",
      "+------+----+\n",
      "\n"
     ]
    }
   ],
   "source": [
    "# 고객테이블에서 나이가 아직 입력되지 않은 고객의 고객이름을 검색해보자. 7-24\n",
    "cust.filter(cust.age.isNull()).select('name', 'age').show()"
   ]
  },
  {
   "cell_type": "code",
   "execution_count": 95,
   "id": "863934b9-6b70-448a-828d-6388357c4ac2",
   "metadata": {},
   "outputs": [
    {
     "name": "stdout",
     "output_type": "stream",
     "text": [
      "+------+---+\n",
      "|  name|age|\n",
      "+------+---+\n",
      "|정소화| 20|\n",
      "|김선우| 25|\n",
      "|고명석| 28|\n",
      "|성원용| 35|\n",
      "|김용욱| 22|\n",
      "|채광주| 31|\n",
      "+------+---+\n",
      "\n"
     ]
    }
   ],
   "source": [
    "#고객테이블에서 나이가 이미 입력된 고객의 고객이름을 검색해보자. 7-25\n",
    "cust.filter(cust.age.isNotNull()).select('name', 'age').show()"
   ]
  },
  {
   "cell_type": "code",
   "execution_count": 64,
   "id": "2c739e6b-0424-4225-8e01-9b4e7a192f5b",
   "metadata": {},
   "outputs": [
    {
     "name": "stdout",
     "output_type": "stream",
     "text": [
      "+------+------+----+\n",
      "|  name| grade| age|\n",
      "+------+------+----+\n",
      "|성원용|  gold|  35|\n",
      "|채광주|silver|  31|\n",
      "|고명석|  gold|  28|\n",
      "|김선우|   vip|  25|\n",
      "|김용욱|silver|  22|\n",
      "|정소화|  gold|  20|\n",
      "|오형준|silver|null|\n",
      "+------+------+----+\n",
      "\n"
     ]
    }
   ],
   "source": [
    "# 고객테이블에서 고객이름, 등급, 나이를 검색하되, 나이를 기준으로 내림차순으로 정렬해보자. 7-26\n",
    "cust.select('name', 'grade', 'age').orderBy('age', ascending=False).show()"
   ]
  },
  {
   "cell_type": "code",
   "execution_count": 107,
   "id": "b106f90b-425b-45ff-95d9-ba5932355497",
   "metadata": {},
   "outputs": [
    {
     "name": "stdout",
     "output_type": "stream",
     "text": [
      "+------+------+------+----------+\n",
      "|userid|prodid|amount|   orddate|\n",
      "+------+------+------+----------+\n",
      "|banana|   p01|    19|2013-03-02|\n",
      "|  pear|   p02|    50|2013-04-10|\n",
      "| apple|   p03|    22|2013-03-15|\n",
      "|carrot|   p03|    20|2013-05-22|\n",
      "| apple|   p03|    10|2013-01-01|\n",
      "|banana|   p04|    15|2013-04-11|\n",
      "|banana|   p06|    45|2013-01-11|\n",
      "| melon|   p06|    36|2013-02-20|\n",
      "+------+------+------+----------+\n",
      "\n"
     ]
    }
   ],
   "source": [
    "# 주문테이블에서 수량이 10개 이상인 주문의 주문고객, 주문제품, 수량, 주문일자를 검색해보자.\n",
    "# 단, 주문제품을 기준으로 오름차순으로 정렬하고, 동일제품을 수량을 기준으로 내림차순으로 정렬해보자. 7-27\n",
    "ordr.filter(ordr.amount >= 10).select('userid', 'prodid', 'amount', 'orddate')\\\n",
    ".orderBy('amount', ascending=False).orderBy('prodid',ascending=True).show()"
   ]
  },
  {
   "cell_type": "code",
   "execution_count": 109,
   "id": "d9f5c46e-70be-4d82-8367-4c14dcc941ec",
   "metadata": {},
   "outputs": [
    {
     "name": "stdout",
     "output_type": "stream",
     "text": [
      "+------+------+------+----------+\n",
      "|userid|prodid|amount|   orddate|\n",
      "+------+------+------+----------+\n",
      "|banana|   p01|    19|2013-03-02|\n",
      "|  pear|   p02|    50|2013-04-10|\n",
      "| apple|   p03|    22|2013-03-15|\n",
      "|carrot|   p03|    20|2013-05-22|\n",
      "| apple|   p03|    10|2013-01-01|\n",
      "|banana|   p04|    15|2013-04-11|\n",
      "|banana|   p06|    45|2013-01-11|\n",
      "| melon|   p06|    36|2013-02-20|\n",
      "+------+------+------+----------+\n",
      "\n"
     ]
    }
   ],
   "source": [
    "# 7-27\n",
    "ordr.filter(ordr.amount >= 10).select('userid', 'prodid', 'amount', 'orddate')\\\n",
    ".orderBy(['prodid','amount'], ascending=[1,0]).show()"
   ]
  },
  {
   "cell_type": "code",
   "execution_count": 114,
   "id": "04a28903-ab97-46c3-b722-bca0812aa4aa",
   "metadata": {},
   "outputs": [
    {
     "name": "stdout",
     "output_type": "stream",
     "text": [
      "+-----------------+\n",
      "|         단가평균|\n",
      "+-----------------+\n",
      "|2764.285714285714|\n",
      "+-----------------+\n",
      "\n"
     ]
    }
   ],
   "source": [
    "# 제품테이블에서 모든 제품 단가의 평균 7-28\n",
    "prod.agg(F.avg('price').alias('단가평균')).show()"
   ]
  },
  {
   "cell_type": "code",
   "execution_count": 128,
   "id": "fe8e8a81-7376-4295-b740-5bb64e6f8e71",
   "metadata": {},
   "outputs": [
    {
     "name": "stdout",
     "output_type": "stream",
     "text": [
      "+--------+\n",
      "|단가평균|\n",
      "+--------+\n",
      "| 2764.29|\n",
      "+--------+\n",
      "\n"
     ]
    }
   ],
   "source": [
    "prod.agg(F.round(F.avg('price'),2).alias('단가평균')).show()"
   ]
  },
  {
   "cell_type": "code",
   "execution_count": 133,
   "id": "28ac2f0b-90ab-47ee-ade0-866f993ff29d",
   "metadata": {},
   "outputs": [
    {
     "name": "stdout",
     "output_type": "stream",
     "text": [
      "+----------+\n",
      "|재고량합계|\n",
      "+----------+\n",
      "|      6500|\n",
      "+----------+\n",
      "\n"
     ]
    }
   ],
   "source": [
    "# 한빛제과에서 제조한 제품의 재고량 합계를 제품테이블에서 검색해보자 7-29\n",
    "prod.filter(prod.maker == '한빛제과')\\\n",
    ".agg(F.sum('stock').alias('재고량합계')).show()"
   ]
  },
  {
   "cell_type": "code",
   "execution_count": 137,
   "id": "555aa882-0f17-4667-97fd-2c7cbae4212e",
   "metadata": {},
   "outputs": [
    {
     "name": "stdout",
     "output_type": "stream",
     "text": [
      "+------+\n",
      "|고객수|\n",
      "+------+\n",
      "|     7|\n",
      "+------+\n",
      "\n"
     ]
    },
    {
     "data": {
      "text/plain": [
       "7"
      ]
     },
     "execution_count": 137,
     "metadata": {},
     "output_type": "execute_result"
    }
   ],
   "source": [
    "# 고객테이블에 고객이 몇명이 등록되어 있는지 검색해보자 7-30\n",
    "cust.agg(F.count('name').alias('고객수')).show()\n",
    "cust.select('name').count()"
   ]
  },
  {
   "cell_type": "code",
   "execution_count": 140,
   "id": "23f9ec85-f837-44ca-8a95-90040154fffe",
   "metadata": {},
   "outputs": [
    {
     "name": "stdout",
     "output_type": "stream",
     "text": [
      "+----------+\n",
      "|제조업체수|\n",
      "+----------+\n",
      "|         3|\n",
      "+----------+\n",
      "\n"
     ]
    }
   ],
   "source": [
    "# 제품테이블에서 제조업체의 수를 검색해보자 7-30\n",
    "prod.agg(F.countDistinct('maker').alias('제조업체수')).show()"
   ]
  },
  {
   "cell_type": "code",
   "execution_count": 143,
   "id": "63177e80-a79c-4aee-9512-bd7c70ed8a91",
   "metadata": {},
   "outputs": [
    {
     "name": "stdout",
     "output_type": "stream",
     "text": [
      "+------+------------+\n",
      "|prodid|주문수량합계|\n",
      "+------+------------+\n",
      "|   p03|          52|\n",
      "|   p01|          24|\n",
      "|   p06|          81|\n",
      "|   p02|          58|\n",
      "|   p04|          15|\n",
      "+------+------------+\n",
      "\n"
     ]
    }
   ],
   "source": [
    "# 주문테이블에서 주문제품별 수량의 합계를 검색해보자 7-31\n",
    "ordr.groupBy('prodid').agg(F.sum('amount').alias('주문수량합계')).show()"
   ]
  },
  {
   "cell_type": "code",
   "execution_count": 147,
   "id": "a736955d-e712-48b3-8aff-e8ea201184c1",
   "metadata": {},
   "outputs": [
    {
     "name": "stdout",
     "output_type": "stream",
     "text": [
      "+------+------------+--------+\n",
      "|prodid|주문수량합계|주문건수|\n",
      "+------+------------+--------+\n",
      "|   p03|          52|       3|\n",
      "|   p01|          24|       2|\n",
      "|   p06|          81|       2|\n",
      "|   p02|          58|       2|\n",
      "|   p04|          15|       1|\n",
      "+------+------------+--------+\n",
      "\n"
     ]
    }
   ],
   "source": [
    "# 주문테이블에서 주문건수수량의 합계를 검색해보자 7-32\n",
    "ordr.groupBy('prodid').agg(F.sum('amount').alias('주문수량합계'), F.count('prodid').alias('주문건수')).show()"
   ]
  },
  {
   "cell_type": "code",
   "execution_count": 150,
   "id": "e4d24718-187e-435f-b4ee-d04ce0f95377",
   "metadata": {},
   "outputs": [
    {
     "name": "stdout",
     "output_type": "stream",
     "text": [
      "+--------+--------+--------+\n",
      "|   maker|제품갯수|비싼단가|\n",
      "+--------+--------+--------+\n",
      "|한빛제과|       3|    2600|\n",
      "|대한식품|       2|    4500|\n",
      "|민국푸드|       2|    5500|\n",
      "+--------+--------+--------+\n",
      "\n"
     ]
    }
   ],
   "source": [
    "# 7-33\n",
    "prod.groupBy('maker').agg(F.count('prodid').alias('제품갯수'), F.max('price').alias('비싼단가')).show()"
   ]
  },
  {
   "cell_type": "code",
   "execution_count": 156,
   "id": "e4ef3d58-a68c-434e-963e-72c496ee173b",
   "metadata": {},
   "outputs": [
    {
     "name": "stdout",
     "output_type": "stream",
     "text": [
      "+--------+--------+--------+\n",
      "|   maker|제품갯수|비싼단가|\n",
      "+--------+--------+--------+\n",
      "|한빛제과|       3|    2600|\n",
      "+--------+--------+--------+\n",
      "\n"
     ]
    }
   ],
   "source": [
    "# 7-34\n",
    "prod.groupBy('maker').agg(F.count('prodid').alias('제품갯수'), F.max('price').alias('비싼단가'))\\\n",
    ".filter(F.col('제품갯수') >= 3).show()"
   ]
  },
  {
   "cell_type": "code",
   "execution_count": 161,
   "id": "e600f02e-b0ac-4c6c-bb20-f6c329b97214",
   "metadata": {},
   "outputs": [
    {
     "name": "stdout",
     "output_type": "stream",
     "text": [
      "+-----+------+----------+\n",
      "|grade|고객수|적립금평균|\n",
      "+-----+------+----------+\n",
      "| gold|     3|    3500.0|\n",
      "|  vip|     1|    2500.0|\n",
      "+-----+------+----------+\n",
      "\n"
     ]
    }
   ],
   "source": [
    "# 7-35\n",
    "cust.groupBy('grade')\\\n",
    ".agg(F.count('name').alias('고객수'), \n",
    "     F.round(F.avg('coins'),1).alias('적립금평균'))\\\n",
    ".filter(F.col('적립금평균') >= 1000).show()"
   ]
  },
  {
   "cell_type": "code",
   "execution_count": 174,
   "id": "dd612059-c968-42fc-9a10-b18058033e32",
   "metadata": {},
   "outputs": [
    {
     "name": "stdout",
     "output_type": "stream",
     "text": [
      "+------+-----------+\n",
      "|prodid|sum(amount)|\n",
      "+------+-----------+\n",
      "|   p03|         52|\n",
      "|   p01|         24|\n",
      "|   p06|         81|\n",
      "|   p02|         58|\n",
      "|   p04|         15|\n",
      "+------+-----------+\n",
      "\n"
     ]
    }
   ],
   "source": [
    "# 7-36\n",
    "ordr.groupBy('prodid')\\\n",
    ".agg(F.sum('amount')).show()"
   ]
  },
  {
   "cell_type": "code",
   "execution_count": 165,
   "id": "5761d61d-a0a3-4b06-b2b0-974f8573dcc4",
   "metadata": {},
   "outputs": [
    {
     "name": "stdout",
     "output_type": "stream",
     "text": [
      "+------+----------+\n",
      "|userid|  prodname|\n",
      "+------+----------+\n",
      "|banana|  통통우동|\n",
      "|banana|  그냥만두|\n",
      "|banana|맛난초콜렛|\n",
      "+------+----------+\n",
      "\n"
     ]
    }
   ],
   "source": [
    "# 3-37\n",
    "ordrprod = ordr.join(prod, 'prodid', 'inner')\n",
    "ordrprod.filter(F.col('userid') == 'banana')\\\n",
    ".select('userid', 'prodname').show()"
   ]
  },
  {
   "cell_type": "code",
   "execution_count": 167,
   "id": "6fa65c03-4d07-449d-a581-4cba1723fb13",
   "metadata": {},
   "outputs": [
    {
     "name": "stdout",
     "output_type": "stream",
     "text": [
      "+---+------+----------+\n",
      "|age|prodid|   orddate|\n",
      "+---+------+----------+\n",
      "| 35|   p01|2013-01-10|\n",
      "| 35|   p06|2013-02-20|\n",
      "| 31|   p02|2013-04-10|\n",
      "+---+------+----------+\n",
      "\n"
     ]
    }
   ],
   "source": [
    "# 7-38\n",
    "ordrcust = ordr.join(cust, 'userid', 'inner')\n",
    "ordrcust.filter(F.col('age') >= 30).select('age', 'prodid', 'orddate').show()"
   ]
  },
  {
   "cell_type": "code",
   "execution_count": 171,
   "id": "a242856c-2ce9-4b58-85f9-40255fd3505a",
   "metadata": {},
   "outputs": [
    {
     "name": "stdout",
     "output_type": "stream",
     "text": [
      "+------+--------+\n",
      "|  name|prodname|\n",
      "+------+--------+\n",
      "|고명석|매운쫄면|\n",
      "|고명석|쿵떡파이|\n",
      "+------+--------+\n",
      "\n"
     ]
    }
   ],
   "source": [
    "# 7-39\n",
    "ordcusprd = ordrcust.join(prod, 'prodid', 'inner')\n",
    "ordcusprd.filter(F.col('name') == '고명석').select('name', 'prodname').show()"
   ]
  },
  {
   "cell_type": "code",
   "execution_count": null,
   "id": "eda344cc-ff6c-4306-9b4b-33db42a1d12c",
   "metadata": {},
   "outputs": [],
   "source": []
  },
  {
   "cell_type": "code",
   "execution_count": null,
   "id": "33cc9d79-a8de-40b0-b649-008da94db24a",
   "metadata": {},
   "outputs": [],
   "source": []
  },
  {
   "cell_type": "code",
   "execution_count": null,
   "id": "7463f76c-2feb-46ad-8b5e-27fd66d68aef",
   "metadata": {},
   "outputs": [],
   "source": []
  },
  {
   "cell_type": "code",
   "execution_count": null,
   "id": "cb0b1066-26dd-41b7-8783-21c256fbab3a",
   "metadata": {},
   "outputs": [],
   "source": []
  }
 ],
 "metadata": {
  "kernelspec": {
   "display_name": "Python 3",
   "language": "python",
   "name": "python3"
  },
  "language_info": {
   "codemirror_mode": {
    "name": "ipython",
    "version": 3
   },
   "file_extension": ".py",
   "mimetype": "text/x-python",
   "name": "python",
   "nbconvert_exporter": "python",
   "pygments_lexer": "ipython3",
   "version": "3.8.12"
  }
 },
 "nbformat": 4,
 "nbformat_minor": 5
}
