{
 "cells": [
  {
   "cell_type": "markdown",
   "id": "8d0573bf-7fbf-4c52-8d2a-767cdedd1766",
   "metadata": {},
   "source": [
    "# spqrk dataset\n",
    "\n",
    "## 스파크 중요 개념 : RDD, dataframe\n",
    "* RDD(Resillient Distributed Data) : 탄력적이고 분산된 데이터셋 \n",
    "* HDFS와는 달리 쓰기 불가능 데이터셋\n",
    "* 다양한 연산(map, reduce, count, filter, join) 수행 가능\n",
    "* 작업은 lazy하게 병렬로 수행되고 메모리에 저장됨"
   ]
  },
  {
   "cell_type": "markdown",
   "id": "e3608186-f898-4457-b247-335bc52d50f4",
   "metadata": {},
   "source": [
    "# History of Spark API\n",
    "* RDD   (2011)  : v1 부터 지원, 분산 데이터셋, 연산을 제어하는 코드 작성이 어려움\n",
    "* dataframe (2013) : v1.3부터 지원, 데이터를 스키마형태로 추상화, 속도 개선\n",
    "* dataset (2015) : v1.6부터 지원, 데이터의 자료형 검사, 직렬화 지원\n",
    "* dataset (2016) : v2.0부터 지원, dataframe과 dataset을 dataset으로 통합\n",
    "* 스파크 애플리케이션 개발 : RDD 이용, SparkContext 사용\n",
    "* SQL on Spark : dataset,dataframe 이용, SparkSession 사용"
   ]
  },
  {
   "cell_type": "markdown",
   "id": "e9242d81-248f-47a9-a965-c3c69259b566",
   "metadata": {},
   "source": [
    "## RDD를 이용해서 데이터프레임 생성"
   ]
  },
  {
   "cell_type": "code",
   "execution_count": 72,
   "id": "6b68c962-ac78-4d74-9473-bc85811ac6f4",
   "metadata": {},
   "outputs": [],
   "source": [
    "from pyspark.sql.types import StringType, IntegerType"
   ]
  },
  {
   "cell_type": "code",
   "execution_count": 73,
   "id": "7a5e6a5d-3297-4f7b-9b88-280433338f9e",
   "metadata": {},
   "outputs": [
    {
     "data": {
      "text/plain": [
       "['apple', 'peach', 'banana', 'mango', 'pineapple']"
      ]
     },
     "execution_count": 73,
     "metadata": {},
     "output_type": "execute_result"
    }
   ],
   "source": [
    "# 리스트를 이용해서 데이터프레임 만들기\n",
    "# 리스트로 RDD 객체 생성\n",
    "data = ['apple', 'peach', 'banana', 'mango', 'pineapple']\n",
    "words = sc.parallelize(data)   # rdd객체 생성\n",
    "words.collect()"
   ]
  },
  {
   "cell_type": "code",
   "execution_count": 74,
   "id": "96608f54-e9ce-4bb5-8dc0-4d097adba950",
   "metadata": {},
   "outputs": [
    {
     "name": "stdout",
     "output_type": "stream",
     "text": [
      "+---------+\n",
      "|    value|\n",
      "+---------+\n",
      "|    apple|\n",
      "|    peach|\n",
      "|   banana|\n",
      "|    mango|\n",
      "|pineapple|\n",
      "+---------+\n",
      "\n"
     ]
    }
   ],
   "source": [
    "# RDD 객체를 데이터프레임으로 만들기\n",
    "# 데이터프레임 : 행과 열로 구성된 2차원 데이터객체\n",
    "# createDataFrame(RDD객체, 타입)\n",
    "df = spark.createDataFrame(words, StringType())\n",
    "df.show()         # 데이터프레임 내용 출력"
   ]
  },
  {
   "cell_type": "code",
   "execution_count": 75,
   "id": "b6655c35-caf8-43a6-bc55-d1a4c1b95139",
   "metadata": {},
   "outputs": [
    {
     "data": {
      "text/plain": [
       "[Row(fruit='apple', price=1500),\n",
       " Row(fruit='peach', price=2000),\n",
       " Row(fruit='banana', price=1500),\n",
       " Row(fruit='mango', price=2500),\n",
       " Row(fruit='pineapple', price=3000)]"
      ]
     },
     "execution_count": 75,
     "metadata": {},
     "output_type": "execute_result"
    }
   ],
   "source": [
    "# 리스트 객체로 데이터프레임으로 만들기 - (과일명, 가격)\n",
    "# 데이터프레임 생성시 컬럼명 지정\n",
    "data =  [('apple', 1500), ('peach', 2000), ('banana', 1500), ('mango', 2500), ('pineapple', 3000)]\n",
    "fruits = spark.createDataFrame(data,['fruit', 'price'])\n",
    "fruits.collect()"
   ]
  },
  {
   "cell_type": "code",
   "execution_count": 76,
   "id": "dd889b57-77c4-4b7e-9e4f-d84b8fe1a0b8",
   "metadata": {},
   "outputs": [
    {
     "name": "stdout",
     "output_type": "stream",
     "text": [
      "+---------+-----+\n",
      "|    fruit|price|\n",
      "+---------+-----+\n",
      "|    apple| 1500|\n",
      "|    peach| 2000|\n",
      "|   banana| 1500|\n",
      "|    mango| 2500|\n",
      "|pineapple| 3000|\n",
      "+---------+-----+\n",
      "\n"
     ]
    }
   ],
   "source": [
    "fruits.show()"
   ]
  },
  {
   "cell_type": "code",
   "execution_count": 77,
   "id": "9703a2e3-f21d-45b7-add3-72db539a82b0",
   "metadata": {},
   "outputs": [
    {
     "data": {
      "text/plain": [
       "[Row(fruit='apple', price=1500),\n",
       " Row(fruit='peach', price=2000),\n",
       " Row(fruit='banana', price=1500),\n",
       " Row(fruit='mango', price=2500),\n",
       " Row(fruit='pineapple', price=3000)]"
      ]
     },
     "execution_count": 77,
     "metadata": {},
     "output_type": "execute_result"
    }
   ],
   "source": [
    "# 리스트 객체로 데이터프레임 만들기 2\n",
    "# 데이터프레임 생성시 컬럼명과 자료형 지정(컬럼명:자료형)\n",
    "fruits = spark.createDataFrame(data, \"fruit:string, price:int\")\n",
    "fruits.collect()"
   ]
  },
  {
   "cell_type": "code",
   "execution_count": 78,
   "id": "71a141b4-763d-4432-9760-8b722f2b1179",
   "metadata": {},
   "outputs": [
    {
     "name": "stdout",
     "output_type": "stream",
     "text": [
      "+---------+\n",
      "|    fruit|\n",
      "+---------+\n",
      "|    apple|\n",
      "|    peach|\n",
      "|   banana|\n",
      "|    mango|\n",
      "|pineapple|\n",
      "+---------+\n",
      "\n",
      "+-----+\n",
      "|price|\n",
      "+-----+\n",
      "| 1500|\n",
      "| 2000|\n",
      "| 1500|\n",
      "| 2500|\n",
      "| 3000|\n",
      "+-----+\n",
      "\n"
     ]
    }
   ],
   "source": [
    "# 데이터프레임에서 컬럼 조회 : select(컬럼명)\n",
    "fruits.select('fruit').show()\n",
    "fruits.select('price').show()"
   ]
  },
  {
   "cell_type": "markdown",
   "id": "fc28c6e8-e2c6-42e7-b529-ca5a4701bef5",
   "metadata": {},
   "source": [
    "# 스파크세션을 이용한 고급 데이터프레임 다루기"
   ]
  },
  {
   "cell_type": "code",
   "execution_count": 79,
   "id": "c1257489-a66a-45e4-bba5-a926a4336101",
   "metadata": {},
   "outputs": [],
   "source": [
    "from pyspark.sql import SparkSession\n",
    "from pyspark.sql.types import StructType"
   ]
  },
  {
   "cell_type": "code",
   "execution_count": 80,
   "id": "59a7b681-35db-450c-b3ae-66482a4dc6c7",
   "metadata": {},
   "outputs": [],
   "source": [
    "# 데이터프레임 스키마 정의 - employees\n",
    "# 스파크 세션 객체 직접 생성\n",
    "spark = SparkSession.builder.appName('emp').getOrCreate()"
   ]
  },
  {
   "cell_type": "code",
   "execution_count": 81,
   "id": "7a568d66-55e3-43c0-8375-57cb2e5693ab",
   "metadata": {},
   "outputs": [],
   "source": [
    "# 데이터프레임 생성전 스키마 정의\n",
    "# add(컬럼명, 데이터타입)\n",
    "emp_schema = StructType().add('empno', 'integer').add('fname', 'string')\\\n",
    ".add('lanme', 'string').add('hdate', 'string').add('sal', 'integer')\\\n",
    ".add('deptid', 'integer')"
   ]
  },
  {
   "cell_type": "code",
   "execution_count": 82,
   "id": "166c7983-fe78-4d12-b9ab-152283fa5ad2",
   "metadata": {},
   "outputs": [],
   "source": [
    "# 지정한 스키마를 이용해서 데이터프레임 생성\n",
    "# 데이터프레임의 각 행은 set 객체로 정의\n",
    "# 위에서 정의한 스키마는 schema 속성으로 지정\n",
    "df = spark.createDataFrame(\n",
    "   [(123,'steve','king','2003-06-17',35000,None),\n",
    "   (456,'john','seo','2005-12-15',20000,50),\n",
    "   (789,'david',None,'2004-03-01',22000,90)], \n",
    "   schema=emp_schema)"
   ]
  },
  {
   "cell_type": "code",
   "execution_count": 83,
   "id": "6b951e27-a127-40ee-b928-8d92ea72d6d5",
   "metadata": {},
   "outputs": [
    {
     "name": "stdout",
     "output_type": "stream",
     "text": [
      "root\n",
      " |-- empno: integer (nullable = true)\n",
      " |-- fname: string (nullable = true)\n",
      " |-- lanme: string (nullable = true)\n",
      " |-- hdate: string (nullable = true)\n",
      " |-- sal: integer (nullable = true)\n",
      " |-- deptid: integer (nullable = true)\n",
      "\n"
     ]
    }
   ],
   "source": [
    "# 데이터프레임 스키마 확인\n",
    "df.printSchema()"
   ]
  },
  {
   "cell_type": "code",
   "execution_count": 84,
   "id": "2ee1e9f1-46e8-4285-a5dc-7c7da80960cb",
   "metadata": {},
   "outputs": [
    {
     "data": {
      "text/plain": [
       "3"
      ]
     },
     "execution_count": 84,
     "metadata": {},
     "output_type": "execute_result"
    }
   ],
   "source": [
    "# 데이터프레임 갯수 출력\n",
    "df.count()"
   ]
  },
  {
   "cell_type": "code",
   "execution_count": 85,
   "id": "4dc30131-4db4-4e3b-b08f-ff094b90bd0e",
   "metadata": {},
   "outputs": [
    {
     "name": "stdout",
     "output_type": "stream",
     "text": [
      "+-------+-----+-----+-----+----------+------------------+------------------+\n",
      "|summary|empno|fname|lanme|     hdate|               sal|            deptid|\n",
      "+-------+-----+-----+-----+----------+------------------+------------------+\n",
      "|  count|    3|    3|    2|         3|                 3|                 2|\n",
      "|   mean|456.0| null| null|      null|25666.666666666668|              70.0|\n",
      "| stddev|333.0| null| null|      null| 8144.527815247077|28.284271247461902|\n",
      "|    min|  123|david| king|2003-06-17|             20000|                50|\n",
      "|    25%|  123| null| null|      null|             20000|                50|\n",
      "|    50%|  456| null| null|      null|             22000|                50|\n",
      "|    75%|  789| null| null|      null|             35000|                90|\n",
      "|    max|  789|steve|  seo|2005-12-15|             35000|                90|\n",
      "+-------+-----+-----+-----+----------+------------------+------------------+\n",
      "\n"
     ]
    }
   ],
   "source": [
    "# 데이터프레임 요약 보기\n",
    "# summary(요약항목)\n",
    "df.summary().show()"
   ]
  },
  {
   "cell_type": "code",
   "execution_count": 86,
   "id": "7bdc7949-3fe2-460a-8b29-8b0cad9063fb",
   "metadata": {},
   "outputs": [
    {
     "name": "stdout",
     "output_type": "stream",
     "text": [
      "+-------+-----+------------------+------------------+\n",
      "|summary|empno|               sal|            deptid|\n",
      "+-------+-----+------------------+------------------+\n",
      "|  count|    3|                 3|                 2|\n",
      "|   mean|456.0|25666.666666666668|              70.0|\n",
      "| stddev|333.0| 8144.527815247077|28.284271247461902|\n",
      "|    min|  123|             20000|                50|\n",
      "|    25%|  123|             20000|                50|\n",
      "|    50%|  456|             22000|                50|\n",
      "|    75%|  789|             35000|                90|\n",
      "|    max|  789|             35000|                90|\n",
      "+-------+-----+------------------+------------------+\n",
      "\n"
     ]
    }
   ],
   "source": [
    "# 특정칼럼에 대한 요약정보 보기\n",
    "# select(대상칼럼들)\n",
    "df.select('empno', 'sal', 'deptid').summary().show()"
   ]
  },
  {
   "cell_type": "code",
   "execution_count": 87,
   "id": "41a59365-7ed6-42c1-8194-7b11049605f5",
   "metadata": {},
   "outputs": [],
   "source": [
    "# csv파일로 데이터프레임 생성하기\n",
    "# read.csv(파일이름, 헤더여부, 스키마여부)\n",
    "emp = spark.read.csv('EMPLOYEES.csv', header=True, inferSchema=True)"
   ]
  },
  {
   "cell_type": "code",
   "execution_count": 88,
   "id": "20f2f255-251c-487b-9487-a5ed4657dc41",
   "metadata": {},
   "outputs": [
    {
     "name": "stdout",
     "output_type": "stream",
     "text": [
      "root\n",
      " |-- EMPLOYEE_ID: integer (nullable = true)\n",
      " |-- FIRST_NAME: string (nullable = true)\n",
      " |-- LAST_NAME: string (nullable = true)\n",
      " |-- EMAIL: string (nullable = true)\n",
      " |-- PHONE_NUMBER: string (nullable = true)\n",
      " |-- HIRE_DATE: string (nullable = true)\n",
      " |-- JOB_ID: string (nullable = true)\n",
      " |-- SALARY: integer (nullable = true)\n",
      " |-- COMMISSION_PCT: double (nullable = true)\n",
      " |-- MANAGER_ID: integer (nullable = true)\n",
      " |-- DEPARTMENT_ID: integer (nullable = true)\n",
      "\n"
     ]
    }
   ],
   "source": [
    "# 데이터프레임 스키마 확인\n",
    "emp.printSchema()"
   ]
  },
  {
   "cell_type": "markdown",
   "id": "29e1c40d-68b0-4918-af41-9e678a1eaac6",
   "metadata": {},
   "source": [
    "## 데이터프레임 데이터 탐색\n",
    "+ select : 컬럼 선택\n",
    "+ filter : 조건 검색\n",
    "+ where : 고급 조건 검색\n",
    "+ orderBy : 정렬\n",
    "+ groupBy : 그룹화"
   ]
  },
  {
   "cell_type": "code",
   "execution_count": 89,
   "id": "1aaa94f5-aa44-431d-a55a-908058472b16",
   "metadata": {},
   "outputs": [
    {
     "name": "stdout",
     "output_type": "stream",
     "text": [
      "+-----------+\n",
      "| FIRST_NAME|\n",
      "+-----------+\n",
      "|     Steven|\n",
      "|      Neena|\n",
      "|        Lex|\n",
      "|  Alexander|\n",
      "|      Bruce|\n",
      "|      David|\n",
      "|      Valli|\n",
      "|      Diana|\n",
      "|      Nancy|\n",
      "|     Daniel|\n",
      "|       John|\n",
      "|     Ismael|\n",
      "|Jose Manuel|\n",
      "|       Luis|\n",
      "|        Den|\n",
      "|  Alexander|\n",
      "|     Shelli|\n",
      "|      Sigal|\n",
      "|        Guy|\n",
      "|      Karen|\n",
      "+-----------+\n",
      "only showing top 20 rows\n",
      "\n"
     ]
    }
   ],
   "source": [
    "# 모든 사원의 이름 조회 : select(['칼럼명', '칼럼명'])\n",
    "emp.select(['FIRST_NAME']).show()  # show(num) num은 num만큼"
   ]
  },
  {
   "cell_type": "code",
   "execution_count": 90,
   "id": "546a68f9-5294-4ccb-b518-07e583bac631",
   "metadata": {},
   "outputs": [
    {
     "name": "stdout",
     "output_type": "stream",
     "text": [
      "+-----------+----------+---------+--------+------------+----------+-------+------+--------------+----------+-------------+\n",
      "|EMPLOYEE_ID|FIRST_NAME|LAST_NAME|   EMAIL|PHONE_NUMBER| HIRE_DATE| JOB_ID|SALARY|COMMISSION_PCT|MANAGER_ID|DEPARTMENT_ID|\n",
      "+-----------+----------+---------+--------+------------+----------+-------+------+--------------+----------+-------------+\n",
      "|        100|    Steven|     King|   SKING|515.123.4567|2003-06-17|AD_PRES| 24000|          null|      null|           90|\n",
      "|        101|     Neena|  Kochhar|NKOCHHAR|515.123.4568|2005-09-21|  AD_VP| 17000|          null|       100|           90|\n",
      "|        102|       Lex|  De Haan| LDEHAAN|515.123.4569|2001-01-13|  AD_VP| 17000|          null|       100|           90|\n",
      "|        103| Alexander|   Hunold| AHUNOLD|590.423.4567|2006-01-03|IT_PROG|  9000|          null|       102|           60|\n",
      "|        108|     Nancy|Greenberg|NGREENBE|515.124.4569|2002-08-17| FI_MGR| 12008|          null|       101|          100|\n",
      "+-----------+----------+---------+--------+------------+----------+-------+------+--------------+----------+-------------+\n",
      "only showing top 5 rows\n",
      "\n"
     ]
    }
   ],
   "source": [
    "# 급여가 7000 이상인 사원 조회 : filter(조건식)\n",
    "# 특정 컬럼을 지정 : 데이터프레임이름[컬럼명]\n",
    "emp.filter(emp['SALARY'] >= 7000).show(5)"
   ]
  },
  {
   "cell_type": "code",
   "execution_count": 91,
   "id": "395b5613-5f07-4cf9-bc07-ecf31d86c9f8",
   "metadata": {},
   "outputs": [
    {
     "data": {
      "text/plain": [
       "47"
      ]
     },
     "execution_count": 91,
     "metadata": {},
     "output_type": "execute_result"
    }
   ],
   "source": [
    "# 급여가 7000 이상인 사원의 수 조회\n",
    "emp.filter(emp['SALARY'] >= 7000).count()"
   ]
  },
  {
   "cell_type": "code",
   "execution_count": 92,
   "id": "b88fc929-9195-4cb0-9c0f-3eb2c010e26e",
   "metadata": {},
   "outputs": [
    {
     "name": "stdout",
     "output_type": "stream",
     "text": [
      "+-----------+-----------+-----------+--------+------------------+----------+----------+------+--------------+----------+-------------+\n",
      "|EMPLOYEE_ID| FIRST_NAME|  LAST_NAME|   EMAIL|      PHONE_NUMBER| HIRE_DATE|    JOB_ID|SALARY|COMMISSION_PCT|MANAGER_ID|DEPARTMENT_ID|\n",
      "+-----------+-----------+-----------+--------+------------------+----------+----------+------+--------------+----------+-------------+\n",
      "|        106|      Valli|  Pataballa|VPATABAL|      590.423.4560|2006-02-05|   IT_PROG|  4800|          null|       103|           60|\n",
      "|        112|Jose Manuel|      Urman| JMURMAN|      515.124.4469|2006-03-07|FI_ACCOUNT|  7800|          null|       108|          100|\n",
      "|        118|        Guy|     Himuro| GHIMURO|      515.127.4565|2006-11-15|  PU_CLERK|  2600|          null|       114|           30|\n",
      "|        126|      Irene|Mikkilineni|IMIKKILI|      650.124.1224|2006-09-28|  ST_CLERK|  2700|          null|       120|           50|\n",
      "|        134|    Michael|     Rogers| MROGERS|      650.127.1834|2006-08-26|  ST_CLERK|  2900|          null|       122|           50|\n",
      "|        139|       John|        Seo|    JSEO|      650.121.2019|2006-02-12|  ST_CLERK|  2700|          null|       123|           50|\n",
      "|        140|     Joshua|      Patel|  JPATEL|      650.121.1834|2006-04-06|  ST_CLERK|  2500|          null|       123|           50|\n",
      "|        143|    Randall|      Matos|  RMATOS|      650.121.2874|2006-03-15|  ST_CLERK|  2600|          null|       124|           50|\n",
      "|        144|      Peter|     Vargas| PVARGAS|      650.121.2004|2006-07-09|  ST_CLERK|  2500|          null|       124|           50|\n",
      "|        153|Christopher|      Olsen|  COLSEN|011.44.1344.498718|2006-03-30|    SA_REP|  8000|           0.2|       145|           80|\n",
      "|        161|     Sarath|     Sewall| SSEWALL|011.44.1345.529268|2006-11-03|    SA_REP|  7000|          0.25|       146|           80|\n",
      "|        169|   Harrison|      Bloom|  HBLOOM|011.44.1343.829268|2006-03-23|    SA_REP| 10000|           0.2|       148|           80|\n",
      "|        176|   Jonathon|     Taylor| JTAYLOR|011.44.1644.429265|2006-03-24|    SA_REP|  8600|           0.2|       149|           80|\n",
      "|        177|       Jack| Livingston|JLIVINGS|011.44.1644.429264|2006-04-23|    SA_REP|  8400|           0.2|       149|           80|\n",
      "|        181|       Jean|     Fleaur| JFLEAUR|      650.507.9877|2006-02-23|  SH_CLERK|  3100|          null|       120|           50|\n",
      "|        186|      Julia|  Dellinger|JDELLING|      650.509.3876|2006-06-24|  SH_CLERK|  3400|          null|       121|           50|\n",
      "|        190|    Timothy|      Gates|  TGATES|      650.505.3876|2006-07-11|  SH_CLERK|  2900|          null|       122|           50|\n",
      "|        194|     Samuel|     McCain| SMCCAIN|      650.501.3876|2006-07-01|  SH_CLERK|  3200|          null|       123|           50|\n",
      "|        196|      Alana|      Walsh|  AWALSH|      650.507.9811|2006-04-24|  SH_CLERK|  3100|          null|       124|           50|\n",
      "|        197|      Kevin|     Feeney| KFEENEY|      650.507.9822|2006-05-23|  SH_CLERK|  3000|          null|       124|           50|\n",
      "+-----------+-----------+-----------+--------+------------------+----------+----------+------+--------------+----------+-------------+\n",
      "\n"
     ]
    }
   ],
   "source": [
    "# 2006-02-05부터 2006-11-15사이에 고용된 사원 조회\n",
    "emp.filter((emp['HIRE_DATE'] >= '2006-02-05') & (emp['HIRE_DATE'] <= '2006-11-15')).show()"
   ]
  },
  {
   "cell_type": "code",
   "execution_count": 93,
   "id": "f2d9c1d3-553f-4889-b463-a591fb0284cf",
   "metadata": {},
   "outputs": [
    {
     "name": "stdout",
     "output_type": "stream",
     "text": [
      "+-------------+\n",
      "|DEPARTMENT_ID|\n",
      "+-------------+\n",
      "|           60|\n",
      "|          100|\n",
      "|           30|\n",
      "|           50|\n",
      "|           50|\n",
      "+-------------+\n",
      "only showing top 5 rows\n",
      "\n"
     ]
    }
   ],
   "source": [
    "# 2006-02-05부터 2006-11-15사이에 고용된 사원들의 부서번호 조회\n",
    "emp.filter((emp['HIRE_DATE'] >= '2006-02-05') & (emp['HIRE_DATE'] <= '2006-11-15')).select(['DEPARTMENT_ID']).show(5)"
   ]
  },
  {
   "cell_type": "code",
   "execution_count": 94,
   "id": "07e66fc7-70c7-4545-a2aa-913b19c77ad9",
   "metadata": {
    "tags": []
   },
   "outputs": [
    {
     "name": "stdout",
     "output_type": "stream",
     "text": [
      "+-----------+----------+---------+--------+------------+----------+-------+------+--------------+----------+-------------+\n",
      "|EMPLOYEE_ID|FIRST_NAME|LAST_NAME|   EMAIL|PHONE_NUMBER| HIRE_DATE| JOB_ID|SALARY|COMMISSION_PCT|MANAGER_ID|DEPARTMENT_ID|\n",
      "+-----------+----------+---------+--------+------------+----------+-------+------+--------------+----------+-------------+\n",
      "|        103| Alexander|   Hunold| AHUNOLD|590.423.4567|2006-01-03|IT_PROG|  9000|          null|       102|           60|\n",
      "|        104|     Bruce|    Ernst|  BERNST|590.423.4568|2007-05-21|IT_PROG|  6000|          null|       103|           60|\n",
      "|        105|     David|   Austin| DAUSTIN|590.423.4569|2005-06-25|IT_PROG|  4800|          null|       103|           60|\n",
      "|        106|     Valli|Pataballa|VPATABAL|590.423.4560|2006-02-05|IT_PROG|  4800|          null|       103|           60|\n",
      "|        107|     Diana|  Lorentz|DLORENTZ|590.423.5567|2007-02-07|IT_PROG|  4200|          null|       103|           60|\n",
      "+-----------+----------+---------+--------+------------+----------+-------+------+--------------+----------+-------------+\n",
      "\n"
     ]
    },
    {
     "data": {
      "text/plain": [
       "5"
      ]
     },
     "execution_count": 94,
     "metadata": {},
     "output_type": "execute_result"
    }
   ],
   "source": [
    "# 직책이 IP-PROG인 사원수를 조회\n",
    "emp.filter(emp['JOB_ID'] == 'IT_PROG').show()\n",
    "emp.filter(emp['JOB_ID'] == 'IT_PROG').count()"
   ]
  },
  {
   "cell_type": "code",
   "execution_count": 96,
   "id": "8ca5981d-a411-4622-9a4b-393761dc6adb",
   "metadata": {},
   "outputs": [
    {
     "name": "stdout",
     "output_type": "stream",
     "text": [
      "+-------------+-----+\n",
      "|DEPARTMENT_ID|count|\n",
      "+-------------+-----+\n",
      "|         null|    1|\n",
      "|           20|    2|\n",
      "|           40|    1|\n",
      "|          100|    6|\n",
      "|           10|    1|\n",
      "|           50|   45|\n",
      "|           80|   34|\n",
      "|           70|    1|\n",
      "|           90|    3|\n",
      "|           60|    5|\n",
      "|          110|    2|\n",
      "|           30|    6|\n",
      "+-------------+-----+\n",
      "\n"
     ]
    }
   ],
   "source": [
    "# 부서별 사원수 조회\n",
    "# groupBy(집계대상칼럼).집계함수\n",
    "emp.groupBy('DEPARTMENT_ID').count().show()"
   ]
  },
  {
   "cell_type": "code",
   "execution_count": 97,
   "id": "1bf55ab2-1daf-420c-bddf-bc81c0d3c259",
   "metadata": {},
   "outputs": [
    {
     "name": "stdout",
     "output_type": "stream",
     "text": [
      "+----------+-----+\n",
      "|    JOB_ID|count|\n",
      "+----------+-----+\n",
      "|FI_ACCOUNT|    5|\n",
      "|    MK_MAN|    1|\n",
      "|   IT_PROG|    5|\n",
      "|    FI_MGR|    1|\n",
      "|AC_ACCOUNT|    1|\n",
      "|    HR_REP|    1|\n",
      "|  PU_CLERK|    5|\n",
      "|    AC_MGR|    1|\n",
      "|    PR_REP|    1|\n",
      "|    ST_MAN|    5|\n",
      "|    MK_REP|    1|\n",
      "|    SA_REP|   30|\n",
      "|    SA_MAN|    5|\n",
      "|    PU_MAN|    1|\n",
      "|  SH_CLERK|   20|\n",
      "|   AD_PRES|    1|\n",
      "|  ST_CLERK|   20|\n",
      "|   AD_ASST|    1|\n",
      "|     AD_VP|    2|\n",
      "+----------+-----+\n",
      "\n"
     ]
    }
   ],
   "source": [
    "# 직책별 사원수 조회\n",
    "emp.groupBy('JOB_ID').count().show()"
   ]
  },
  {
   "cell_type": "code",
   "execution_count": 101,
   "id": "e540634b-2d5a-48bc-93db-72f4df97e22b",
   "metadata": {},
   "outputs": [
    {
     "name": "stdout",
     "output_type": "stream",
     "text": [
      "+-------------+-----+\n",
      "|DEPARTMENT_ID|count|\n",
      "+-------------+-----+\n",
      "|         null|    1|\n",
      "|           10|    1|\n",
      "|           20|    2|\n",
      "|           30|    6|\n",
      "|           40|    1|\n",
      "|           50|   45|\n",
      "|           60|    5|\n",
      "|           70|    1|\n",
      "|           80|   34|\n",
      "|           90|    3|\n",
      "|          100|    6|\n",
      "|          110|    2|\n",
      "+-------------+-----+\n",
      "\n"
     ]
    }
   ],
   "source": [
    "# 부서별 사원수 조회후 부서번호 순으로 정렬\n",
    "emp.groupBy('DEPARTMENT_ID').count()\\\n",
    ".orderBy('DEPARTMENT_ID').show()"
   ]
  },
  {
   "cell_type": "code",
   "execution_count": 102,
   "id": "c7bbad99-f04d-4059-b533-f1efe138c978",
   "metadata": {},
   "outputs": [
    {
     "name": "stdout",
     "output_type": "stream",
     "text": [
      "+----------+-----+\n",
      "|    JOB_ID|count|\n",
      "+----------+-----+\n",
      "|AC_ACCOUNT|    1|\n",
      "|    AC_MGR|    1|\n",
      "|   AD_ASST|    1|\n",
      "|   AD_PRES|    1|\n",
      "|     AD_VP|    2|\n",
      "|FI_ACCOUNT|    5|\n",
      "|    FI_MGR|    1|\n",
      "|    HR_REP|    1|\n",
      "|   IT_PROG|    5|\n",
      "|    MK_MAN|    1|\n",
      "|    MK_REP|    1|\n",
      "|    PR_REP|    1|\n",
      "|  PU_CLERK|    5|\n",
      "|    PU_MAN|    1|\n",
      "|    SA_MAN|    5|\n",
      "|    SA_REP|   30|\n",
      "|  SH_CLERK|   20|\n",
      "|  ST_CLERK|   20|\n",
      "|    ST_MAN|    5|\n",
      "+----------+-----+\n",
      "\n"
     ]
    }
   ],
   "source": [
    "# 직책별 사원수 조회후 직책 순으로 정렬\n",
    "emp.groupBy('JOB_ID').count()\\\n",
    ".orderBy('JOB_ID').show()"
   ]
  },
  {
   "cell_type": "code",
   "execution_count": 104,
   "id": "2f040267-6743-4a6e-ad6e-46ceadc929b1",
   "metadata": {},
   "outputs": [
    {
     "name": "stdout",
     "output_type": "stream",
     "text": [
      "+----------+-----+\n",
      "|    JOB_ID|count|\n",
      "+----------+-----+\n",
      "|    FI_MGR|    1|\n",
      "|    MK_MAN|    1|\n",
      "|   AD_ASST|    1|\n",
      "|    AC_MGR|    1|\n",
      "|    PR_REP|    1|\n",
      "|AC_ACCOUNT|    1|\n",
      "|    MK_REP|    1|\n",
      "|    PU_MAN|    1|\n",
      "|    HR_REP|    1|\n",
      "|   AD_PRES|    1|\n",
      "|     AD_VP|    2|\n",
      "|   IT_PROG|    5|\n",
      "|  PU_CLERK|    5|\n",
      "|FI_ACCOUNT|    5|\n",
      "|    ST_MAN|    5|\n",
      "|    SA_MAN|    5|\n",
      "|  SH_CLERK|   20|\n",
      "|  ST_CLERK|   20|\n",
      "|    SA_REP|   30|\n",
      "+----------+-----+\n",
      "\n",
      "+----------+-----+\n",
      "|    JOB_ID|count|\n",
      "+----------+-----+\n",
      "|    SA_REP|   30|\n",
      "|  SH_CLERK|   20|\n",
      "|  ST_CLERK|   20|\n",
      "|FI_ACCOUNT|    5|\n",
      "|  PU_CLERK|    5|\n",
      "|    ST_MAN|    5|\n",
      "|   IT_PROG|    5|\n",
      "|    SA_MAN|    5|\n",
      "|     AD_VP|    2|\n",
      "|    MK_MAN|    1|\n",
      "|    FI_MGR|    1|\n",
      "|AC_ACCOUNT|    1|\n",
      "|    MK_REP|    1|\n",
      "|    HR_REP|    1|\n",
      "|    AC_MGR|    1|\n",
      "|    PU_MAN|    1|\n",
      "|   AD_PRES|    1|\n",
      "|    PR_REP|    1|\n",
      "|   AD_ASST|    1|\n",
      "+----------+-----+\n",
      "\n"
     ]
    }
   ],
   "source": [
    "# 직책별 사원수 조회후 사원수를 기준으로 내림차순으로 정렬\n",
    "emp.groupBy('JOB_ID').count().orderBy('count').show()\n",
    "# 직책별 사원수 조회후 사원수를 기준으로 오름차순으로 정렬\n",
    "emp.groupBy('JOB_ID').count().orderBy('count', ascending=False).show()"
   ]
  },
  {
   "cell_type": "markdown",
   "id": "9e4b1658-d959-4492-b77e-f39d70e365c3",
   "metadata": {},
   "source": [
    "## 집계함수 사용하기\n",
    "* agg(집계함수명)"
   ]
  },
  {
   "cell_type": "code",
   "execution_count": 106,
   "id": "9ead042b-1535-4547-bbe6-98ea19eb07b9",
   "metadata": {},
   "outputs": [],
   "source": [
    "import pyspark.sql.functions as F"
   ]
  },
  {
   "cell_type": "code",
   "execution_count": 110,
   "id": "05afb668-ef05-45ed-91d7-96917ff2dbcb",
   "metadata": {},
   "outputs": [
    {
     "name": "stdout",
     "output_type": "stream",
     "text": [
      "+----------+-----------+\n",
      "|    JOB_ID|avg(SALARY)|\n",
      "+----------+-----------+\n",
      "|   AD_PRES|    24000.0|\n",
      "|     AD_VP|    17000.0|\n",
      "|    MK_MAN|    13000.0|\n",
      "|    SA_MAN|    12200.0|\n",
      "|    FI_MGR|    12008.0|\n",
      "|    AC_MGR|    12008.0|\n",
      "|    PU_MAN|    11000.0|\n",
      "|    PR_REP|    10000.0|\n",
      "|    SA_REP|     8350.0|\n",
      "|AC_ACCOUNT|     8300.0|\n",
      "|FI_ACCOUNT|     7920.0|\n",
      "|    ST_MAN|     7280.0|\n",
      "|    HR_REP|     6500.0|\n",
      "|    MK_REP|     6000.0|\n",
      "|   IT_PROG|     5760.0|\n",
      "|   AD_ASST|     4400.0|\n",
      "|  SH_CLERK|     3215.0|\n",
      "|  ST_CLERK|     2785.0|\n",
      "|  PU_CLERK|     2780.0|\n",
      "+----------+-----------+\n",
      "\n"
     ]
    }
   ],
   "source": [
    "# 직책별 평균 급여를 조회해서 내림차순으로 정렬\n",
    "# 단, '평균급여' 컬럼의 이름에 함수명이 포함되어 출력\n",
    "emp.groupby('JOB_ID').agg(F.avg('SALARY'))\\\n",
    ".orderBy('avg(SALARY)', ascending=False).show()"
   ]
  },
  {
   "cell_type": "code",
   "execution_count": 115,
   "id": "80803dde-ca68-43bb-87cb-bae5ff7502f9",
   "metadata": {},
   "outputs": [
    {
     "name": "stdout",
     "output_type": "stream",
     "text": [
      "+----------+--------+\n",
      "|    JOB_ID|mean sal|\n",
      "+----------+--------+\n",
      "|   AD_PRES| 24000.0|\n",
      "|     AD_VP| 17000.0|\n",
      "|    MK_MAN| 13000.0|\n",
      "|    SA_MAN| 12200.0|\n",
      "|    FI_MGR| 12008.0|\n",
      "|    AC_MGR| 12008.0|\n",
      "|    PU_MAN| 11000.0|\n",
      "|    PR_REP| 10000.0|\n",
      "|    SA_REP|  8350.0|\n",
      "|AC_ACCOUNT|  8300.0|\n",
      "|FI_ACCOUNT|  7920.0|\n",
      "|    ST_MAN|  7280.0|\n",
      "|    HR_REP|  6500.0|\n",
      "|    MK_REP|  6000.0|\n",
      "|   IT_PROG|  5760.0|\n",
      "|   AD_ASST|  4400.0|\n",
      "|  SH_CLERK|  3215.0|\n",
      "|  ST_CLERK|  2785.0|\n",
      "|  PU_CLERK|  2780.0|\n",
      "+----------+--------+\n",
      "\n"
     ]
    }
   ],
   "source": [
    "# 직책별 평균 급여를 조회해서 내림차순으로 정렬 (별칭부여:alias)\n",
    "emp.groupby('JOB_ID').agg(F.avg('SALARY').alias('mean sal'))\\\n",
    ".orderBy('mean sal', ascending=False).show()"
   ]
  },
  {
   "cell_type": "code",
   "execution_count": 123,
   "id": "9ef6c15e-92a2-431d-9e6f-b509a19ecf93",
   "metadata": {},
   "outputs": [
    {
     "name": "stdout",
     "output_type": "stream",
     "text": [
      "+----------+\n",
      "|    JOB_ID|\n",
      "+----------+\n",
      "|FI_ACCOUNT|\n",
      "|    MK_MAN|\n",
      "|   IT_PROG|\n",
      "|    FI_MGR|\n",
      "|AC_ACCOUNT|\n",
      "|    HR_REP|\n",
      "|  PU_CLERK|\n",
      "|    AC_MGR|\n",
      "|    PR_REP|\n",
      "|    ST_MAN|\n",
      "|    MK_REP|\n",
      "|    SA_REP|\n",
      "|    SA_MAN|\n",
      "|    PU_MAN|\n",
      "|  SH_CLERK|\n",
      "|   AD_PRES|\n",
      "|  ST_CLERK|\n",
      "|   AD_ASST|\n",
      "|     AD_VP|\n",
      "+----------+\n",
      "\n"
     ]
    }
   ],
   "source": [
    "# 사원들의 직책을 모두 출력하세요, \n",
    "# 단 중복없이 하나씩만 표시되도록 합니다 (distinct)\n",
    "emp.select('JOB_ID').distinct().show()"
   ]
  },
  {
   "cell_type": "code",
   "execution_count": 125,
   "id": "ff870d0b-0f92-4024-9f00-267262110b40",
   "metadata": {},
   "outputs": [
    {
     "data": {
      "text/plain": [
       "19"
      ]
     },
     "execution_count": 125,
     "metadata": {},
     "output_type": "execute_result"
    }
   ],
   "source": [
    "# 모든 직책 수는? (중복제외하고 카운팅)\n",
    "emp.select('JOB_ID').distinct().count()"
   ]
  },
  {
   "cell_type": "code",
   "execution_count": 153,
   "id": "1561d00d-2bd1-4565-89b3-30c8114499a7",
   "metadata": {},
   "outputs": [
    {
     "name": "stdout",
     "output_type": "stream",
     "text": [
      "+----------+-------+------+--------+\n",
      "|FIRST_NAME| JOB_ID|SALARY|105% sal|\n",
      "+----------+-------+------+--------+\n",
      "|    Steven|AD_PRES| 24000| 25200.0|\n",
      "|     Neena|  AD_VP| 17000| 17850.0|\n",
      "|       Lex|  AD_VP| 17000| 17850.0|\n",
      "| Alexander|IT_PROG|  9000|  9450.0|\n",
      "|     Bruce|IT_PROG|  6000|  6300.0|\n",
      "+----------+-------+------+--------+\n",
      "only showing top 5 rows\n",
      "\n"
     ]
    }
   ],
   "source": [
    "# 사원의 이름, 직책, 급여 출력하세요\n",
    "# 단, 5% 인상한 급여도 같이 출력합니다\n",
    "# select first_naem, job_id, salary, salary*1.05 form emp\n",
    "emp.select('FIRST_NAME', 'JOB_ID', 'SALARY', (emp.SALARY * 1.05).alias('105% sal')).show(5)"
   ]
  },
  {
   "cell_type": "code",
   "execution_count": 160,
   "id": "08091dc2-8101-40a7-9612-1f821b523e0a",
   "metadata": {},
   "outputs": [
    {
     "name": "stdout",
     "output_type": "stream",
     "text": [
      "+---------+------+\n",
      "|LAST_NAME|SALARY|\n",
      "+---------+------+\n",
      "|    Weiss|  8000|\n",
      "|    Fripp|  8200|\n",
      "| Kaufling|  7900|\n",
      "|  Vollman|  6500|\n",
      "|  Mourgos|  5800|\n",
      "|      Fay|  6000|\n",
      "+---------+------+\n",
      "\n"
     ]
    }
   ],
   "source": [
    "# 20번 또는 50번 부서에 근무하며, \n",
    "# 급여가 5000 ~ 12,000 사이인 사원들의 LAST_NAME 및 급여를 조회하세요\n",
    "# emp.filter(((emp['DEPARTMENT_ID'] == 20) | (emp['DEPARTMENT_ID'] == 50)) & \\\n",
    "#             ((emp['SALARY'] >= 5000) & (emp['SALARY'] <= 12000)))\\\n",
    "# .select('LAST_NAME', 'SALARY').show()\n",
    "\n",
    "emp.filter((emp['DEPARTMENT_ID'] == 20) | (emp['DEPARTMENT_ID'] == 50))\\\n",
    "    .filter((emp['SALARY'] >= 5000) & (emp['SALARY'] <= 12000))\\\n",
    "    .select('LAST_NAME', 'SALARY').show()"
   ]
  }
 ],
 "metadata": {
  "kernelspec": {
   "display_name": "Python 3",
   "language": "python",
   "name": "python3"
  },
  "language_info": {
   "codemirror_mode": {
    "name": "ipython",
    "version": 3
   },
   "file_extension": ".py",
   "mimetype": "text/x-python",
   "name": "python",
   "nbconvert_exporter": "python",
   "pygments_lexer": "ipython3",
   "version": "3.8.12"
  }
 },
 "nbformat": 4,
 "nbformat_minor": 5
}
