{
 "cells": [
  {
   "cell_type": "markdown",
   "id": "b2b1e2d0-8cee-4dfc-880f-64682935d182",
   "metadata": {
    "tags": []
   },
   "source": [
    "### SparkSQL\n",
    "+ 스파크 데이터프레임에 저장된 데이터들을 SQL 문법을 이용해서\n",
    "탐색할 수 있도록 해 줌\n",
    "+ spark.sql() 함수 사용\n",
    "+ OLTP 보다는 OLAP 처리에 적합"
   ]
  },
  {
   "cell_type": "code",
   "execution_count": 1,
   "id": "df23fdad-718b-471b-a22a-d76a48fd44a7",
   "metadata": {},
   "outputs": [
    {
     "data": {
      "text/html": [
       "\n",
       "        <div>\n",
       "            <p><b>SparkContext</b></p>\n",
       "\n",
       "            <p><a href=\"http://hadoop:4041\">Spark UI</a></p>\n",
       "\n",
       "            <dl>\n",
       "              <dt>Version</dt>\n",
       "                <dd><code>v3.2.1</code></dd>\n",
       "              <dt>Master</dt>\n",
       "                <dd><code>local[*]</code></dd>\n",
       "              <dt>AppName</dt>\n",
       "                <dd><code>PySparkShell</code></dd>\n",
       "            </dl>\n",
       "        </div>\n",
       "        "
      ],
      "text/plain": [
       "<SparkContext master=local[*] appName=PySparkShell>"
      ]
     },
     "execution_count": 1,
     "metadata": {},
     "output_type": "execute_result"
    }
   ],
   "source": [
    "sc"
   ]
  },
  {
   "cell_type": "code",
   "execution_count": 3,
   "id": "2e409975-b139-4578-8eb6-ebeafc6434b2",
   "metadata": {},
   "outputs": [],
   "source": [
    "# sparkSQL를 위한 스파크 세션 생성\n",
    "spark = SparkSession.builder.master('app').appName('sparkSQL').getOrCreate()"
   ]
  },
  {
   "cell_type": "code",
   "execution_count": 13,
   "id": "129697ae-4683-4dae-965d-24b0ba4db7ac",
   "metadata": {},
   "outputs": [],
   "source": [
    "emp = spark.read.csv('EMPLOYEES.csv', header=True, inferSchema=True)\n",
    "EMP = emp.createOrReplaceTempView('emp')"
   ]
  },
  {
   "cell_type": "code",
   "execution_count": 22,
   "id": "56badaf0-32cd-4f9e-94a8-fbc50d33ac1c",
   "metadata": {},
   "outputs": [
    {
     "name": "stdout",
     "output_type": "stream",
     "text": [
      "+-----------+----------+---------+--------+------------+----------+-------+------+--------------+----------+-------------+\n",
      "|EMPLOYEE_ID|FIRST_NAME|LAST_NAME|   EMAIL|PHONE_NUMBER| HIRE_DATE| JOB_ID|SALARY|COMMISSION_PCT|MANAGER_ID|DEPARTMENT_ID|\n",
      "+-----------+----------+---------+--------+------------+----------+-------+------+--------------+----------+-------------+\n",
      "|        100|    Steven|     King|   SKING|515.123.4567|2003-06-17|AD_PRES| 24000|          null|      null|           90|\n",
      "|        101|     Neena|  Kochhar|NKOCHHAR|515.123.4568|2005-09-21|  AD_VP| 17000|          null|       100|           90|\n",
      "|        102|       Lex|  De Haan| LDEHAAN|515.123.4569|2001-01-13|  AD_VP| 17000|          null|       100|           90|\n",
      "|        103| Alexander|   Hunold| AHUNOLD|590.423.4567|2006-01-03|IT_PROG|  9000|          null|       102|           60|\n",
      "|        104|     Bruce|    Ernst|  BERNST|590.423.4568|2007-05-21|IT_PROG|  6000|          null|       103|           60|\n",
      "+-----------+----------+---------+--------+------------+----------+-------+------+--------------+----------+-------------+\n",
      "only showing top 5 rows\n",
      "\n"
     ]
    }
   ],
   "source": [
    "sql = 'select * from EMP'\n",
    "spark.sql(sql).show(5)"
   ]
  },
  {
   "cell_type": "code",
   "execution_count": 15,
   "id": "705bf6be-81fc-4d7a-9e6f-bb0b06b6b32d",
   "metadata": {},
   "outputs": [],
   "source": [
    "dept = spark.read.csv('DEPARTMENTS.csv', header=True, inferSchema=True)\n",
    "DEPT = dept.createOrReplaceTempView('dept')"
   ]
  },
  {
   "cell_type": "code",
   "execution_count": 23,
   "id": "bbe665e1-b9b9-498c-8362-ce17ee2196ce",
   "metadata": {},
   "outputs": [
    {
     "name": "stdout",
     "output_type": "stream",
     "text": [
      "+-------------+---------------+----------+-----------+\n",
      "|DEPARTMENT_ID|DEPARTMENT_NAME|MANAGER_ID|LOCATION_ID|\n",
      "+-------------+---------------+----------+-----------+\n",
      "|           10| Administration|       200|       1700|\n",
      "|           20|      Marketing|       201|       1800|\n",
      "|           30|     Purchasing|       114|       1700|\n",
      "|           40|Human Resources|       203|       2400|\n",
      "|           50|       Shipping|       121|       1500|\n",
      "+-------------+---------------+----------+-----------+\n",
      "only showing top 5 rows\n",
      "\n"
     ]
    }
   ],
   "source": [
    "# 부서정보 조회\n",
    "sql = 'select * from DEPT'\n",
    "spark.sql(sql).show(5)"
   ]
  },
  {
   "cell_type": "code",
   "execution_count": 17,
   "id": "2b4c3018-a4df-4540-8a77-93e7d4dd29a7",
   "metadata": {},
   "outputs": [],
   "source": [
    "# 고객, 상품, 주문 객체 생성\n",
    "cust = spark.read.csv('Customers.csv', header=True, inferSchema=True)\n",
    "prod = spark.read.csv('Products.csv', header=True, inferSchema=True)\n",
    "ordr = spark.read.csv('Orders.csv', header=True, inferSchema=True)\n",
    "CUST = cust.createOrReplaceTempView('cust')\n",
    "PROD = prod.createOrReplaceTempView('prod')\n",
    "ORDR = ordr.createOrReplaceTempView('ordr')"
   ]
  },
  {
   "cell_type": "code",
   "execution_count": 19,
   "id": "0d83ce6c-bc92-484f-935d-a2756c6f5f19",
   "metadata": {},
   "outputs": [
    {
     "name": "stdout",
     "output_type": "stream",
     "text": [
      "+------+------+----+------+------+-----+\n",
      "|userid|  name| age| grade|   job|coins|\n",
      "+------+------+----+------+------+-----+\n",
      "| apple|정소화|  20|  gold|  학생| 1000|\n",
      "|banana|김선우|  25|   vip|간호사| 2500|\n",
      "|carrot|고명석|  28|  gold|  교사| 4500|\n",
      "| melon|성원용|  35|  gold|회사원| 5000|\n",
      "|orange|김용욱|  22|silver|  학생|    0|\n",
      "| peach|오형준|null|silver|  의사|  300|\n",
      "|  pear|채광주|  31|silver|회사원|  500|\n",
      "+------+------+----+------+------+-----+\n",
      "\n"
     ]
    }
   ],
   "source": [
    "sql = 'select * from cust'\n",
    "spark.sql(sql).show()"
   ]
  },
  {
   "cell_type": "code",
   "execution_count": 20,
   "id": "6d77f492-df13-42f9-bad8-af06467c145b",
   "metadata": {},
   "outputs": [
    {
     "name": "stdout",
     "output_type": "stream",
     "text": [
      "+------+----------+-----+-----+--------+\n",
      "|prodid|  prodname|stock|price|   maker|\n",
      "+------+----------+-----+-----+--------+\n",
      "|   p01|  그냥만두| 5000| 4500|대한식품|\n",
      "|   p02|  매운쫄면| 2500| 5500|민국푸드|\n",
      "|   p03|  쿵떡파이| 3600| 2600|한빛제과|\n",
      "|   p04|맛난초콜렛| 1250| 2500|한빛제과|\n",
      "|   p05|  얼큰라면| 2200| 1200|대한식품|\n",
      "|   p06|  통통우동| 1000| 1550|민국푸드|\n",
      "|   p07|달콤비스켓| 1650| 1500|한빛제과|\n",
      "+------+----------+-----+-----+--------+\n",
      "\n"
     ]
    }
   ],
   "source": [
    "sql = 'select * from prod'\n",
    "spark.sql(sql).show()"
   ]
  },
  {
   "cell_type": "code",
   "execution_count": 24,
   "id": "bbd6f668-3052-4fda-9d1f-a702d1f1df37",
   "metadata": {},
   "outputs": [
    {
     "name": "stdout",
     "output_type": "stream",
     "text": [
      "+-------+------+------+------+---------------+----------+\n",
      "|orderid|userid|prodid|amount|           addr|   orddate|\n",
      "+-------+------+------+------+---------------+----------+\n",
      "|    o01| apple|   p03|    10|  서울시 마포구|2013-01-01|\n",
      "|    o02| melon|   p01|     5|  인천시 계양구|2013-01-10|\n",
      "|    o03|banana|   p06|    45|  경기도 부천시|2013-01-11|\n",
      "|    o04|carrot|   p02|     8|  부산시 금정구|2013-02-01|\n",
      "|    o05| melon|   p06|    36|  경기도 용인시|2013-02-20|\n",
      "|    o06|banana|   p01|    19|충청북도 보은군|2013-03-02|\n",
      "|    o07| apple|   p03|    22|서울시 영등포구|2013-03-15|\n",
      "|    o08|  pear|   p02|    50|  강원도 춘천시|2013-04-10|\n",
      "|    o09|banana|   p04|    15|전라남도 목포시|2013-04-11|\n",
      "|    o10|carrot|   p03|    20|  경기도 안양시|2013-05-22|\n",
      "+-------+------+------+------+---------------+----------+\n",
      "\n"
     ]
    }
   ],
   "source": [
    "sql = 'select * from ORDR'\n",
    "spark.sql(sql).show()"
   ]
  },
  {
   "cell_type": "code",
   "execution_count": 25,
   "id": "6316293e-24b6-4cbd-89fb-43bba5b9723a",
   "metadata": {},
   "outputs": [],
   "source": [
    "seoul = spark.read.csv('seoul_food.csv', header=True, inferSchema=True)\n",
    "covid = spark.read.csv('covid19.csv', header=True, inferSchema=True)\n",
    "summer = spark.read.csv('summermedals.csv', header=True, inferSchema=True)\n",
    "titanic = spark.read.csv('titanic.csv', header=True, inferSchema=True)\n",
    "SEOUL = seoul.createOrReplaceTempView('seoul')\n",
    "COVID = covid.createOrReplaceTempView('covid')\n",
    "SUMMER = summer.createOrReplaceTempView('summer')\n",
    "TITANIC = titanic.createOrReplaceTempView('titanic')"
   ]
  },
  {
   "cell_type": "code",
   "execution_count": 47,
   "id": "97f59b38-7f06-4208-b9ff-e211c3e3a4f4",
   "metadata": {},
   "outputs": [
    {
     "name": "stdout",
     "output_type": "stream",
     "text": [
      "+---+----------------+--------------------+----------+--------------+------------+----------+----------------+--------------+----------+------------+------------+----------+--------+----------+--------------+---------------------------------+---------------------------------+--------------+------------------------------------+--------------+--------------+--------------------+---------------+----------------+----------------+----------+------------+------------+----------------+----------+--------------+------+------------+------------------+------------------+------------------+--------------+------+------+----------------+----------+----------------+----------------+--------+--------+----+------+------------------+-----------------+\n",
      "|_c0|개방자치단체코드|            관리번호|인허가일자|인허가취소일자|영업상태코드|영업상태명|상세영업상태코드|상세영업상태명|  폐업일자|휴업시작일자|휴업종료일자|재개업일자|전화번호|소재지면적|소재지우편번호|                         지번주소|                       도로명주소|도로명우편번호|                            사업장명|  최종수정일자|데이터갱신구분|      데이터갱신일자|     업태구분명|     좌표정보(X)|     좌표정보(Y)|위생업태명|남성종사자수|여성종사자수|영업장주변구분명|등급구분명|급수시설구분명|총인원|본사종업원수|공장사무직종업원수|공장판매직종업원수|공장생산직종업원수|건물소유구분명|보증액|월세액|다중이용업소여부|시설총규모|전통업소지정번호|전통업소주된음식|홈페이지|  지역구|open|closed|              경도|             위도|\n",
      "+---+----------------+--------------------+----------+--------------+------------+----------+----------------+--------------+----------+------------+------------+----------+--------+----------+--------------+---------------------------------+---------------------------------+--------------+------------------------------------+--------------+--------------+--------------------+---------------+----------------+----------------+----------+------------+------------+----------------+----------+--------------+------+------------+------------------+------------------+------------------+--------------+------+------+----------------+----------+----------------+----------------+--------+--------+----+------+------------------+-----------------+\n",
      "|  0|         3010000|3010000-104-2020-...|  20201229|          null|           1| 영업/정상|               1|          영업|       nan|        null|        null|      null|    null|      10.0|      100440.0|   서울특별시 중구 황학동 2545...|  서울특별시 중구 청계천로 400...|        4572.0|                 통불 이마트청계천점|20201229130352|             I|2019-11-01 21:01:...|   일반조리판매|201823.908977364|452076.818664092|      null|        null|        null|            null|      null|          null|  null|        null|              null|              null|              null|          null|  null|  null|            null|      null|            null|            null|    null|    중구|2020|   nan|127.02143375230516|37.57097824068417|\n",
      "|  1|         3070000|3070000-104-2020-...|  20200713|          null|           1| 영업/정상|               1|          영업|       nan|        null|        null|      null|    null|       6.6|      136110.0|  서울특별시 성북구 길음동 128...|  서울특별시 성북구 길음로 103...|        2714.0|                 씨유 길음푸르지오점|20200713175725|             I|2019-12-06 23:05:...|         편의점|201517.385329678|456504.561867278|      null|        null|        null|            null|      null|          null|  null|        null|              null|              null|              null|          null|  null|  null|            null|      null|            null|            null|    null|  성북구|2020|   nan|127.01797280888924|37.61087206584176|\n",
      "|  2|         3230000|3230000-104-2020-...|  20200713|          null|           1| 영업/정상|               1|          영업|       nan|        null|        null|      null|    null|    329.89|      138827.0|  서울특별시 송파구 방이동 44-...|서울특별시 송파구 위례성대로 6...|        5544.0|                            스타벅스|20200713162510|             I|2019-12-06 23:05:...|         커피숍|209929.574783236|446085.121305444|      null|        null|        null|            null|      null|          null|  null|        null|              null|              null|              null|          null|  null|  null|            null|      null|            null|            null|    null|  송파구|2020|   nan| 127.1131060099409|37.51694249790115|\n",
      "|  3|         3050000|3050000-104-2020-...|  20200713|          null|           1| 영업/정상|               1|          영업|       nan|        null|        null|      null|    null|      26.0|      130850.0| 서울특별시 동대문구 전농동 38...|서울특별시 동대문구 전농로16길...|        2508.0|                        Min's coffee|20200713161446|             I|2019-12-06 23:05:...|         커피숍|205263.826418987|452869.992526477|      null|        null|        null|            null|      null|          null|  null|        null|              null|              null|              null|          null|  null|  null|            null|      null|            null|            null|    null|동대문구|2020|   nan|127.06037782928853|37.57811164352803|\n",
      "|  4|         3080000|3080000-104-2020-...|  20200713|          null|           1| 영업/정상|               1|          영업|       nan|        null|        null|      null|    null|      32.0|      142870.0|  서울특별시 강북구 수유동 413-25| 서울특별시 강북구 삼양로87길 ...|        1090.0|                            탑브릭스|20200713160435|             I|2019-12-06 23:05:...|   일반조리판매|201292.010942271|459312.320007983|      null|        null|        null|            null|      null|          null|  null|        null|              null|              null|              null|          null|  null|  null|            null|      null|            null|            null|    null|  강북구|2020|   nan|127.01542501141276|37.63616972610479|\n",
      "|  5|         3150000|3150000-104-2020-...|  20200713|          null|           1| 영업/정상|               1|          영업|       nan|        null|        null|      null|    null|     15.46|      157210.0|  서울특별시 강서구 마곡동 773...|서울특별시 강서구 마곡중앙로 7...|        7801.0|                          티오르카페|20200713153026|             I|2019-12-06 23:05:...|         커피숍|            null|            null|      null|        null|        null|            null|      null|          null|  null|        null|              null|              null|              null|          null|  null|  null|            null|      null|            null|            null|    null|  강서구|2020|   nan|127.08270519474658|37.58348649989808|\n",
      "|  6|         3060000|3060000-104-2020-...|  20200713|          null|           1| 영업/정상|               1|          영업|       nan|        null|        null|      null|    null|       3.3|      131821.0|  서울특별시 중랑구 면목동 156-23| 서울특별시 중랑구 동일로92길 ...|        2223.0|           씨유 중랑센트럴아이파크점|20200713152814|             I|2019-12-06 23:05:...|         편의점|207235.576171428|453468.014988068|      null|        null|        null|            null|      null|          null|  null|        null|              null|              null|              null|          null|  null|  null|            null|      null|            null|            null|    null|  중랑구|2020|   nan|127.12775080610196|37.50712407410568|\n",
      "|  7|         3230000|3230000-104-2020-...|  20200713|          null|           1| 영업/정상|               1|          영업|       nan|        null|        null|      null|    null|      10.0|      138856.0|    서울특별시 송파구 오금동 42-5|  서울특별시 송파구 마천로 70-...|        5659.0|                     씨유 현대행운점|20200713152800|             I|2019-12-06 23:05:...|         편의점|211225.727825341|444997.028010334|      null|        null|        null|            null|      null|          null|  null|        null|              null|              null|              null|          null|  null|  null|            null|      null|            null|            null|    null|  송파구|2020|   nan|126.91864425915416|37.47478514934704|\n",
      "|  8|         3200000|3200000-104-2020-...|  20200713|          null|           1| 영업/정상|               1|          영업|       nan|        null|        null|      null|    null|      13.2|      151878.0|  서울특별시 관악구 신림동 608-30|  서울특별시 관악구 난우길 20 ...|        8850.0|                    애견용품할인매장|20200713145734|             I|2019-12-06 23:05:...|         커피숍|192733.832896483|441403.542292229|      null|        null|        null|            null|      null|          null|  null|        null|              null|              null|              null|          null|  null|  null|            null|      null|            null|            null|    null|  관악구|2020|   nan|126.99967757364357|37.59875301680477|\n",
      "|  9|         3070000|3070000-104-2020-...|  20200713|          null|           1| 영업/정상|               1|          영업|       nan|        null|        null|      null|    null|     247.5|      136822.0|    서울특별시 성북구 성북동 8-28|서울특별시 성북구 선잠로2다길 ...|        2824.0|                          오버스토리|20200713143852|             I|2019-12-06 23:05:...|         커피숍|199901.976388039| 455159.34378238|      null|        null|        null|            null|      null|          null|  null|        null|              null|              null|              null|          null|  null|  null|            null|      null|            null|            null|    null|  성북구|2020|   nan|  126.962545777081|37.52428563144934|\n",
      "| 10|         3020000|3020000-104-2020-...|  20200713|          null|           1| 영업/정상|               1|          영업|       nan|        null|        null|      null|    null|     38.55|      140880.0| 서울특별시 용산구 한강로3가 4...|서울특별시 용산구 한강대로7길 ...|        4379.0|                                라라|20200713115733|             I|2019-12-06 23:05:...|         커피숍|196619.455823637|446894.987000322|      null|        null|        null|            null|      null|          null|  null|        null|              null|              null|              null|          null|  null|  null|            null|      null|            null|            null|    null|  용산구|2020|   nan| 126.8588456890748|37.54641594542531|\n",
      "| 11|         3150000|3150000-104-2020-...|  20200713|          null|           1| 영업/정상|               1|          영업|       nan|        null|        null|      null|    null|       3.3|      157836.0|  서울특별시 강서구 등촌동 518...|서울특별시 강서구 등촌로39마길...|        7669.0|                 미니스톱 등촌우리점|20200713115155|             I|2019-12-06 23:05:...|         편의점|187456.348037651|449360.051956909|      null|        null|        null|            null|      null|          null|  null|        null|              null|              null|              null|          null|  null|  null|            null|      null|            null|            null|    null|  강서구|2020|   nan|127.04771055487872|37.47425069534626|\n",
      "| 12|         3210000|3210000-104-2020-...|  20200713|          null|           1| 영업/정상|               1|          영업|       nan|        null|        null|      null|    null|      20.0|      137895.0|  서울특별시 서초구 양재동 288...|  서울특별시 서초구 논현로 41 ...|        6782.0|                            호키포키|20200713114636|             I|2019-12-06 23:05:...|         커피숍|204150.536257005|441342.001583349|      null|        null|        null|            null|      null|          null|  null|        null|              null|              null|              null|          null|  null|  null|            null|      null|            null|            null|    null|  서초구|2020|   nan|127.08085443196994|37.61745649574736|\n",
      "| 13|         3060000|3060000-104-2020-...|  20200713|          null|           1| 영업/정상|               1|          영업|       nan|        null|        null|      null|    null|     49.88|      131847.0|     서울특별시 중랑구 묵동 156-8| 서울특별시 중랑구 공릉로14길 ...|        2019.0|                온브레이크(On Break)|20200713114039|             I|2019-12-06 23:05:...|         커피숍|207068.917510998|457238.200826068|      null|        null|        null|            null|      null|          null|  null|        null|              null|              null|              null|          null|  null|  null|            null|      null|            null|            null|    null|  중랑구|2020|   nan| 126.9040964256739|37.53309667285568|\n",
      "| 14|         3180000|3180000-104-2020-...|  20200713|          null|           1| 영업/정상|               1|          영업|       nan|        null|        null|      null|    null|     95.74|      150809.0|서울특별시 영등포구 당산동6가 ...| 서울특별시 영등포구 양평로 20...|        7223.0|                    팔공티(당산역점)|20200713113702|             I|2019-12-06 23:05:...|기타 휴게음식점|191453.690012475|447876.657098726|      null|        null|        null|            null|      null|          null|  null|        null|              null|              null|              null|          null|  null|  null|            null|      null|            null|            null|    null|영등포구|2020|   nan| 127.1725999591529|37.55057535861122|\n",
      "| 15|         3240000|3240000-104-2020-...|  20200713|          null|           1| 영업/정상|               1|          영업|       nan|        null|        null|      null|    null|    110.88|      134837.0|     서울특별시 강동구 상일동 255|  서울특별시 강동구 상일로 39 ...|        5282.0|               배스킨라빈스 상일동점|20200713112732|             I|2019-12-06 23:05:...|     아이스크림|215182.421440458|449825.889841009|      null|        null|        null|            null|      null|          null|  null|        null|              null|              null|              null|          null|  null|  null|            null|      null|            null|            null|    null|  강동구|2020|   nan|126.89249858775447|37.52212602444467|\n",
      "| 16|         3180000|3180000-104-2020-...|  20200709|          null|           1| 영업/정상|               1|          영업|       nan|        null|        null|      null|    null|       6.6|      150040.0|  서울특별시 영등포구 당산동 32-2|                             null|          null|                 미니스톱한강양화2점|20200713165339|             U|2019-12-06 23:05:...|         편의점|190427.178880377|446660.166040492|      null|        null|        null|            null|      null|          null|  null|        null|              null|              null|              null|          null|  null|  null|            null|      null|            null|            null|    null|영등포구|2020|   nan|127.05881929973503|37.51252115496182|\n",
      "| 17|         3220000|3220000-104-2020-...|  20200707|          null|           3|      폐업|               2|          폐업|20200712.0|        null|        null|      null|    null|      null|      135731.0|  서울특별시 강남구 삼성동 159...| 서울특별시 강남구 영동대로 51...|        6164.0|빈스빈스경기도미술관점(세븐스에비뉴)|20200713041509|             U|2019-12-06 23:05:...|         커피숍|205130.591678902|445590.096837802|      null|        null|        null|            null|      null|          null|  null|        null|              null|              null|              null|          null|  null|  null|            null|      null|            null|            null|    null|  강남구|2020|  2020|126.87038302960704|37.52599304401664|\n",
      "| 18|         3140000|3140000-104-2020-...|  20200713|          null|           3|      폐업|               2|          폐업|20200904.0|        null|        null|      null|    null|      49.5|      158766.0|   서울특별시 양천구 목동 962 ...|  서울특별시 양천구 오목로 299...|        8001.0|                              뺑블랑|20200904130536|             U|2019-12-09 00:06:...|기타 휴게음식점|188472.759197224|447091.855963511|      null|        null|        null|            null|      null|          null|  null|        null|              null|              null|              null|          null|  null|  null|            null|      null|            null|            null|    null|  양천구|2020|  2020|127.12445756745625| 37.5390261720499|\n",
      "| 19|         3240000|3240000-104-2020-...|  20200603|          null|           3|      폐업|               2|          폐업|20200713.0|        null|        null|      null|    null|       6.6|      134779.0|  서울특별시 강동구 천호동 572...| 서울특별시 강동구 천호대로 10...|        5328.0|                      제주은갈치유통|20200713152718|             U|2019-12-06 23:05:...|   일반조리판매|210929.919693661|448537.406728283|      null|        null|        null|            null|      null|          null|  null|        null|              null|              null|              null|          null|  null|  null|            null|      null|            null|            null|    null|  강동구|2020|  2020| 127.0274700342024|37.52733428976068|\n",
      "+---+----------------+--------------------+----------+--------------+------------+----------+----------------+--------------+----------+------------+------------+----------+--------+----------+--------------+---------------------------------+---------------------------------+--------------+------------------------------------+--------------+--------------+--------------------+---------------+----------------+----------------+----------+------------+------------+----------------+----------+--------------+------+------------+------------------+------------------+------------------+--------------+------+------+----------------+----------+----------------+----------------+--------+--------+----+------+------------------+-----------------+\n",
      "only showing top 20 rows\n",
      "\n"
     ]
    }
   ],
   "source": [
    "sql = 'select * from seoul'\n",
    "spark.sql(sql).show()"
   ]
  },
  {
   "cell_type": "code",
   "execution_count": 28,
   "id": "326ad245-1a0f-4ed2-a485-3e25ee146c9c",
   "metadata": {},
   "outputs": [
    {
     "name": "stdout",
     "output_type": "stream",
     "text": [
      "+---+----------+--------+--------+---------+-----------+----------+---------+-------------+------------+------------+-----------------+------------+--------------------+--------------------+\n",
      "|_c0|게시글번호|  기준일|기준시간|확진자 수|격리해제 수|검사진행수|사망자 수|치료중 환자수|결과 음성 수|누적 검사 수|누적 검사 완료 수| 누적 확진률|        등록일시분초|        수정일시분초|\n",
      "+---+----------+--------+--------+---------+-----------+----------+---------+-------------+------------+------------+-----------------+------------+--------------------+--------------------+\n",
      "|  0|       651|20210930|   00:00|   311289|     274205|   1149658|     2481|        34603|    13083311|    14544258|         13394600|2.3239887715|2021-09-30 09:58:...|                null|\n",
      "|  1|       650|20210929|   00:00|   308725|     272724|   1137617|     2474|        33527|    13038918|    14485260|         13347643|2.3129551786|2021-09-29 09:58:...|                null|\n",
      "|  2|       649|20210928|   00:00|   305840|     270928|   1135394|     2464|        32448|    12984337|    14425571|         13290177|2.3012485085|2021-09-28 09:57:...|2021-09-29 19:50:...|\n",
      "|  3|       648|20210927|   00:00|   303551|     269132|   1120111|     2456|        31963|    12942271|    14365933|         13245822|2.2916735556|2021-09-27 10:08:...|2021-09-29 19:52:...|\n",
      "|  4|       647|20210926|   00:00|   301168|     268140|   1096862|     2450|        30578|    12927905|    14325935|         13229073|2.2765616305|2021-09-26 09:38:...|2021-09-29 19:54:...|\n",
      "|  5|       646|20210925|   00:00|   298399|     266411|   1056223|     2441|        29547|    12930717|    14285339|         13229116| 2.255623127|2021-09-25 10:49:...|2021-09-29 19:55:...|\n",
      "|  6|       645|20210924|   00:00|   295128|     264490|   1030500|     2434|        28204|    12896055|    14221683|         13191183|2.2373126049|2021-09-24 09:53:...|2021-09-29 19:57:...|\n",
      "|  7|       644|20210923|   00:00|   292698|     262840|   1034720|     2427|        27431|    12823651|    14151069|         13116349|2.2315508683|2021-09-23 10:01:...|2021-09-29 19:59:...|\n",
      "|  8|       643|20210922|   00:00|   290983|     261810|    997996|     2419|        26754|    12823456|    14112435|         13114439|2.2187986844|2021-09-22 09:35:...|2021-09-29 20:01:...|\n",
      "|  9|       642|20210921|   00:00|   289263|     260088|    965875|     2413|        26762|    12826146|    14081284|         13115409|2.2055202395|2021-09-21 09:39:...|2021-09-29 20:03:...|\n",
      "| 10|       641|20210920|   00:00|   287534|     259008|    953532|     2409|        26117|    12809908|    14050974|         13097442|2.1953447092|2021-09-20 09:09:...|2021-09-29 20:04:...|\n",
      "| 11|       640|20210919|   00:00|   285930|     257447|    932234|     2403|        26080|    12802334|    14020498|         13088264|2.1846289164|2021-09-19 09:31:...|2021-09-29 20:06:...|\n",
      "| 12|       639|20210918|   00:00|   284021|     256012|    917857|     2394|        25615|    12784737|    13986615|         13068758|2.1732822659|2021-09-18 09:58:...|2021-09-29 20:08:...|\n",
      "| 13|       638|20210917|   00:00|   281934|     254078|    921233|     2389|        25467|    12735788|    13938955|         13017722|2.1657706317|2021-09-17 10:15:...|2021-09-29 20:09:...|\n",
      "| 14|       637|20210916|   00:00|   279926|     252028|    920101|     2386|        25512|    12690472|    13890499|         12970398|2.1581912906|2021-09-16 09:51:...|2021-09-29 20:10:...|\n",
      "| 15|       636|20210915|   00:00|   277984|     249820|    914120|     2380|        25784|    12646983|    13839087|         12924967|2.1507521063|2021-09-15 09:51:...|2021-09-29 20:12:...|\n",
      "| 16|       635|20210914|   00:00|   275908|     247647|    914400|     2367|        25894|    12599919|    13790227|         12875827|2.1428371164|2021-09-14 09:45:...|2021-09-19 09:26:...|\n",
      "| 17|       634|20210913|   00:00|   274411|     245505|    925739|     2360|        26546|    12535589|    13735739|         12810000|2.1421623731|2021-09-13 09:40:...|2021-09-19 09:26:...|\n",
      "| 18|       633|20210912|   00:00|   272978|     244459|    910419|     2359|        26160|    12520775|    13704172|         12793753|2.1336819618|2021-09-12 09:35:...|2021-09-19 09:26:...|\n",
      "| 19|       632|20210911|   00:00|   271223|     242960|    895077|     2358|        25905|    12499159|    13665459|         12770382|2.1238440635|2021-09-11 09:42:...|2021-09-19 09:26:...|\n",
      "+---+----------+--------+--------+---------+-----------+----------+---------+-------------+------------+------------+-----------------+------------+--------------------+--------------------+\n",
      "only showing top 20 rows\n",
      "\n"
     ]
    }
   ],
   "source": [
    "sql = 'select * from covid'\n",
    "spark.sql(sql).show()"
   ]
  },
  {
   "cell_type": "code",
   "execution_count": 29,
   "id": "049bcd77-e05f-4798-a6e1-1fea83539d2d",
   "metadata": {},
   "outputs": [
    {
     "name": "stdout",
     "output_type": "stream",
     "text": [
      "+----+------+---------+----------+--------------------+-------+------+--------------------+------+\n",
      "|Year|  City|    Sport|Discipline|             Athlete|Country|Gender|               Event| Medal|\n",
      "+----+------+---------+----------+--------------------+-------+------+--------------------+------+\n",
      "|1896|Athens| Aquatics|  Swimming|       HAJOS, Alfred|    HUN|   Men|      100M Freestyle|  Gold|\n",
      "|1896|Athens| Aquatics|  Swimming|    HERSCHMANN, Otto|    AUT|   Men|      100M Freestyle|Silver|\n",
      "|1896|Athens| Aquatics|  Swimming|   DRIVAS, Dimitrios|    GRE|   Men|100M Freestyle Fo...|Bronze|\n",
      "|1896|Athens| Aquatics|  Swimming|  MALOKINIS, Ioannis|    GRE|   Men|100M Freestyle Fo...|  Gold|\n",
      "|1896|Athens| Aquatics|  Swimming|  CHASAPIS, Spiridon|    GRE|   Men|100M Freestyle Fo...|Silver|\n",
      "|1896|Athens| Aquatics|  Swimming|CHOROPHAS, Efstat...|    GRE|   Men|     1200M Freestyle|Bronze|\n",
      "|1896|Athens| Aquatics|  Swimming|       HAJOS, Alfred|    HUN|   Men|     1200M Freestyle|  Gold|\n",
      "|1896|Athens| Aquatics|  Swimming|    ANDREOU, Joannis|    GRE|   Men|     1200M Freestyle|Silver|\n",
      "|1896|Athens| Aquatics|  Swimming|CHOROPHAS, Efstat...|    GRE|   Men|      400M Freestyle|Bronze|\n",
      "|1896|Athens| Aquatics|  Swimming|       NEUMANN, Paul|    AUT|   Men|      400M Freestyle|  Gold|\n",
      "|1896|Athens| Aquatics|  Swimming|   PEPANOS, Antonios|    GRE|   Men|      400M Freestyle|Silver|\n",
      "|1896|Athens|Athletics| Athletics|       LANE, Francis|    USA|   Men|                100M|Bronze|\n",
      "|1896|Athens|Athletics| Athletics|    SZOKOLYI, Alajos|    HUN|   Men|                100M|Bronze|\n",
      "|1896|Athens|Athletics| Athletics|       BURKE, Thomas|    USA|   Men|                100M|  Gold|\n",
      "|1896|Athens|Athletics| Athletics|      HOFMANN, Fritz|    GER|   Men|                100M|Silver|\n",
      "|1896|Athens|Athletics| Athletics|      CURTIS, Thomas|    USA|   Men|        110M Hurdles|  Gold|\n",
      "|1896|Athens|Athletics| Athletics|  GOULDING, Grantley|    GBR|   Men|        110M Hurdles|Silver|\n",
      "|1896|Athens|Athletics| Athletics|   LERMUSIAUX, Albin|    FRA|   Men|               1500M|Bronze|\n",
      "|1896|Athens|Athletics| Athletics|        FLACK, Edwin|    AUS|   Men|               1500M|  Gold|\n",
      "|1896|Athens|Athletics| Athletics|       BLAKE, Arthur|    USA|   Men|               1500M|Silver|\n",
      "+----+------+---------+----------+--------------------+-------+------+--------------------+------+\n",
      "only showing top 20 rows\n",
      "\n"
     ]
    }
   ],
   "source": [
    "sql = 'select * from summer'\n",
    "spark.sql(sql).show()"
   ]
  },
  {
   "cell_type": "code",
   "execution_count": 30,
   "id": "4c1b680a-899e-4e3b-a52a-00ece8def0ef",
   "metadata": {},
   "outputs": [
    {
     "name": "stdout",
     "output_type": "stream",
     "text": [
      "+------+--------+--------------------+------+------+-----+-----+--------+--------+-------+--------+\n",
      "|pclass|survived|                name|   sex|   age|sibsp|parch|  ticket|    fare|  cabin|embarked|\n",
      "+------+--------+--------------------+------+------+-----+-----+--------+--------+-------+--------+\n",
      "|     1|       1|Allen, Miss. Elis...|female|  29.0|    0|    0|   24160|211.3375|     B5|       S|\n",
      "|     1|       1|Allison, Master. ...|  male|0.9167|    1|    2|  113781|  151.55|C22 C26|       S|\n",
      "|     1|       0|Allison, Miss. He...|female|   2.0|    1|    2|  113781|  151.55|C22 C26|       S|\n",
      "|     1|       0|Allison, Mr. Huds...|  male|  30.0|    1|    2|  113781|  151.55|C22 C26|       S|\n",
      "|     1|       0|Allison, Mrs. Hud...|female|  25.0|    1|    2|  113781|  151.55|C22 C26|       S|\n",
      "|     1|       1| Anderson, Mr. Harry|  male|  48.0|    0|    0|   19952|   26.55|    E12|       S|\n",
      "|     1|       1|Andrews, Miss. Ko...|female|  63.0|    1|    0|   13502| 77.9583|     D7|       S|\n",
      "|     1|       0|Andrews, Mr. Thom...|  male|  39.0|    0|    0|  112050|     0.0|    A36|       S|\n",
      "|     1|       1|Appleton, Mrs. Ed...|female|  53.0|    2|    0|   11769| 51.4792|   C101|       S|\n",
      "|     1|       0|Artagaveytia, Mr....|  male|  71.0|    0|    0|PC 17609| 49.5042|   null|       C|\n",
      "|     1|       0|Astor, Col. John ...|  male|  47.0|    1|    0|PC 17757| 227.525|C62 C64|       C|\n",
      "|     1|       1|Astor, Mrs. John ...|female|  18.0|    1|    0|PC 17757| 227.525|C62 C64|       C|\n",
      "|     1|       1|Aubart, Mme. Leon...|female|  24.0|    0|    0|PC 17477|    69.3|    B35|       C|\n",
      "|     1|       1|\"Barber, Miss. El...|female|  26.0|    0|    0|   19877|   78.85|   null|       S|\n",
      "|     1|       1|Barkworth, Mr. Al...|  male|  80.0|    0|    0|   27042|    30.0|    A23|       S|\n",
      "|     1|       0| Baumann, Mr. John D|  male|  null|    0|    0|PC 17318|  25.925|   null|       S|\n",
      "|     1|       0|Baxter, Mr. Quigg...|  male|  24.0|    0|    1|PC 17558|247.5208|B58 B60|       C|\n",
      "|     1|       1|Baxter, Mrs. Jame...|female|  50.0|    0|    1|PC 17558|247.5208|B58 B60|       C|\n",
      "|     1|       1|Bazzani, Miss. Al...|female|  32.0|    0|    0|   11813| 76.2917|    D15|       C|\n",
      "|     1|       0|Beattie, Mr. Thomson|  male|  36.0|    0|    0|   13050| 75.2417|     C6|       C|\n",
      "+------+--------+--------------------+------+------+-----+-----+--------+--------+-------+--------+\n",
      "only showing top 20 rows\n",
      "\n"
     ]
    }
   ],
   "source": [
    "sql = 'select * from titanic'\n",
    "spark.sql(sql).show()"
   ]
  },
  {
   "cell_type": "code",
   "execution_count": 67,
   "id": "618415b2-75ec-432f-9c86-655f5a0a678b",
   "metadata": {
    "tags": []
   },
   "outputs": [
    {
     "name": "stdout",
     "output_type": "stream",
     "text": [
      "+-------+------+\n",
      "|COUNTRY|Medals|\n",
      "+-------+------+\n",
      "|    USA|  2235|\n",
      "|    URS|   838|\n",
      "|    GBR|   546|\n",
      "|    ITA|   476|\n",
      "|    GER|   452|\n",
      "+-------+------+\n",
      "only showing top 5 rows\n",
      "\n"
     ]
    }
   ],
   "source": [
    "# summermedals 국가별 메달(금/은/동) 취득수\n",
    "sql = \"\"\"select COUNTRY ,count(MEDAL) Medals from SUMMER \n",
    "         where Medal = \"Gold\" group by country \n",
    "         order by Medals desc\"\"\"\n",
    "spark.sql(sql).show(5)"
   ]
  },
  {
   "cell_type": "code",
   "execution_count": 99,
   "id": "fa8504e1-fb82-4e49-b2e7-d9f60392b8f1",
   "metadata": {},
   "outputs": [
    {
     "name": "stdout",
     "output_type": "stream",
     "text": [
      "+------+----------+\n",
      "|   sex|count(sex)|\n",
      "+------+----------+\n",
      "|female|       466|\n",
      "|  male|       843|\n",
      "+------+----------+\n",
      "\n"
     ]
    }
   ],
   "source": [
    "# 타이타닉 남여 현황\n",
    "sql = 'select sex ,count(sex) from TITANIC group by sex'\n",
    "spark.sql(sql).show()"
   ]
  },
  {
   "cell_type": "code",
   "execution_count": 83,
   "id": "af760e9e-335b-44ad-9955-efec6d594653",
   "metadata": {},
   "outputs": [
    {
     "name": "stdout",
     "output_type": "stream",
     "text": [
      "+------+--------+---+\n",
      "|   sex|survived|cnt|\n",
      "+------+--------+---+\n",
      "|female|       0|127|\n",
      "|  male|       0|682|\n",
      "|female|       1|339|\n",
      "|  male|       1|161|\n",
      "+------+--------+---+\n",
      "\n"
     ]
    }
   ],
   "source": [
    "# 성별 생존 / 사망여부\n",
    "sql = \"\"\"select sex, survived, count(survived) cnt from TITANIC \n",
    "         group by sex, survived \n",
    "         order by survived, sex\"\"\"\n",
    "spark.sql(sql).show()"
   ]
  },
  {
   "cell_type": "code",
   "execution_count": 84,
   "id": "4cb43f7c-f6ae-4857-9f68-196a8ed98839",
   "metadata": {},
   "outputs": [
    {
     "name": "stdout",
     "output_type": "stream",
     "text": [
      "+--------+---+\n",
      "|embarked|cnt|\n",
      "+--------+---+\n",
      "|    null|  0|\n",
      "|       C|270|\n",
      "|       Q|123|\n",
      "|       S|914|\n",
      "+--------+---+\n",
      "\n"
     ]
    }
   ],
   "source": [
    "# 승선위치 확인\n",
    "sql = \"\"\"select embarked, count(embarked) cnt from TITANIC \n",
    "         group by embarked\n",
    "         order by embarked\"\"\"\n",
    "spark.sql(sql).show()"
   ]
  },
  {
   "cell_type": "code",
   "execution_count": 88,
   "id": "8f4abdde-528c-4662-bcfc-58a50e578425",
   "metadata": {},
   "outputs": [
    {
     "name": "stdout",
     "output_type": "stream",
     "text": [
      "+--------+--------+---+\n",
      "|embarked|survived|cnt|\n",
      "+--------+--------+---+\n",
      "|       C|       0|120|\n",
      "|       C|       1|150|\n",
      "|       Q|       0| 79|\n",
      "|       Q|       1| 44|\n",
      "|       S|       0|610|\n",
      "|       S|       1|304|\n",
      "+--------+--------+---+\n",
      "\n"
     ]
    }
   ],
   "source": [
    "# 승선위치별 생존 / 사명\n",
    "sql = \"\"\"select embarked, survived, count(survived) cnt from TITANIC \n",
    "         where embarked is not null\n",
    "         group by embarked, survived\n",
    "         order by embarked, survived\"\"\"\n",
    "spark.sql(sql).show()"
   ]
  },
  {
   "cell_type": "code",
   "execution_count": 89,
   "id": "e0f068aa-5f88-4633-b76d-e15940ccf5bf",
   "metadata": {},
   "outputs": [
    {
     "name": "stdout",
     "output_type": "stream",
     "text": [
      "+------+---+\n",
      "|pclass|cnt|\n",
      "+------+---+\n",
      "|     1|323|\n",
      "|     2|277|\n",
      "|     3|709|\n",
      "+------+---+\n",
      "\n"
     ]
    }
   ],
   "source": [
    "# 승선좌석확인\n",
    "sql = \"\"\"select pclass, count(pclass) cnt from TITANIC \n",
    "         group by pclass\n",
    "         order by pclass\"\"\"\n",
    "spark.sql(sql).show()"
   ]
  },
  {
   "cell_type": "code",
   "execution_count": 97,
   "id": "c959bfbb-610e-44c3-a733-c8e4980ddc6a",
   "metadata": {},
   "outputs": [
    {
     "name": "stdout",
     "output_type": "stream",
     "text": [
      "+------+--------+---+\n",
      "|pclass|survived|cnt|\n",
      "+------+--------+---+\n",
      "|     1|       1|  2|\n",
      "|     1|       0| 44|\n",
      "|     1|       1| 97|\n",
      "|     1|       0|  1|\n",
      "|     1|       1|  2|\n",
      "|     1|       0| 78|\n",
      "|     1|       1| 99|\n",
      "|     2|       0| 12|\n",
      "|     2|       1| 16|\n",
      "|     2|       0|  5|\n",
      "|     2|       1|  2|\n",
      "|     2|       0|141|\n",
      "|     2|       1|101|\n",
      "|     3|       0| 64|\n",
      "|     3|       1| 37|\n",
      "|     3|       0| 73|\n",
      "|     3|       1| 40|\n",
      "|     3|       0|391|\n",
      "|     3|       1|104|\n",
      "+------+--------+---+\n",
      "\n"
     ]
    }
   ],
   "source": [
    "sql = \"\"\"select pclass, survived, count(survived) cnt from TITANIC \n",
    "         group by pclass, embarked, survived\n",
    "         order by pclass, embarked, survived\"\"\"\n",
    "spark.sql(sql).show()"
   ]
  },
  {
   "cell_type": "code",
   "execution_count": 104,
   "id": "e7be133f-8ee2-4a48-9e13-dc4eee792691",
   "metadata": {},
   "outputs": [
    {
     "name": "stdout",
     "output_type": "stream",
     "text": [
      "+--------------+\n",
      "|정상영업업체수|\n",
      "+--------------+\n",
      "|         33931|\n",
      "+--------------+\n",
      "\n"
     ]
    }
   ],
   "source": [
    "# 정상영업업체\n",
    "sql = \"\"\"select count(`영업상태명`) `정상영업업체수` from seoul \n",
    "         where `영업상태명` = '영업/정상'\n",
    "         \"\"\"\n",
    "spark.sql(sql).show()"
   ]
  },
  {
   "cell_type": "code",
   "execution_count": 107,
   "id": "3fec8062-9766-4441-8c46-0632e54acab8",
   "metadata": {},
   "outputs": [
    {
     "name": "stdout",
     "output_type": "stream",
     "text": [
      "+--------------+\n",
      "|정상영업업체수|\n",
      "+--------------+\n",
      "|          4449|\n",
      "+--------------+\n",
      "\n"
     ]
    }
   ],
   "source": [
    "# 2020년 정상영업 업체수\n",
    "sql = \"\"\"select count(`영업상태명`) `정상영업업체수` from seoul \n",
    "         where `영업상태명` = '영업/정상' and `인허가일자` like '2020%'\n",
    "         group by open having open = '2020'\n",
    "         \"\"\"\n",
    "spark.sql(sql).show()"
   ]
  },
  {
   "cell_type": "code",
   "execution_count": 121,
   "id": "fb70344c-9cc7-4c6d-b3a9-7793a845d9a1",
   "metadata": {},
   "outputs": [
    {
     "name": "stdout",
     "output_type": "stream",
     "text": [
      "+------+\n",
      "|업체수|\n",
      "+------+\n",
      "|   218|\n",
      "+------+\n",
      "\n"
     ]
    }
   ],
   "source": [
    "# 2020년 강남구 커피점 수\n",
    "sql = \"\"\"select count(`업태구분명`) `업체수` from seoul \n",
    "         where `업태구분명` ='커피숍' and `영업상태명` = '영업/정상' and `인허가일자` like '2020%' and `지역구` = '강남구'\n",
    "         \"\"\"\n",
    "spark.sql(sql).show()"
   ]
  },
  {
   "cell_type": "code",
   "execution_count": 123,
   "id": "5ef0f349-e2a4-46c3-acd1-63606f406213",
   "metadata": {},
   "outputs": [
    {
     "name": "stdout",
     "output_type": "stream",
     "text": [
      "+------+\n",
      "|업체수|\n",
      "+------+\n",
      "|   237|\n",
      "+------+\n",
      "\n"
     ]
    }
   ],
   "source": [
    "sql = \"\"\"select count(`업태구분명`) `업체수` from seoul \n",
    "         where `업태구분명` ='커피숍' and `영업상태명` = '영업/정상' and `인허가일자` like '2020%' and `지번주소` like '%강남구%'\n",
    "         \"\"\"\n",
    "spark.sql(sql).show()"
   ]
  },
  {
   "cell_type": "code",
   "execution_count": 124,
   "id": "0ccda62f-8533-4fd0-a14a-fc01deec86fd",
   "metadata": {},
   "outputs": [
    {
     "name": "stdout",
     "output_type": "stream",
     "text": [
      "+------+\n",
      "|업체수|\n",
      "+------+\n",
      "|   237|\n",
      "+------+\n",
      "\n"
     ]
    }
   ],
   "source": [
    "sql = \"\"\"select count(`업태구분명`) `업체수` from seoul \n",
    "         where `업태구분명` ='커피숍' and `영업상태명` = '영업/정상' and `인허가일자` like '2020%' and `도로명주소` like '%강남구%'\n",
    "         \"\"\"\n",
    "spark.sql(sql).show()"
   ]
  },
  {
   "cell_type": "code",
   "execution_count": null,
   "id": "f8d6972f-17df-4433-ab74-e60f5e69c562",
   "metadata": {},
   "outputs": [],
   "source": []
  },
  {
   "cell_type": "code",
   "execution_count": null,
   "id": "2f1f2371-9bc0-425f-b45e-078e7d4125b8",
   "metadata": {},
   "outputs": [],
   "source": []
  },
  {
   "cell_type": "code",
   "execution_count": null,
   "id": "a10af561-c1b7-488a-a712-c299651fa5b7",
   "metadata": {},
   "outputs": [],
   "source": []
  },
  {
   "cell_type": "code",
   "execution_count": null,
   "id": "f9e9b69c-52d2-4574-b4d6-75b1715616b8",
   "metadata": {},
   "outputs": [],
   "source": []
  }
 ],
 "metadata": {
  "kernelspec": {
   "display_name": "Python 3",
   "language": "python",
   "name": "python3"
  },
  "language_info": {
   "codemirror_mode": {
    "name": "ipython",
    "version": 3
   },
   "file_extension": ".py",
   "mimetype": "text/x-python",
   "name": "python",
   "nbconvert_exporter": "python",
   "pygments_lexer": "ipython3",
   "version": "3.8.12"
  }
 },
 "nbformat": 4,
 "nbformat_minor": 5
}
