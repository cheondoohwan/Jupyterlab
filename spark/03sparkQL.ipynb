{
 "cells": [
  {
   "cell_type": "markdown",
   "id": "cc8a3e77-6db8-45d5-a2aa-1eac03b40f4c",
   "metadata": {
    "tags": []
   },
   "source": [
    "## Join\n",
    "+ 여러 테이블을 연결해서 데이터를 검색하는 것\n",
    "+ 테이블의 결합기준은 각 테이블에 존재하는 공통 속성임\n",
    "+ 결합 유형 : inner join, outer join, self join\n",
    "+ 데이터객체명.join(조인대상, 조인조건, 조인유형)"
   ]
  },
  {
   "cell_type": "code",
   "execution_count": 5,
   "id": "1431e103-738d-4f9c-8bdf-b5239dcb6712",
   "metadata": {},
   "outputs": [],
   "source": [
    "spark = SparkSession.builder.appName(\"emp\").getOrCreate()"
   ]
  },
  {
   "cell_type": "code",
   "execution_count": 6,
   "id": "b56d2a0d-2f45-4135-b518-a4525fc63a44",
   "metadata": {},
   "outputs": [],
   "source": [
    "emp = spark.read.csv('EMPLOYEES.csv', header=True, inferSchema=True)"
   ]
  },
  {
   "cell_type": "code",
   "execution_count": 7,
   "id": "e6c39f80-f684-4fe3-ade2-dec4f36cd554",
   "metadata": {},
   "outputs": [],
   "source": [
    "dept = spark.read.csv('DEPARTMENTS.csv', header=True, inferSchema=True)"
   ]
  },
  {
   "cell_type": "markdown",
   "id": "2e9797c3-25d4-429e-9220-6049a5ff6661",
   "metadata": {},
   "source": [
    "## 내부조인 : 공통속성명이 다를 경우\n",
    "* select * from emp e inner join dept d  \n",
    "on e.DEPARTMENT_ID == d.DEPARTMENT_ID"
   ]
  },
  {
   "cell_type": "code",
   "execution_count": 9,
   "id": "8f29fb93-b3bc-49eb-aed4-9a57933cac94",
   "metadata": {},
   "outputs": [
    {
     "name": "stdout",
     "output_type": "stream",
     "text": [
      "+-----------+----------+---------+--------+------------+----------+-------+------+--------------+----------+-------------+-------------+---------------+----------+-----------+\n",
      "|EMPLOYEE_ID|FIRST_NAME|LAST_NAME|   EMAIL|PHONE_NUMBER| HIRE_DATE| JOB_ID|SALARY|COMMISSION_PCT|MANAGER_ID|DEPARTMENT_ID|DEPARTMENT_ID|DEPARTMENT_NAME|MANAGER_ID|LOCATION_ID|\n",
      "+-----------+----------+---------+--------+------------+----------+-------+------+--------------+----------+-------------+-------------+---------------+----------+-----------+\n",
      "|        100|    Steven|     King|   SKING|515.123.4567|2003-06-17|AD_PRES| 24000|          null|      null|           90|           90|      Executive|       100|       1700|\n",
      "|        101|     Neena|  Kochhar|NKOCHHAR|515.123.4568|2005-09-21|  AD_VP| 17000|          null|       100|           90|           90|      Executive|       100|       1700|\n",
      "|        102|       Lex|  De Haan| LDEHAAN|515.123.4569|2001-01-13|  AD_VP| 17000|          null|       100|           90|           90|      Executive|       100|       1700|\n",
      "|        103| Alexander|   Hunold| AHUNOLD|590.423.4567|2006-01-03|IT_PROG|  9000|          null|       102|           60|           60|             IT|       103|       1400|\n",
      "|        104|     Bruce|    Ernst|  BERNST|590.423.4568|2007-05-21|IT_PROG|  6000|          null|       103|           60|           60|             IT|       103|       1400|\n",
      "+-----------+----------+---------+--------+------------+----------+-------+------+--------------+----------+-------------+-------------+---------------+----------+-----------+\n",
      "only showing top 5 rows\n",
      "\n"
     ]
    }
   ],
   "source": [
    "join_condition = emp.DEPARTMENT_ID == dept.DEPARTMENT_ID\n",
    "empdept = emp.join(dept, join_condition, 'inner')\n",
    "empdept.show(5)"
   ]
  },
  {
   "cell_type": "markdown",
   "id": "b9ada90e-a2fc-4b0e-ba43-fe4f29d22bde",
   "metadata": {},
   "source": [
    "## 내부조인 : 공통속성명이 같을 경우\n",
    "* select * from emp e inner join dept d  \n",
    "using(DEPARTMENT_ID)"
   ]
  },
  {
   "cell_type": "code",
   "execution_count": 10,
   "id": "7cd6ea5f-8bb8-4dcc-b3e4-763a9fb99ba9",
   "metadata": {},
   "outputs": [
    {
     "name": "stdout",
     "output_type": "stream",
     "text": [
      "+-------------+-----------+----------+---------+--------+------------+----------+-------+------+--------------+----------+---------------+----------+-----------+\n",
      "|DEPARTMENT_ID|EMPLOYEE_ID|FIRST_NAME|LAST_NAME|   EMAIL|PHONE_NUMBER| HIRE_DATE| JOB_ID|SALARY|COMMISSION_PCT|MANAGER_ID|DEPARTMENT_NAME|MANAGER_ID|LOCATION_ID|\n",
      "+-------------+-----------+----------+---------+--------+------------+----------+-------+------+--------------+----------+---------------+----------+-----------+\n",
      "|           90|        100|    Steven|     King|   SKING|515.123.4567|2003-06-17|AD_PRES| 24000|          null|      null|      Executive|       100|       1700|\n",
      "|           90|        101|     Neena|  Kochhar|NKOCHHAR|515.123.4568|2005-09-21|  AD_VP| 17000|          null|       100|      Executive|       100|       1700|\n",
      "|           90|        102|       Lex|  De Haan| LDEHAAN|515.123.4569|2001-01-13|  AD_VP| 17000|          null|       100|      Executive|       100|       1700|\n",
      "|           60|        103| Alexander|   Hunold| AHUNOLD|590.423.4567|2006-01-03|IT_PROG|  9000|          null|       102|             IT|       103|       1400|\n",
      "|           60|        104|     Bruce|    Ernst|  BERNST|590.423.4568|2007-05-21|IT_PROG|  6000|          null|       103|             IT|       103|       1400|\n",
      "+-------------+-----------+----------+---------+--------+------------+----------+-------+------+--------------+----------+---------------+----------+-----------+\n",
      "only showing top 5 rows\n",
      "\n"
     ]
    }
   ],
   "source": [
    "empdept = emp.join(dept, 'DEPARTMENT_ID', 'inner')\n",
    "empdept.show(5)"
   ]
  },
  {
   "cell_type": "markdown",
   "id": "e4264c83-98a9-4726-86cc-bd31d7db0cc3",
   "metadata": {},
   "source": [
    "# 외부조인\n",
    "* full, left, right"
   ]
  },
  {
   "cell_type": "code",
   "execution_count": 13,
   "id": "2d7cf506-fddb-4bbf-8b60-c3da38c68665",
   "metadata": {},
   "outputs": [
    {
     "name": "stdout",
     "output_type": "stream",
     "text": [
      "+-------------+-----------+----------+---------+--------+------------------+----------+-------+------+--------------+----------+---------------+----------+-----------+\n",
      "|DEPARTMENT_ID|EMPLOYEE_ID|FIRST_NAME|LAST_NAME|   EMAIL|      PHONE_NUMBER| HIRE_DATE| JOB_ID|SALARY|COMMISSION_PCT|MANAGER_ID|DEPARTMENT_NAME|MANAGER_ID|LOCATION_ID|\n",
      "+-------------+-----------+----------+---------+--------+------------------+----------+-------+------+--------------+----------+---------------+----------+-----------+\n",
      "|         null|        178| Kimberely|    Grant|  KGRANT|011.44.1644.429263|2007-05-24| SA_REP|  7000|          0.15|       149|           null|      null|       null|\n",
      "|           10|        200|  Jennifer|   Whalen| JWHALEN|      515.123.4444|2003-09-17|AD_ASST|  4400|          null|       101| Administration|       200|       1700|\n",
      "|           20|        201|   Michael|Hartstein|MHARTSTE|      515.123.5555|2004-02-17| MK_MAN| 13000|          null|       100|      Marketing|       201|       1800|\n",
      "|           20|        202|       Pat|      Fay|    PFAY|      603.123.6666|2005-08-17| MK_REP|  6000|          null|       201|      Marketing|       201|       1800|\n",
      "|           30|        114|       Den| Raphaely|DRAPHEAL|      515.127.4561|2002-12-07| PU_MAN| 11000|          null|       100|     Purchasing|       114|       1700|\n",
      "+-------------+-----------+----------+---------+--------+------------------+----------+-------+------+--------------+----------+---------------+----------+-----------+\n",
      "only showing top 5 rows\n",
      "\n"
     ]
    }
   ],
   "source": [
    "empdept2 = emp.join(dept, 'DEPARTMENT_ID', 'outer')\n",
    "empdept2.show(5)"
   ]
  },
  {
   "cell_type": "code",
   "execution_count": 35,
   "id": "7a27adac-8af2-42a1-a2f4-a4d49e182958",
   "metadata": {},
   "outputs": [
    {
     "name": "stdout",
     "output_type": "stream",
     "text": [
      "+-------------+--------------------+\n",
      "|DEPARTMENT_ID|     DEPARTMENT_NAME|\n",
      "+-------------+--------------------+\n",
      "|          120|            Treasury|\n",
      "|          130|       Corporate Tax|\n",
      "|          140|  Control And Credit|\n",
      "|          150|Shareholder Services|\n",
      "|          160|            Benefits|\n",
      "+-------------+--------------------+\n",
      "only showing top 5 rows\n",
      "\n"
     ]
    }
   ],
   "source": [
    "# 사원이 한명도 없는 부서를 조회하세요\n",
    "# select DEPARTMENT_ID, DEPARTMENT_NAME from emp e outer join dept d using DEPARTMENT_ID where e.FIRST_NAME is null\n",
    "empdept2.filter(empdept2.FIRST_NAME.isNull())\\\n",
    ".select('DEPARTMENT_ID', 'DEPARTMENT_NAME').show(5)"
   ]
  },
  {
   "cell_type": "code",
   "execution_count": 36,
   "id": "5c3399e2-d6b0-4217-9897-6b129cf8be34",
   "metadata": {},
   "outputs": [
    {
     "name": "stdout",
     "output_type": "stream",
     "text": [
      "+----------+---------+\n",
      "|FIRST_NAME|LAST_NAME|\n",
      "+----------+---------+\n",
      "| Kimberely|    Grant|\n",
      "+----------+---------+\n",
      "\n"
     ]
    }
   ],
   "source": [
    "# 부서에 소속되지 않은 사원을 조회하세요\n",
    "# select FIRST_NAME, LAST_NAME from emp e outer join dept d using DEPARTMENT_ID where e.DEPARTMENT_ID is null\n",
    "empdept2.filter(empdept2.DEPARTMENT_ID.isNull())\\\n",
    ".select('FIRST_NAME', 'LAST_NAME').show(5)"
   ]
  },
  {
   "cell_type": "code",
   "execution_count": 81,
   "id": "9a6ced66-0d5f-474b-a59a-e69e21c8963a",
   "metadata": {},
   "outputs": [],
   "source": [
    "cust = spark.read.csv('Customers.csv', header=True, inferSchema=True)"
   ]
  },
  {
   "cell_type": "code",
   "execution_count": 82,
   "id": "b55e136c-4f55-4525-8fa0-e5157836423b",
   "metadata": {},
   "outputs": [],
   "source": [
    "ordr = spark.read.csv('Orders.csv', header=True, inferSchema=True)"
   ]
  },
  {
   "cell_type": "code",
   "execution_count": 83,
   "id": "db371cba-b1f8-4d1f-bc2d-3e9877682a84",
   "metadata": {},
   "outputs": [],
   "source": [
    "prod = spark.read.csv('Products.csv', header=True, inferSchema=True)"
   ]
  },
  {
   "cell_type": "code",
   "execution_count": 84,
   "id": "ccda3422-26c7-4e30-8cf8-49406b61bbd5",
   "metadata": {},
   "outputs": [
    {
     "name": "stdout",
     "output_type": "stream",
     "text": [
      "+------+------+----+------+------+-----+\n",
      "|userid|  name| age| grade|   job|coins|\n",
      "+------+------+----+------+------+-----+\n",
      "| apple|정소화|  20|  gold|  학생| 1000|\n",
      "|banana|김선우|  25|   vip|간호사| 2500|\n",
      "|carrot|고명석|  28|  gold|  교사| 4500|\n",
      "| melon|성원용|  35|  gold|회사원| 5000|\n",
      "|orange|김용욱|  22|silver|  학생|    0|\n",
      "| peach|오형준|null|silver|  의사|  300|\n",
      "|  pear|채광주|  31|silver|회사원|  500|\n",
      "+------+------+----+------+------+-----+\n",
      "\n"
     ]
    }
   ],
   "source": [
    "cust.show()"
   ]
  },
  {
   "cell_type": "code",
   "execution_count": 85,
   "id": "aef4fddb-4b8d-4c70-9956-6b871ac36f1b",
   "metadata": {},
   "outputs": [
    {
     "name": "stdout",
     "output_type": "stream",
     "text": [
      "+-------+------+------+------+---------------+----------+\n",
      "|orderid|userid|prodid|amount|           addr|   orddate|\n",
      "+-------+------+------+------+---------------+----------+\n",
      "|    o01| apple|   p03|    10|  서울시 마포구|2013-01-01|\n",
      "|    o02| melon|   p01|     5|  인천시 계양구|2013-01-10|\n",
      "|    o03|banana|   p06|    45|  경기도 부천시|2013-01-11|\n",
      "|    o04|carrot|   p02|     8|  부산시 금정구|2013-02-01|\n",
      "|    o05| melon|   p06|    36|  경기도 용인시|2013-02-20|\n",
      "|    o06|banana|   p01|    19|충청북도 보은군|2013-03-02|\n",
      "|    o07| apple|   p03|    22|서울시 영등포구|2013-03-15|\n",
      "|    o08|  pear|   p02|    50|  강원도 춘천시|2013-04-10|\n",
      "|    o09|banana|   p04|    15|전라남도 목포시|2013-04-11|\n",
      "|    o10|carrot|   p03|    20|  경기도 안양시|2013-05-22|\n",
      "+-------+------+------+------+---------------+----------+\n",
      "\n"
     ]
    }
   ],
   "source": [
    "ordr.show()"
   ]
  },
  {
   "cell_type": "code",
   "execution_count": 86,
   "id": "21156e9e-6ffc-4c9d-9f91-6044c1b04ef1",
   "metadata": {},
   "outputs": [
    {
     "name": "stdout",
     "output_type": "stream",
     "text": [
      "+------+----------+-----+-----+--------+\n",
      "|prodid|  prodname|stock|price|   maker|\n",
      "+------+----------+-----+-----+--------+\n",
      "|   p01|  그냥만두| 5000| 4500|대한식품|\n",
      "|   p02|  매운쫄면| 2500| 5500|민국푸드|\n",
      "|   p03|  쿵떡파이| 3600| 2600|한빛제과|\n",
      "|   p04|맛난초콜렛| 1250| 2500|한빛제과|\n",
      "|   p05|  얼큰라면| 2200| 1200|대한식품|\n",
      "|   p06|  통통우동| 1000| 1550|민국푸드|\n",
      "|   p07|달콤비스켓| 1650| 1500|한빛제과|\n",
      "+------+----------+-----+-----+--------+\n",
      "\n"
     ]
    }
   ],
   "source": [
    "prod.show()"
   ]
  },
  {
   "cell_type": "code",
   "execution_count": 90,
   "id": "453333a1-dfb0-4af7-8768-1bb21cdfdce1",
   "metadata": {},
   "outputs": [
    {
     "name": "stdout",
     "output_type": "stream",
     "text": [
      "+------+-------+------+------+---------------+----------+----------+-----+-----+--------+\n",
      "|prodid|orderid|userid|amount|           addr|   orddate|  prodname|stock|price|   maker|\n",
      "+------+-------+------+------+---------------+----------+----------+-----+-----+--------+\n",
      "|   p03|    o01| apple|    10|  서울시 마포구|2013-01-01|  쿵떡파이| 3600| 2600|한빛제과|\n",
      "|   p01|    o02| melon|     5|  인천시 계양구|2013-01-10|  그냥만두| 5000| 4500|대한식품|\n",
      "|   p06|    o03|banana|    45|  경기도 부천시|2013-01-11|  통통우동| 1000| 1550|민국푸드|\n",
      "|   p02|    o04|carrot|     8|  부산시 금정구|2013-02-01|  매운쫄면| 2500| 5500|민국푸드|\n",
      "|   p06|    o05| melon|    36|  경기도 용인시|2013-02-20|  통통우동| 1000| 1550|민국푸드|\n",
      "|   p01|    o06|banana|    19|충청북도 보은군|2013-03-02|  그냥만두| 5000| 4500|대한식품|\n",
      "|   p03|    o07| apple|    22|서울시 영등포구|2013-03-15|  쿵떡파이| 3600| 2600|한빛제과|\n",
      "|   p02|    o08|  pear|    50|  강원도 춘천시|2013-04-10|  매운쫄면| 2500| 5500|민국푸드|\n",
      "|   p04|    o09|banana|    15|전라남도 목포시|2013-04-11|맛난초콜렛| 1250| 2500|한빛제과|\n",
      "|   p03|    o10|carrot|    20|  경기도 안양시|2013-05-22|  쿵떡파이| 3600| 2600|한빛제과|\n",
      "+------+-------+------+------+---------------+----------+----------+-----+-----+--------+\n",
      "\n",
      "+--------+-----+\n",
      "|prodname|price|\n",
      "+--------+-----+\n",
      "|매운쫄면| 5500|\n",
      "|쿵떡파이| 2600|\n",
      "+--------+-----+\n",
      "\n"
     ]
    }
   ],
   "source": [
    "# 당근carrot 고객이 주문한 상품의 가격은 무엇인지 조회하세요\n",
    "ordrprod = ordr.join(prod, 'prodid', 'inner')\n",
    "ordrprod.show()\n",
    "ordrprod.filter(ordrprod.userid == 'carrot').\\\n",
    "select('prodname', 'price').show()"
   ]
  },
  {
   "cell_type": "code",
   "execution_count": 95,
   "id": "a3c8a5bd-ccf8-40e3-83c6-f779c918ba32",
   "metadata": {
    "tags": []
   },
   "outputs": [
    {
     "name": "stdout",
     "output_type": "stream",
     "text": [
      "+------+-------+------+------+---------------+----------+------+----+------+------+-----+\n",
      "|userid|orderid|prodid|amount|           addr|   orddate|  name| age| grade|   job|coins|\n",
      "+------+-------+------+------+---------------+----------+------+----+------+------+-----+\n",
      "| apple|    o01|   p03|    10|  서울시 마포구|2013-01-01|정소화|  20|  gold|  학생| 1000|\n",
      "| apple|    o07|   p03|    22|서울시 영등포구|2013-03-15|정소화|  20|  gold|  학생| 1000|\n",
      "|banana|    o03|   p06|    45|  경기도 부천시|2013-01-11|김선우|  25|   vip|간호사| 2500|\n",
      "|banana|    o06|   p01|    19|충청북도 보은군|2013-03-02|김선우|  25|   vip|간호사| 2500|\n",
      "|banana|    o09|   p04|    15|전라남도 목포시|2013-04-11|김선우|  25|   vip|간호사| 2500|\n",
      "|carrot|    o04|   p02|     8|  부산시 금정구|2013-02-01|고명석|  28|  gold|  교사| 4500|\n",
      "|carrot|    o10|   p03|    20|  경기도 안양시|2013-05-22|고명석|  28|  gold|  교사| 4500|\n",
      "| melon|    o02|   p01|     5|  인천시 계양구|2013-01-10|성원용|  35|  gold|회사원| 5000|\n",
      "| melon|    o05|   p06|    36|  경기도 용인시|2013-02-20|성원용|  35|  gold|회사원| 5000|\n",
      "|orange|   null|  null|  null|           null|      null|김용욱|  22|silver|  학생|    0|\n",
      "| peach|   null|  null|  null|           null|      null|오형준|null|silver|  의사|  300|\n",
      "|  pear|    o08|   p02|    50|  강원도 춘천시|2013-04-10|채광주|  31|silver|회사원|  500|\n",
      "+------+-------+------+------+---------------+----------+------+----+------+------+-----+\n",
      "\n"
     ]
    }
   ],
   "source": [
    "# 주문을 한번도 하지 않은 고객의 이름, 등급을 조회하세요\n",
    "ordrcust = ordr.join(cust, 'userid', 'outer')\n",
    "ordrcust.show()"
   ]
  },
  {
   "cell_type": "code",
   "execution_count": 97,
   "id": "77ef68d2-19a1-4108-aa4f-330fc49b5153",
   "metadata": {},
   "outputs": [
    {
     "name": "stdout",
     "output_type": "stream",
     "text": [
      "+------+------+\n",
      "|  name| grade|\n",
      "+------+------+\n",
      "|김용욱|silver|\n",
      "|오형준|silver|\n",
      "+------+------+\n",
      "\n"
     ]
    }
   ],
   "source": [
    "ordrcust.filter(ordrcust.orderid.isNull())\\\n",
    ".select('name', 'grade').show()"
   ]
  },
  {
   "cell_type": "code",
   "execution_count": 98,
   "id": "62c42264-5936-42cd-ac29-d33e20aa1e5b",
   "metadata": {
    "tags": []
   },
   "outputs": [
    {
     "name": "stdout",
     "output_type": "stream",
     "text": [
      "+------+-------+------+------+---------------+----------+----------+-----+-----+--------+\n",
      "|prodid|orderid|userid|amount|           addr|   orddate|  prodname|stock|price|   maker|\n",
      "+------+-------+------+------+---------------+----------+----------+-----+-----+--------+\n",
      "|   p01|    o02| melon|     5|  인천시 계양구|2013-01-10|  그냥만두| 5000| 4500|대한식품|\n",
      "|   p01|    o06|banana|    19|충청북도 보은군|2013-03-02|  그냥만두| 5000| 4500|대한식품|\n",
      "|   p02|    o04|carrot|     8|  부산시 금정구|2013-02-01|  매운쫄면| 2500| 5500|민국푸드|\n",
      "|   p02|    o08|  pear|    50|  강원도 춘천시|2013-04-10|  매운쫄면| 2500| 5500|민국푸드|\n",
      "|   p03|    o01| apple|    10|  서울시 마포구|2013-01-01|  쿵떡파이| 3600| 2600|한빛제과|\n",
      "|   p03|    o07| apple|    22|서울시 영등포구|2013-03-15|  쿵떡파이| 3600| 2600|한빛제과|\n",
      "|   p03|    o10|carrot|    20|  경기도 안양시|2013-05-22|  쿵떡파이| 3600| 2600|한빛제과|\n",
      "|   p04|    o09|banana|    15|전라남도 목포시|2013-04-11|맛난초콜렛| 1250| 2500|한빛제과|\n",
      "|   p05|   null|  null|  null|           null|      null|  얼큰라면| 2200| 1200|대한식품|\n",
      "|   p06|    o03|banana|    45|  경기도 부천시|2013-01-11|  통통우동| 1000| 1550|민국푸드|\n",
      "|   p06|    o05| melon|    36|  경기도 용인시|2013-02-20|  통통우동| 1000| 1550|민국푸드|\n",
      "|   p07|   null|  null|  null|           null|      null|달콤비스켓| 1650| 1500|한빛제과|\n",
      "+------+-------+------+------+---------------+----------+----------+-----+-----+--------+\n",
      "\n"
     ]
    }
   ],
   "source": [
    "# 주문이 한번도 되지 않은 제품이름, 제조업체를 조회하세요\n",
    "ordrprod = ordr.join(prod, 'prodid', 'outer')\n",
    "ordrprod.show()"
   ]
  },
  {
   "cell_type": "code",
   "execution_count": 100,
   "id": "b0d7533d-7a52-43ac-bec9-0928912ef054",
   "metadata": {},
   "outputs": [
    {
     "name": "stdout",
     "output_type": "stream",
     "text": [
      "+----------+--------+\n",
      "|  prodname|   maker|\n",
      "+----------+--------+\n",
      "|  얼큰라면|대한식품|\n",
      "|달콤비스켓|한빛제과|\n",
      "+----------+--------+\n",
      "\n"
     ]
    }
   ],
   "source": [
    "ordrprod.filter(ordrprod.orderid.isNull())\\\n",
    ".select('prodname', 'maker').show()"
   ]
  },
  {
   "cell_type": "code",
   "execution_count": 101,
   "id": "a5aee50f-5c61-4ae5-946b-bd1bdb1a921d",
   "metadata": {
    "tags": []
   },
   "outputs": [
    {
     "name": "stdout",
     "output_type": "stream",
     "text": [
      "+------+------+-------+------+---------------+----------+------+----+------+------+-----+----------+-----+-----+--------+\n",
      "|prodid|userid|orderid|amount|           addr|   orddate|  name| age| grade|   job|coins|  prodname|stock|price|   maker|\n",
      "+------+------+-------+------+---------------+----------+------+----+------+------+-----+----------+-----+-----+--------+\n",
      "|  null|orange|   null|  null|           null|      null|김용욱|  22|silver|  학생|    0|      null| null| null|    null|\n",
      "|  null| peach|   null|  null|           null|      null|오형준|null|silver|  의사|  300|      null| null| null|    null|\n",
      "|   p01|banana|    o06|    19|충청북도 보은군|2013-03-02|김선우|  25|   vip|간호사| 2500|  그냥만두| 5000| 4500|대한식품|\n",
      "|   p01| melon|    o02|     5|  인천시 계양구|2013-01-10|성원용|  35|  gold|회사원| 5000|  그냥만두| 5000| 4500|대한식품|\n",
      "|   p02|carrot|    o04|     8|  부산시 금정구|2013-02-01|고명석|  28|  gold|  교사| 4500|  매운쫄면| 2500| 5500|민국푸드|\n",
      "|   p02|  pear|    o08|    50|  강원도 춘천시|2013-04-10|채광주|  31|silver|회사원|  500|  매운쫄면| 2500| 5500|민국푸드|\n",
      "|   p03| apple|    o01|    10|  서울시 마포구|2013-01-01|정소화|  20|  gold|  학생| 1000|  쿵떡파이| 3600| 2600|한빛제과|\n",
      "|   p03| apple|    o07|    22|서울시 영등포구|2013-03-15|정소화|  20|  gold|  학생| 1000|  쿵떡파이| 3600| 2600|한빛제과|\n",
      "|   p03|carrot|    o10|    20|  경기도 안양시|2013-05-22|고명석|  28|  gold|  교사| 4500|  쿵떡파이| 3600| 2600|한빛제과|\n",
      "|   p04|banana|    o09|    15|전라남도 목포시|2013-04-11|김선우|  25|   vip|간호사| 2500|맛난초콜렛| 1250| 2500|한빛제과|\n",
      "|   p05|  null|   null|  null|           null|      null|  null|null|  null|  null| null|  얼큰라면| 2200| 1200|대한식품|\n",
      "|   p06|banana|    o03|    45|  경기도 부천시|2013-01-11|김선우|  25|   vip|간호사| 2500|  통통우동| 1000| 1550|민국푸드|\n",
      "|   p06| melon|    o05|    36|  경기도 용인시|2013-02-20|성원용|  35|  gold|회사원| 5000|  통통우동| 1000| 1550|민국푸드|\n",
      "|   p07|  null|   null|  null|           null|      null|  null|null|  null|  null| null|달콤비스켓| 1650| 1500|한빛제과|\n",
      "+------+------+-------+------+---------------+----------+------+----+------+------+-----+----------+-----+-----+--------+\n",
      "\n"
     ]
    }
   ],
   "source": [
    "# 테이블 3개 조인하기\n",
    "ordrcustprod = ordrcust.join(prod, 'prodid', 'outer')\n",
    "ordrcustprod.show()"
   ]
  },
  {
   "cell_type": "code",
   "execution_count": null,
   "id": "0e5b920a-5362-4128-a9d0-07a5233ed167",
   "metadata": {},
   "outputs": [],
   "source": []
  },
  {
   "cell_type": "code",
   "execution_count": null,
   "id": "fb865048-aeb9-4a86-b1b0-0eb0e9cd8e9b",
   "metadata": {},
   "outputs": [],
   "source": []
  },
  {
   "cell_type": "code",
   "execution_count": null,
   "id": "0c66bc9e-fd29-4153-9267-f682a0e0d075",
   "metadata": {},
   "outputs": [],
   "source": []
  },
  {
   "cell_type": "code",
   "execution_count": null,
   "id": "dbb8abb2-aafe-44bd-99b2-9288e6269f72",
   "metadata": {},
   "outputs": [],
   "source": []
  },
  {
   "cell_type": "code",
   "execution_count": null,
   "id": "eb92c1a9-df38-44cf-b70f-8d056457f510",
   "metadata": {},
   "outputs": [],
   "source": []
  }
 ],
 "metadata": {
  "kernelspec": {
   "display_name": "Python 3",
   "language": "python",
   "name": "python3"
  },
  "language_info": {
   "codemirror_mode": {
    "name": "ipython",
    "version": 3
   },
   "file_extension": ".py",
   "mimetype": "text/x-python",
   "name": "python",
   "nbconvert_exporter": "python",
   "pygments_lexer": "ipython3",
   "version": "3.8.12"
  }
 },
 "nbformat": 4,
 "nbformat_minor": 5
}
